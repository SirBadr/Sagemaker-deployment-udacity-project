{
 "cells": [
  {
   "cell_type": "markdown",
   "metadata": {},
   "source": [
    "# Creating a Sentiment Analysis Web App\n",
    "## Using PyTorch and SageMaker\n",
    "\n",
    "_Deep Learning Nanodegree Program | Deployment_\n",
    "\n",
    "---\n",
    "\n",
    "Now that we have a basic understanding of how SageMaker works we will try to use it to construct a complete project from end to end. Our goal will be to have a simple web page which a user can use to enter a movie review. The web page will then send the review off to our deployed model which will predict the sentiment of the entered review.\n",
    "\n",
    "## Instructions\n",
    "\n",
    "Some template code has already been provided for you, and you will need to implement additional functionality to successfully complete this notebook. You will not need to modify the included code beyond what is requested. Sections that begin with '**TODO**' in the header indicate that you need to complete or implement some portion within them. Instructions will be provided for each section and the specifics of the implementation are marked in the code block with a `# TODO: ...` comment. Please be sure to read the instructions carefully!\n",
    "\n",
    "In addition to implementing code, there will be questions for you to answer which relate to the task and your implementation. Each section where you will answer a question is preceded by a '**Question:**' header. Carefully read each question and provide your answer below the '**Answer:**' header by editing the Markdown cell.\n",
    "\n",
    "> **Note**: Code and Markdown cells can be executed using the **Shift+Enter** keyboard shortcut. In addition, a cell can be edited by typically clicking it (double-click for Markdown cells) or by pressing **Enter** while it is highlighted.\n",
    "\n",
    "## General Outline\n",
    "\n",
    "Recall the general outline for SageMaker projects using a notebook instance.\n",
    "\n",
    "1. Download or otherwise retrieve the data.\n",
    "2. Process / Prepare the data.\n",
    "3. Upload the processed data to S3.\n",
    "4. Train a chosen model.\n",
    "5. Test the trained model (typically using a batch transform job).\n",
    "6. Deploy the trained model.\n",
    "7. Use the deployed model.\n",
    "\n",
    "For this project, you will be following the steps in the general outline with some modifications. \n",
    "\n",
    "First, you will not be testing the model in its own step. You will still be testing the model, however, you will do it by deploying your model and then using the deployed model by sending the test data to it. One of the reasons for doing this is so that you can make sure that your deployed model is working correctly before moving forward.\n",
    "\n",
    "In addition, you will deploy and use your trained model a second time. In the second iteration you will customize the way that your trained model is deployed by including some of your own code. In addition, your newly deployed model will be used in the sentiment analysis web app."
   ]
  },
  {
   "cell_type": "code",
   "execution_count": 1,
   "metadata": {},
   "outputs": [
    {
     "name": "stdout",
     "output_type": "stream",
     "text": [
      "Requirement already satisfied: sagemaker==1.72.0 in /home/ec2-user/anaconda3/envs/pytorch_p36/lib/python3.6/site-packages (1.72.0)\n",
      "Requirement already satisfied: protobuf3-to-dict>=0.1.5 in /home/ec2-user/anaconda3/envs/pytorch_p36/lib/python3.6/site-packages (from sagemaker==1.72.0) (0.1.5)\n",
      "Requirement already satisfied: smdebug-rulesconfig==0.1.4 in /home/ec2-user/anaconda3/envs/pytorch_p36/lib/python3.6/site-packages (from sagemaker==1.72.0) (0.1.4)\n",
      "Requirement already satisfied: importlib-metadata>=1.4.0 in /home/ec2-user/anaconda3/envs/pytorch_p36/lib/python3.6/site-packages (from sagemaker==1.72.0) (4.5.0)\n",
      "Requirement already satisfied: packaging>=20.0 in /home/ec2-user/anaconda3/envs/pytorch_p36/lib/python3.6/site-packages (from sagemaker==1.72.0) (20.9)\n",
      "Requirement already satisfied: protobuf>=3.1 in /home/ec2-user/anaconda3/envs/pytorch_p36/lib/python3.6/site-packages (from sagemaker==1.72.0) (3.17.2)\n",
      "Requirement already satisfied: boto3>=1.14.12 in /home/ec2-user/anaconda3/envs/pytorch_p36/lib/python3.6/site-packages (from sagemaker==1.72.0) (1.18.21)\n",
      "Requirement already satisfied: scipy>=0.19.0 in /home/ec2-user/anaconda3/envs/pytorch_p36/lib/python3.6/site-packages (from sagemaker==1.72.0) (1.5.3)\n",
      "Requirement already satisfied: numpy>=1.9.0 in /home/ec2-user/anaconda3/envs/pytorch_p36/lib/python3.6/site-packages (from sagemaker==1.72.0) (1.19.5)\n",
      "Requirement already satisfied: jmespath<1.0.0,>=0.7.1 in /home/ec2-user/anaconda3/envs/pytorch_p36/lib/python3.6/site-packages (from boto3>=1.14.12->sagemaker==1.72.0) (0.10.0)\n",
      "Requirement already satisfied: botocore<1.22.0,>=1.21.21 in /home/ec2-user/anaconda3/envs/pytorch_p36/lib/python3.6/site-packages (from boto3>=1.14.12->sagemaker==1.72.0) (1.21.21)\n",
      "Requirement already satisfied: s3transfer<0.6.0,>=0.5.0 in /home/ec2-user/anaconda3/envs/pytorch_p36/lib/python3.6/site-packages (from boto3>=1.14.12->sagemaker==1.72.0) (0.5.0)\n",
      "Requirement already satisfied: urllib3<1.27,>=1.25.4 in /home/ec2-user/anaconda3/envs/pytorch_p36/lib/python3.6/site-packages (from botocore<1.22.0,>=1.21.21->boto3>=1.14.12->sagemaker==1.72.0) (1.26.5)\n",
      "Requirement already satisfied: python-dateutil<3.0.0,>=2.1 in /home/ec2-user/anaconda3/envs/pytorch_p36/lib/python3.6/site-packages (from botocore<1.22.0,>=1.21.21->boto3>=1.14.12->sagemaker==1.72.0) (2.8.1)\n",
      "Requirement already satisfied: typing-extensions>=3.6.4 in /home/ec2-user/anaconda3/envs/pytorch_p36/lib/python3.6/site-packages (from importlib-metadata>=1.4.0->sagemaker==1.72.0) (3.10.0.0)\n",
      "Requirement already satisfied: zipp>=0.5 in /home/ec2-user/anaconda3/envs/pytorch_p36/lib/python3.6/site-packages (from importlib-metadata>=1.4.0->sagemaker==1.72.0) (3.4.1)\n",
      "Requirement already satisfied: pyparsing>=2.0.2 in /home/ec2-user/anaconda3/envs/pytorch_p36/lib/python3.6/site-packages (from packaging>=20.0->sagemaker==1.72.0) (2.4.7)\n",
      "Requirement already satisfied: six>=1.9 in /home/ec2-user/anaconda3/envs/pytorch_p36/lib/python3.6/site-packages (from protobuf>=3.1->sagemaker==1.72.0) (1.16.0)\n",
      "\u001b[33mWARNING: You are using pip version 21.1.3; however, version 21.2.4 is available.\n",
      "You should consider upgrading via the '/home/ec2-user/anaconda3/envs/pytorch_p36/bin/python -m pip install --upgrade pip' command.\u001b[0m\n"
     ]
    }
   ],
   "source": [
    "# Make sure that we use SageMaker 1.x\n",
    "!pip install sagemaker==1.72.0"
   ]
  },
  {
   "cell_type": "markdown",
   "metadata": {},
   "source": [
    "## Step 1: Downloading the data\n",
    "\n",
    "As in the XGBoost in SageMaker notebook, we will be using the [IMDb dataset](http://ai.stanford.edu/~amaas/data/sentiment/)\n",
    "\n",
    "> Maas, Andrew L., et al. [Learning Word Vectors for Sentiment Analysis](http://ai.stanford.edu/~amaas/data/sentiment/). In _Proceedings of the 49th Annual Meeting of the Association for Computational Linguistics: Human Language Technologies_. Association for Computational Linguistics, 2011."
   ]
  },
  {
   "cell_type": "code",
   "execution_count": 2,
   "metadata": {},
   "outputs": [
    {
     "name": "stdout",
     "output_type": "stream",
     "text": [
      "mkdir: cannot create directory ‘../data’: File exists\n",
      "--2021-08-18 13:27:38--  http://ai.stanford.edu/~amaas/data/sentiment/aclImdb_v1.tar.gz\n",
      "Resolving ai.stanford.edu (ai.stanford.edu)... 171.64.68.10\n",
      "Connecting to ai.stanford.edu (ai.stanford.edu)|171.64.68.10|:80... connected.\n",
      "HTTP request sent, awaiting response... 200 OK\n",
      "Length: 84125825 (80M) [application/x-gzip]\n",
      "Saving to: ‘../data/aclImdb_v1.tar.gz’\n",
      "\n",
      "../data/aclImdb_v1. 100%[===================>]  80.23M  24.7MB/s    in 4.0s    \n",
      "\n",
      "2021-08-18 13:27:43 (20.1 MB/s) - ‘../data/aclImdb_v1.tar.gz’ saved [84125825/84125825]\n",
      "\n"
     ]
    }
   ],
   "source": [
    "%mkdir ../data\n",
    "!wget -O ../data/aclImdb_v1.tar.gz http://ai.stanford.edu/~amaas/data/sentiment/aclImdb_v1.tar.gz\n",
    "!tar -zxf ../data/aclImdb_v1.tar.gz -C ../data"
   ]
  },
  {
   "cell_type": "markdown",
   "metadata": {},
   "source": [
    "## Step 2: Preparing and Processing the data\n",
    "\n",
    "Also, as in the XGBoost notebook, we will be doing some initial data processing. The first few steps are the same as in the XGBoost example. To begin with, we will read in each of the reviews and combine them into a single input structure. Then, we will split the dataset into a training set and a testing set."
   ]
  },
  {
   "cell_type": "code",
   "execution_count": 3,
   "metadata": {},
   "outputs": [],
   "source": [
    "import os\n",
    "import glob\n",
    "\n",
    "def read_imdb_data(data_dir='../data/aclImdb'):\n",
    "    data = {}\n",
    "    labels = {}\n",
    "    \n",
    "    for data_type in ['train', 'test']:\n",
    "        data[data_type] = {}\n",
    "        labels[data_type] = {}\n",
    "        \n",
    "        for sentiment in ['pos', 'neg']:\n",
    "            data[data_type][sentiment] = []\n",
    "            labels[data_type][sentiment] = []\n",
    "            \n",
    "            path = os.path.join(data_dir, data_type, sentiment, '*.txt')\n",
    "            files = glob.glob(path)\n",
    "            \n",
    "            for f in files:\n",
    "                with open(f) as review:\n",
    "                    data[data_type][sentiment].append(review.read())\n",
    "                    # Here we represent a positive review by '1' and a negative review by '0'\n",
    "                    labels[data_type][sentiment].append(1 if sentiment == 'pos' else 0)\n",
    "                    \n",
    "            assert len(data[data_type][sentiment]) == len(labels[data_type][sentiment]), \\\n",
    "                    \"{}/{} data size does not match labels size\".format(data_type, sentiment)\n",
    "                \n",
    "    return data, labels"
   ]
  },
  {
   "cell_type": "code",
   "execution_count": 4,
   "metadata": {},
   "outputs": [
    {
     "name": "stdout",
     "output_type": "stream",
     "text": [
      "IMDB reviews: train = 12500 pos / 12500 neg, test = 12500 pos / 12500 neg\n"
     ]
    }
   ],
   "source": [
    "data, labels = read_imdb_data()\n",
    "print(\"IMDB reviews: train = {} pos / {} neg, test = {} pos / {} neg\".format(\n",
    "            len(data['train']['pos']), len(data['train']['neg']),\n",
    "            len(data['test']['pos']), len(data['test']['neg'])))"
   ]
  },
  {
   "cell_type": "markdown",
   "metadata": {},
   "source": [
    "Now that we've read the raw training and testing data from the downloaded dataset, we will combine the positive and negative reviews and shuffle the resulting records."
   ]
  },
  {
   "cell_type": "code",
   "execution_count": 5,
   "metadata": {},
   "outputs": [],
   "source": [
    "from sklearn.utils import shuffle\n",
    "\n",
    "def prepare_imdb_data(data, labels):\n",
    "    \"\"\"Prepare training and test sets from IMDb movie reviews.\"\"\"\n",
    "    \n",
    "    #Combine positive and negative reviews and labels\n",
    "    data_train = data['train']['pos'] + data['train']['neg']\n",
    "    data_test = data['test']['pos'] + data['test']['neg']\n",
    "    labels_train = labels['train']['pos'] + labels['train']['neg']\n",
    "    labels_test = labels['test']['pos'] + labels['test']['neg']\n",
    "    \n",
    "    #Shuffle reviews and corresponding labels within training and test sets\n",
    "    data_train, labels_train = shuffle(data_train, labels_train)\n",
    "    data_test, labels_test = shuffle(data_test, labels_test)\n",
    "    \n",
    "    # Return a unified training data, test data, training labels, test labets\n",
    "    return data_train, data_test, labels_train, labels_test"
   ]
  },
  {
   "cell_type": "code",
   "execution_count": 6,
   "metadata": {},
   "outputs": [
    {
     "name": "stdout",
     "output_type": "stream",
     "text": [
      "IMDb reviews (combined): train = 25000, test = 25000\n"
     ]
    }
   ],
   "source": [
    "train_X, test_X, train_y, test_y = prepare_imdb_data(data, labels)\n",
    "print(\"IMDb reviews (combined): train = {}, test = {}\".format(len(train_X), len(test_X)))"
   ]
  },
  {
   "cell_type": "markdown",
   "metadata": {},
   "source": [
    "Now that we have our training and testing sets unified and prepared, we should do a quick check and see an example of the data our model will be trained on. This is generally a good idea as it allows you to see how each of the further processing steps affects the reviews and it also ensures that the data has been loaded correctly."
   ]
  },
  {
   "cell_type": "code",
   "execution_count": 7,
   "metadata": {},
   "outputs": [
    {
     "name": "stdout",
     "output_type": "stream",
     "text": [
      "I remember watching this movie several times as a very young kid, and there were parts of it (many in fact) that I did not understand. I think I have seen it once as an adult, and I then understood those parts. The only problem with viewing it as an adult was that it was not entertaining to me at all. So what kind of movie is this? Is it a \"kids movie\"? Not hardly. It contains language and subject matter not suitable for kids. Is it a hyperbole of what every parent feels like they are going through with their own children? Maybe, but then why wouldn't it focus more on John Ritter's character instead of Junior? When a film has a 7-year-old as its main character, in order to do well with it's audience, it should be a movie for the seven and under crowd, otherwise people older than that will have no way to relate (even 8-year-olds wouldn't want to see a movie about a kid who is whole year younger than them). I'm pretty sure this film did not do well in the box office, and the reason has to be because it was unable to find a niche in the market.\n",
      "0\n"
     ]
    }
   ],
   "source": [
    "print(train_X[100])\n",
    "print(train_y[100])"
   ]
  },
  {
   "cell_type": "markdown",
   "metadata": {},
   "source": [
    "The first step in processing the reviews is to make sure that any html tags that appear should be removed. In addition we wish to tokenize our input, that way words such as *entertained* and *entertaining* are considered the same with regard to sentiment analysis."
   ]
  },
  {
   "cell_type": "code",
   "execution_count": 8,
   "metadata": {},
   "outputs": [],
   "source": [
    "import nltk\n",
    "from nltk.corpus import stopwords\n",
    "from nltk.stem.porter import *\n",
    "\n",
    "import re\n",
    "from bs4 import BeautifulSoup\n",
    "\n",
    "def review_to_words(review):\n",
    "    nltk.download(\"stopwords\", quiet=True)\n",
    "    stemmer = PorterStemmer()\n",
    "    \n",
    "    text = BeautifulSoup(review, \"html.parser\").get_text() # Remove HTML tags\n",
    "    text = re.sub(r\"[^a-zA-Z0-9]\", \" \", text.lower()) # Convert to lower case\n",
    "    words = text.split() # Split string into words\n",
    "    words = [w for w in words if w not in stopwords.words(\"english\")] # Remove stopwords\n",
    "    words = [PorterStemmer().stem(w) for w in words] # stem\n",
    "    \n",
    "    return words"
   ]
  },
  {
   "cell_type": "markdown",
   "metadata": {},
   "source": [
    "The `review_to_words` method defined above uses `BeautifulSoup` to remove any html tags that appear and uses the `nltk` package to tokenize the reviews. As a check to ensure we know how everything is working, try applying `review_to_words` to one of the reviews in the training set."
   ]
  },
  {
   "cell_type": "code",
   "execution_count": 9,
   "metadata": {},
   "outputs": [
    {
     "name": "stdout",
     "output_type": "stream",
     "text": [
      "['rememb', 'watch', 'movi', 'sever', 'time', 'young', 'kid', 'part', 'mani', 'fact', 'understand', 'think', 'seen', 'adult', 'understood', 'part', 'problem', 'view', 'adult', 'entertain', 'kind', 'movi', 'kid', 'movi', 'hardli', 'contain', 'languag', 'subject', 'matter', 'suitabl', 'kid', 'hyperbol', 'everi', 'parent', 'feel', 'like', 'go', 'children', 'mayb', 'focu', 'john', 'ritter', 'charact', 'instead', 'junior', 'film', '7', 'year', 'old', 'main', 'charact', 'order', 'well', 'audienc', 'movi', 'seven', 'crowd', 'otherwis', 'peopl', 'older', 'way', 'relat', 'even', '8', 'year', 'old', 'want', 'see', 'movi', 'kid', 'whole', 'year', 'younger', 'pretti', 'sure', 'film', 'well', 'box', 'offic', 'reason', 'unabl', 'find', 'nich', 'market']\n"
     ]
    }
   ],
   "source": [
    "# TODO: Apply review_to_words to a review (train_X[100] or any other review)\n",
    "print(review_to_words(train_X[100]))"
   ]
  },
  {
   "cell_type": "markdown",
   "metadata": {},
   "source": [
    "**Question:** Above we mentioned that `review_to_words` method removes html formatting and allows us to tokenize the words found in a review, for example, converting *entertained* and *entertaining* into *entertain* so that they are treated as though they are the same word. What else, if anything, does this method do to the input?"
   ]
  },
  {
   "cell_type": "markdown",
   "metadata": {},
   "source": [
    "**Answer:** it removes all the html formatting like \"< br />\" and the other html stuff"
   ]
  },
  {
   "cell_type": "markdown",
   "metadata": {},
   "source": [
    "The method below applies the `review_to_words` method to each of the reviews in the training and testing datasets. In addition it caches the results. This is because performing this processing step can take a long time. This way if you are unable to complete the notebook in the current session, you can come back without needing to process the data a second time."
   ]
  },
  {
   "cell_type": "code",
   "execution_count": 10,
   "metadata": {},
   "outputs": [],
   "source": [
    "import pickle\n",
    "\n",
    "cache_dir = os.path.join(\"../cache\", \"sentiment_analysis\")  # where to store cache files\n",
    "os.makedirs(cache_dir, exist_ok=True)  # ensure cache directory exists\n",
    "\n",
    "def preprocess_data(data_train, data_test, labels_train, labels_test,\n",
    "                    cache_dir=cache_dir, cache_file=\"preprocessed_data.pkl\"):\n",
    "    \"\"\"Convert each review to words; read from cache if available.\"\"\"\n",
    "\n",
    "    # If cache_file is not None, try to read from it first\n",
    "    cache_data = None\n",
    "    if cache_file is not None:\n",
    "        try:\n",
    "            with open(os.path.join(cache_dir, cache_file), \"rb\") as f:\n",
    "                cache_data = pickle.load(f)\n",
    "            print(\"Read preprocessed data from cache file:\", cache_file)\n",
    "        except:\n",
    "            pass  # unable to read from cache, but that's okay\n",
    "    \n",
    "    # If cache is missing, then do the heavy lifting\n",
    "    if cache_data is None:\n",
    "        # Preprocess training and test data to obtain words for each review\n",
    "        #words_train = list(map(review_to_words, data_train))\n",
    "        #words_test = list(map(review_to_words, data_test))\n",
    "        words_train = [review_to_words(review) for review in data_train]\n",
    "        words_test = [review_to_words(review) for review in data_test]\n",
    "        \n",
    "        # Write to cache file for future runs\n",
    "        if cache_file is not None:\n",
    "            cache_data = dict(words_train=words_train, words_test=words_test,\n",
    "                              labels_train=labels_train, labels_test=labels_test)\n",
    "            with open(os.path.join(cache_dir, cache_file), \"wb\") as f:\n",
    "                pickle.dump(cache_data, f)\n",
    "            print(\"Wrote preprocessed data to cache file:\", cache_file)\n",
    "    else:\n",
    "        # Unpack data loaded from cache file\n",
    "        words_train, words_test, labels_train, labels_test = (cache_data['words_train'],\n",
    "                cache_data['words_test'], cache_data['labels_train'], cache_data['labels_test'])\n",
    "    \n",
    "    return words_train, words_test, labels_train, labels_test"
   ]
  },
  {
   "cell_type": "code",
   "execution_count": 11,
   "metadata": {},
   "outputs": [
    {
     "name": "stdout",
     "output_type": "stream",
     "text": [
      "Read preprocessed data from cache file: preprocessed_data.pkl\n"
     ]
    }
   ],
   "source": [
    "# Preprocess data\n",
    "train_X, test_X, train_y, test_y = preprocess_data(train_X, test_X, train_y, test_y)"
   ]
  },
  {
   "cell_type": "markdown",
   "metadata": {},
   "source": [
    "## Transform the data\n",
    "\n",
    "In the XGBoost notebook we transformed the data from its word representation to a bag-of-words feature representation. For the model we are going to construct in this notebook we will construct a feature representation which is very similar. To start, we will represent each word as an integer. Of course, some of the words that appear in the reviews occur very infrequently and so likely don't contain much information for the purposes of sentiment analysis. The way we will deal with this problem is that we will fix the size of our working vocabulary and we will only include the words that appear most frequently. We will then combine all of the infrequent words into a single category and, in our case, we will label it as `1`.\n",
    "\n",
    "Since we will be using a recurrent neural network, it will be convenient if the length of each review is the same. To do this, we will fix a size for our reviews and then pad short reviews with the category 'no word' (which we will label `0`) and truncate long reviews."
   ]
  },
  {
   "cell_type": "markdown",
   "metadata": {},
   "source": [
    "### (TODO) Create a word dictionary\n",
    "\n",
    "To begin with, we need to construct a way to map words that appear in the reviews to integers. Here we fix the size of our vocabulary (including the 'no word' and 'infrequent' categories) to be `5000` but you may wish to change this to see how it affects the model.\n",
    "\n",
    "> **TODO:** Complete the implementation for the `build_dict()` method below. Note that even though the vocab_size is set to `5000`, we only want to construct a mapping for the most frequently appearing `4998` words. This is because we want to reserve the special labels `0` for 'no word' and `1` for 'infrequent word'."
   ]
  },
  {
   "cell_type": "code",
   "execution_count": 12,
   "metadata": {},
   "outputs": [],
   "source": [
    "import numpy as np\n",
    "from collections import Counter, OrderedDict\n",
    "\n",
    "def build_dict(data, vocab_size = 5000):\n",
    "    \"\"\"Construct and return a dictionary mapping each of the most frequently appearing words to a unique integer.\"\"\"\n",
    "    \n",
    "    # TODO: Determine how often each word appears in `data`. Note that `data` is a list of sentences and that a\n",
    "    #       sentence is a list of words.\n",
    "    \n",
    "    word_counter = Counter() # A dict storing the words that appear in the reviews along with how often they occur\n",
    "    \n",
    "    for review in data:\n",
    "        word_counter.update(review)\n",
    "\n",
    "    word_count = dict(word_counter.most_common())\n",
    "    #print(word_count)\n",
    "    # TODO: Sort the words found in `data` so that sorted_words[0] is the most frequently appearing word and\n",
    "    #       sorted_words[-1] is the least frequently appearing word.\n",
    "    \n",
    "    sorted_words = list(word_count.keys())\n",
    "    #print(sorted_words)\n",
    "    word_dict = {} # This is what we are building, a dictionary that translates words into integers\n",
    "    for idx, word in enumerate(sorted_words[:vocab_size - 2]): # The -2 is so that we save room for the 'no word'\n",
    "        word_dict[word] = idx + 2                              # 'infrequent' labels\n",
    "        \n",
    "    return word_dict"
   ]
  },
  {
   "cell_type": "code",
   "execution_count": 13,
   "metadata": {},
   "outputs": [],
   "source": [
    "word_dict = build_dict(train_X)"
   ]
  },
  {
   "cell_type": "code",
   "execution_count": 14,
   "metadata": {},
   "outputs": [
    {
     "data": {
      "text/plain": [
       "4998"
      ]
     },
     "execution_count": 14,
     "metadata": {},
     "output_type": "execute_result"
    }
   ],
   "source": [
    "len(word_dict)"
   ]
  },
  {
   "cell_type": "markdown",
   "metadata": {},
   "source": [
    "**Question:** What are the five most frequently appearing (tokenized) words in the training set? Does it makes sense that these words appear frequently in the training set?"
   ]
  },
  {
   "cell_type": "markdown",
   "metadata": {},
   "source": [
    " **Answer:** movi:51695,\n",
    " film:48190,\n",
    " one:27741,\n",
    " like:22799,\n",
    " time:16191\n",
    " \n",
    " 2- yes, it makes sense\n",
    " "
   ]
  },
  {
   "cell_type": "code",
   "execution_count": 15,
   "metadata": {},
   "outputs": [
    {
     "data": {
      "text/plain": [
       "['movi', 'film', 'one', 'like', 'time']"
      ]
     },
     "execution_count": 15,
     "metadata": {},
     "output_type": "execute_result"
    }
   ],
   "source": [
    "# TODO: Use this space to determine the five most frequently appearing words in the training set.\n",
    "list(word_dict.keys())[:5]"
   ]
  },
  {
   "cell_type": "code",
   "execution_count": 16,
   "metadata": {},
   "outputs": [
    {
     "name": "stdout",
     "output_type": "stream",
     "text": [
      "{'movi': 2, 'film': 3, 'one': 4, 'like': 5, 'time': 6, 'good': 7, 'make': 8, 'charact': 9, 'get': 10, 'see': 11, 'watch': 12, 'stori': 13, 'even': 14, 'would': 15, 'realli': 16, 'well': 17, 'scene': 18, 'look': 19, 'show': 20, 'much': 21, 'end': 22, 'peopl': 23, 'bad': 24, 'go': 25, 'great': 26, 'also': 27, 'first': 28, 'love': 29, 'think': 30, 'way': 31, 'act': 32, 'play': 33, 'made': 34, 'thing': 35, 'could': 36, 'know': 37, 'say': 38, 'seem': 39, 'work': 40, 'plot': 41, 'two': 42, 'actor': 43, 'year': 44, 'come': 45, 'mani': 46, 'seen': 47, 'take': 48, 'want': 49, 'life': 50, 'never': 51, 'littl': 52, 'best': 53, 'tri': 54, 'man': 55, 'ever': 56, 'give': 57, 'better': 58, 'still': 59, 'perform': 60, 'find': 61, 'feel': 62, 'part': 63, 'back': 64, 'use': 65, 'someth': 66, 'director': 67, 'actual': 68, 'interest': 69, 'lot': 70, 'real': 71, 'old': 72, 'cast': 73, 'though': 74, 'live': 75, 'star': 76, 'enjoy': 77, 'guy': 78, 'anoth': 79, 'new': 80, 'role': 81, 'noth': 82, '10': 83, 'funni': 84, 'music': 85, 'point': 86, 'start': 87, 'set': 88, 'girl': 89, 'origin': 90, 'day': 91, 'world': 92, 'everi': 93, 'believ': 94, 'turn': 95, 'quit': 96, 'direct': 97, 'us': 98, 'thought': 99, 'fact': 100, 'minut': 101, 'horror': 102, 'kill': 103, 'action': 104, 'comedi': 105, 'pretti': 106, 'young': 107, 'wonder': 108, 'happen': 109, 'around': 110, 'got': 111, 'effect': 112, 'right': 113, 'long': 114, 'howev': 115, 'big': 116, 'line': 117, 'famili': 118, 'enough': 119, 'seri': 120, 'may': 121, 'need': 122, 'fan': 123, 'bit': 124, 'script': 125, 'beauti': 126, 'person': 127, 'becom': 128, 'without': 129, 'must': 130, 'alway': 131, 'friend': 132, 'tell': 133, 'reason': 134, 'saw': 135, 'last': 136, 'final': 137, 'kid': 138, 'almost': 139, 'put': 140, 'least': 141, 'sure': 142, 'done': 143, 'whole': 144, 'place': 145, 'complet': 146, 'kind': 147, 'differ': 148, 'expect': 149, 'shot': 150, 'far': 151, 'mean': 152, 'anyth': 153, 'book': 154, 'laugh': 155, 'might': 156, 'name': 157, 'sinc': 158, 'begin': 159, '2': 160, 'probabl': 161, 'woman': 162, 'help': 163, 'entertain': 164, 'let': 165, 'screen': 166, 'call': 167, 'tv': 168, 'moment': 169, 'away': 170, 'read': 171, 'yet': 172, 'rather': 173, 'worst': 174, 'run': 175, 'fun': 176, 'lead': 177, 'hard': 178, 'audienc': 179, 'idea': 180, 'anyon': 181, 'episod': 182, 'american': 183, 'found': 184, 'appear': 185, 'bore': 186, 'especi': 187, 'although': 188, 'hope': 189, 'keep': 190, 'cours': 191, 'anim': 192, 'job': 193, 'goe': 194, 'move': 195, 'sens': 196, 'version': 197, 'dvd': 198, 'war': 199, 'money': 200, 'someon': 201, 'mind': 202, 'mayb': 203, 'problem': 204, 'true': 205, 'hous': 206, 'everyth': 207, 'nice': 208, 'second': 209, 'rate': 210, 'three': 211, 'night': 212, 'face': 213, 'follow': 214, 'recommend': 215, 'product': 216, 'main': 217, 'worth': 218, 'leav': 219, 'human': 220, 'special': 221, 'excel': 222, 'togeth': 223, 'wast': 224, 'sound': 225, 'everyon': 226, 'john': 227, 'hand': 228, '1': 229, 'father': 230, 'later': 231, 'eye': 232, 'said': 233, 'view': 234, 'instead': 235, 'review': 236, 'boy': 237, 'high': 238, 'hour': 239, 'miss': 240, 'talk': 241, 'classic': 242, 'wife': 243, 'understand': 244, 'left': 245, 'care': 246, 'black': 247, 'death': 248, 'open': 249, 'murder': 250, 'write': 251, 'half': 252, 'head': 253, 'rememb': 254, 'chang': 255, 'viewer': 256, 'fight': 257, 'gener': 258, 'surpris': 259, 'short': 260, 'includ': 261, 'die': 262, 'fall': 263, 'less': 264, 'els': 265, 'entir': 266, 'piec': 267, 'involv': 268, 'pictur': 269, 'simpli': 270, 'top': 271, 'power': 272, 'home': 273, 'total': 274, 'usual': 275, 'budget': 276, 'attempt': 277, 'suppos': 278, 'releas': 279, 'hollywood': 280, 'terribl': 281, 'song': 282, 'men': 283, 'possibl': 284, 'featur': 285, 'portray': 286, 'disappoint': 287, '3': 288, 'poor': 289, 'coupl': 290, 'stupid': 291, 'camera': 292, 'dead': 293, 'wrong': 294, 'produc': 295, 'low': 296, 'video': 297, 'either': 298, 'aw': 299, 'definit': 300, 'except': 301, 'rest': 302, 'given': 303, 'absolut': 304, 'women': 305, 'lack': 306, 'word': 307, 'writer': 308, 'titl': 309, 'talent': 310, 'decid': 311, 'full': 312, 'perfect': 313, 'along': 314, 'style': 315, 'close': 316, 'truli': 317, 'school': 318, 'save': 319, 'emot': 320, 'sex': 321, 'age': 322, 'next': 323, 'bring': 324, 'mr': 325, 'case': 326, 'killer': 327, 'heart': 328, 'comment': 329, 'sort': 330, 'creat': 331, 'perhap': 332, 'came': 333, 'brother': 334, 'sever': 335, 'joke': 336, 'art': 337, 'dialogu': 338, 'game': 339, 'small': 340, 'base': 341, 'flick': 342, 'written': 343, 'sequenc': 344, 'meet': 345, 'earli': 346, 'often': 347, 'other': 348, 'mother': 349, 'develop': 350, 'humor': 351, 'actress': 352, 'consid': 353, 'dark': 354, 'guess': 355, 'amaz': 356, 'unfortun': 357, 'light': 358, 'lost': 359, 'exampl': 360, 'cinema': 361, 'drama': 362, 'white': 363, 'ye': 364, 'experi': 365, 'imagin': 366, 'mention': 367, 'stop': 368, 'natur': 369, 'forc': 370, 'manag': 371, 'felt': 372, 'cut': 373, 'present': 374, 'children': 375, 'fail': 376, 'son': 377, 'support': 378, 'qualiti': 379, 'car': 380, 'ask': 381, 'hit': 382, 'side': 383, 'voic': 384, 'extrem': 385, 'impress': 386, 'wors': 387, 'evil': 388, 'went': 389, 'stand': 390, 'certainli': 391, 'basic': 392, 'oh': 393, 'overal': 394, 'favorit': 395, 'horribl': 396, 'mysteri': 397, 'number': 398, 'type': 399, 'danc': 400, 'wait': 401, 'hero': 402, 'alreadi': 403, '5': 404, 'learn': 405, 'matter': 406, '4': 407, 'michael': 408, 'genr': 409, 'fine': 410, 'despit': 411, 'throughout': 412, 'walk': 413, 'success': 414, 'histori': 415, 'question': 416, 'zombi': 417, 'town': 418, 'realiz': 419, 'relationship': 420, 'past': 421, 'child': 422, 'daughter': 423, 'late': 424, 'b': 425, 'wish': 426, 'credit': 427, 'hate': 428, 'event': 429, 'theme': 430, 'touch': 431, 'citi': 432, 'today': 433, 'sometim': 434, 'behind': 435, 'god': 436, 'twist': 437, 'sit': 438, 'stay': 439, 'deal': 440, 'annoy': 441, 'abl': 442, 'rent': 443, 'pleas': 444, 'edit': 445, 'blood': 446, 'deserv': 447, 'anyway': 448, 'comic': 449, 'appar': 450, 'soon': 451, 'gave': 452, 'etc': 453, 'level': 454, 'slow': 455, 'chanc': 456, 'score': 457, 'bodi': 458, 'brilliant': 459, 'incred': 460, 'figur': 461, 'situat': 462, 'major': 463, 'self': 464, 'stuff': 465, 'decent': 466, 'element': 467, 'return': 468, 'dream': 469, 'obvious': 470, 'order': 471, 'continu': 472, 'pace': 473, 'ridicul': 474, 'happi': 475, 'highli': 476, 'group': 477, 'add': 478, 'thank': 479, 'ladi': 480, 'novel': 481, 'pain': 482, 'speak': 483, 'career': 484, 'shoot': 485, 'strang': 486, 'heard': 487, 'sad': 488, 'husband': 489, 'polic': 490, 'import': 491, 'break': 492, 'took': 493, 'strong': 494, 'cannot': 495, 'robert': 496, 'predict': 497, 'violenc': 498, 'hilari': 499, 'recent': 500, 'countri': 501, 'known': 502, 'particularli': 503, 'pick': 504, 'documentari': 505, 'season': 506, 'critic': 507, 'jame': 508, 'compar': 509, 'alon': 510, 'obviou': 511, 'told': 512, 'state': 513, 'visual': 514, 'rock': 515, 'exist': 516, 'theater': 517, 'offer': 518, 'opinion': 519, 'gore': 520, 'crap': 521, 'hold': 522, 'result': 523, 'hear': 524, 'room': 525, 'realiti': 526, 'clich': 527, 'effort': 528, 'thriller': 529, 'caus': 530, 'explain': 531, 'serious': 532, 'sequel': 533, 'king': 534, 'local': 535, 'ago': 536, 'hell': 537, 'none': 538, 'note': 539, 'allow': 540, 'sister': 541, 'david': 542, 'simpl': 543, 'femal': 544, 'deliv': 545, 'ok': 546, 'convinc': 547, 'class': 548, 'check': 549, 'suspens': 550, 'win': 551, 'buy': 552, 'oscar': 553, 'huge': 554, 'valu': 555, 'sexual': 556, 'scari': 557, 'cool': 558, 'excit': 559, 'similar': 560, 'provid': 561, 'exactli': 562, 'apart': 563, 'avoid': 564, 'shown': 565, 'seriou': 566, 'english': 567, 'taken': 568, 'whose': 569, 'cinematographi': 570, 'shock': 571, 'polit': 572, 'spoiler': 573, 'offic': 574, 'across': 575, 'middl': 576, 'pass': 577, 'street': 578, 'messag': 579, 'charm': 580, 'somewhat': 581, 'silli': 582, 'modern': 583, 'confus': 584, 'filmmak': 585, 'form': 586, 'tale': 587, 'singl': 588, 'jack': 589, 'mostli': 590, 'william': 591, 'carri': 592, 'attent': 593, 'sing': 594, 'five': 595, 'subject': 596, 'prove': 597, 'richard': 598, 'team': 599, 'stage': 600, 'unlik': 601, 'cop': 602, 'georg': 603, 'televis': 604, 'monster': 605, 'earth': 606, 'villain': 607, 'cover': 608, 'pay': 609, 'marri': 610, 'toward': 611, 'build': 612, 'pull': 613, 'parent': 614, 'due': 615, 'fill': 616, 'respect': 617, 'four': 618, 'dialog': 619, 'remind': 620, 'futur': 621, 'weak': 622, 'typic': 623, '7': 624, 'cheap': 625, 'intellig': 626, 'british': 627, 'atmospher': 628, '80': 629, 'clearli': 630, 'non': 631, 'dog': 632, 'paul': 633, 'fast': 634, 'knew': 635, '8': 636, 'artist': 637, 'crime': 638, 'easili': 639, 'escap': 640, 'doubt': 641, 'adult': 642, 'detail': 643, 'date': 644, 'romant': 645, 'member': 646, 'fire': 647, 'drive': 648, 'gun': 649, 'straight': 650, 'beyond': 651, 'fit': 652, 'attack': 653, 'imag': 654, 'upon': 655, 'posit': 656, 'whether': 657, 'fantast': 658, 'peter': 659, 'aspect': 660, 'captur': 661, 'appreci': 662, 'ten': 663, 'plan': 664, 'discov': 665, 'remain': 666, 'near': 667, 'period': 668, 'air': 669, 'realist': 670, 'mark': 671, 'red': 672, 'dull': 673, 'adapt': 674, 'within': 675, 'spend': 676, 'lose': 677, 'color': 678, 'materi': 679, 'chase': 680, 'mari': 681, 'storylin': 682, 'forget': 683, 'bunch': 684, 'clear': 685, 'lee': 686, 'victim': 687, 'nearli': 688, 'box': 689, 'york': 690, 'inspir': 691, 'match': 692, 'finish': 693, 'mess': 694, 'standard': 695, 'easi': 696, 'truth': 697, 'suffer': 698, 'busi': 699, 'space': 700, 'bill': 701, 'dramat': 702, 'western': 703, 'e': 704, 'list': 705, 'battl': 706, 'notic': 707, 'de': 708, 'french': 709, 'ad': 710, '9': 711, 'tom': 712, 'larg': 713, 'among': 714, 'eventu': 715, 'accept': 716, 'train': 717, 'agre': 718, 'spirit': 719, 'soundtrack': 720, 'third': 721, 'teenag': 722, 'adventur': 723, 'soldier': 724, 'suggest': 725, 'famou': 726, 'drug': 727, 'sorri': 728, 'cri': 729, 'babi': 730, 'normal': 731, 'troubl': 732, 'ultim': 733, 'contain': 734, 'certain': 735, 'cultur': 736, 'romanc': 737, 'rare': 738, 'lame': 739, 'somehow': 740, 'disney': 741, 'mix': 742, 'gone': 743, 'cartoon': 744, 'student': 745, 'reveal': 746, 'fear': 747, 'kept': 748, 'suck': 749, 'attract': 750, 'appeal': 751, 'premis': 752, 'greatest': 753, 'design': 754, 'secret': 755, 'shame': 756, 'throw': 757, 'copi': 758, 'scare': 759, 'wit': 760, 'america': 761, 'admit': 762, 'brought': 763, 'particular': 764, 'relat': 765, 'screenplay': 766, 'whatev': 767, 'pure': 768, '70': 769, 'averag': 770, 'harri': 771, 'master': 772, 'describ': 773, 'male': 774, 'treat': 775, '20': 776, 'issu': 777, 'fantasi': 778, 'warn': 779, 'inde': 780, 'background': 781, 'forward': 782, 'project': 783, 'free': 784, 'japanes': 785, 'memor': 786, 'poorli': 787, 'award': 788, 'locat': 789, 'potenti': 790, 'amus': 791, 'struggl': 792, 'magic': 793, 'weird': 794, 'societi': 795, 'okay': 796, 'accent': 797, 'doctor': 798, 'imdb': 799, 'hot': 800, 'water': 801, '30': 802, 'dr': 803, 'alien': 804, 'express': 805, 'odd': 806, 'choic': 807, 'crazi': 808, 'fiction': 809, 'studio': 810, 'control': 811, 'becam': 812, 'masterpiec': 813, 'difficult': 814, 'fli': 815, 'joe': 816, 'scream': 817, 'costum': 818, 'lover': 819, 'uniqu': 820, 'refer': 821, 'remak': 822, 'girlfriend': 823, 'vampir': 824, 'prison': 825, 'execut': 826, 'wear': 827, 'jump': 828, 'wood': 829, 'unless': 830, 'creepi': 831, 'cheesi': 832, 'superb': 833, 'otherwis': 834, 'parti': 835, 'roll': 836, 'ghost': 837, 'mad': 838, 'public': 839, 'depict': 840, 'earlier': 841, 'week': 842, 'badli': 843, 'moral': 844, 'jane': 845, 'fi': 846, 'dumb': 847, 'flaw': 848, 'grow': 849, 'sci': 850, 'deep': 851, 'maker': 852, 'cat': 853, 'connect': 854, 'footag': 855, 'older': 856, 'plenti': 857, 'bother': 858, 'outsid': 859, 'stick': 860, 'gay': 861, 'catch': 862, 'co': 863, 'plu': 864, 'popular': 865, 'equal': 866, 'social': 867, 'disturb': 868, 'quickli': 869, 'perfectli': 870, 'dress': 871, 'era': 872, '90': 873, 'mistak': 874, 'lie': 875, 'ride': 876, 'previou': 877, 'combin': 878, 'concept': 879, 'band': 880, 'answer': 881, 'surviv': 882, 'rich': 883, 'front': 884, 'sweet': 885, 'christma': 886, 'insid': 887, 'bare': 888, 'concern': 889, 'eat': 890, 'listen': 891, 'beat': 892, 'ben': 893, 'c': 894, 'term': 895, 'serv': 896, 'german': 897, 'meant': 898, 'la': 899, 'hardli': 900, 'stereotyp': 901, 'innoc': 902, 'law': 903, 'desper': 904, 'promis': 905, 'memori': 906, 'intent': 907, 'cute': 908, 'inform': 909, 'variou': 910, 'steal': 911, 'brain': 912, 'post': 913, 'tone': 914, 'island': 915, 'amount': 916, 'track': 917, 'compani': 918, 'nuditi': 919, 'store': 920, 'claim': 921, 'flat': 922, 'hair': 923, '50': 924, 'univers': 925, 'land': 926, 'fairli': 927, 'danger': 928, 'scott': 929, 'kick': 930, 'player': 931, 'plain': 932, 'crew': 933, 'step': 934, 'toni': 935, 'share': 936, 'tast': 937, 'centuri': 938, 'engag': 939, 'achiev': 940, 'cold': 941, 'travel': 942, 'suit': 943, 'record': 944, 'rip': 945, 'manner': 946, 'sadli': 947, 'tension': 948, 'wrote': 949, 'spot': 950, 'intens': 951, 'fascin': 952, 'familiar': 953, 'depth': 954, 'burn': 955, 'remark': 956, 'histor': 957, 'destroy': 958, 'sleep': 959, 'purpos': 960, 'languag': 961, 'ruin': 962, 'ignor': 963, 'delight': 964, 'italian': 965, 'unbeliev': 966, 'collect': 967, 'abil': 968, 'soul': 969, 'detect': 970, 'clever': 971, 'violent': 972, 'rape': 973, 'reach': 974, 'door': 975, 'scienc': 976, 'trash': 977, 'liter': 978, 'caught': 979, 'commun': 980, 'reveng': 981, 'creatur': 982, 'approach': 983, 'trip': 984, 'fashion': 985, 'intrigu': 986, 'introduc': 987, 'skill': 988, 'paint': 989, 'channel': 990, 'complex': 991, 'camp': 992, 'christian': 993, 'hole': 994, 'extra': 995, 'immedi': 996, 'mental': 997, 'limit': 998, 'ann': 999, 'comput': 1000, 'million': 1001, 'slightli': 1002, 'mere': 1003, '6': 1004, 'conclus': 1005, 'slasher': 1006, 'suddenli': 1007, 'imposs': 1008, 'neither': 1009, 'teen': 1010, 'crimin': 1011, 'spent': 1012, 'physic': 1013, 'nation': 1014, 'respons': 1015, 'planet': 1016, 'receiv': 1017, 'fake': 1018, 'sick': 1019, 'blue': 1020, 'bizarr': 1021, 'embarrass': 1022, 'indian': 1023, '15': 1024, 'ring': 1025, 'drop': 1026, 'pop': 1027, 'drag': 1028, 'haunt': 1029, 'suspect': 1030, 'pointless': 1031, 'search': 1032, 'edg': 1033, 'handl': 1034, 'common': 1035, 'biggest': 1036, 'arriv': 1037, 'hurt': 1038, 'faith': 1039, 'technic': 1040, 'angel': 1041, 'genuin': 1042, 'dad': 1043, 'awesom': 1044, 'solid': 1045, 'f': 1046, 'former': 1047, 'focu': 1048, 'colleg': 1049, 'van': 1050, 'count': 1051, 'tear': 1052, 'heavi': 1053, 'wall': 1054, 'rais': 1055, 'younger': 1056, 'laughabl': 1057, 'visit': 1058, 'fair': 1059, 'excus': 1060, 'sign': 1061, 'cult': 1062, 'key': 1063, 'tough': 1064, 'motion': 1065, 'super': 1066, 'desir': 1067, 'stun': 1068, 'addit': 1069, 'exploit': 1070, 'cloth': 1071, 'tortur': 1072, 'smith': 1073, 'davi': 1074, 'race': 1075, 'author': 1076, 'cross': 1077, 'jim': 1078, 'consist': 1079, 'compel': 1080, 'minor': 1081, 'focus': 1082, 'pathet': 1083, 'chemistri': 1084, 'commit': 1085, 'park': 1086, 'frank': 1087, 'tradit': 1088, 'obsess': 1089, 'grade': 1090, '60': 1091, 'asid': 1092, 'brutal': 1093, 'somewher': 1094, 'steve': 1095, 'u': 1096, 'grant': 1097, 'explor': 1098, 'rule': 1099, 'depress': 1100, 'opportun': 1101, 'honest': 1102, 'besid': 1103, 'dub': 1104, 'anti': 1105, 'intend': 1106, 'trailer': 1107, 'bar': 1108, 'scientist': 1109, 'west': 1110, 'longer': 1111, 'regard': 1112, 'judg': 1113, 'decad': 1114, 'silent': 1115, 'armi': 1116, 'creativ': 1117, 'wild': 1118, 'stewart': 1119, 'g': 1120, 'south': 1121, 'draw': 1122, 'road': 1123, 'govern': 1124, 'boss': 1125, 'ex': 1126, 'practic': 1127, 'surprisingli': 1128, 'club': 1129, 'motiv': 1130, 'festiv': 1131, 'gang': 1132, 'redeem': 1133, 'green': 1134, 'page': 1135, 'london': 1136, 'display': 1137, 'idiot': 1138, 'aliv': 1139, 'militari': 1140, 'machin': 1141, 'thrill': 1142, 'repeat': 1143, 'folk': 1144, 'yeah': 1145, '100': 1146, 'nobodi': 1147, '40': 1148, 'journey': 1149, 'garbag': 1150, 'ground': 1151, 'smile': 1152, 'tire': 1153, 'mood': 1154, 'bought': 1155, 'sam': 1156, 'cost': 1157, 'stone': 1158, 'mouth': 1159, 'noir': 1160, 'terrif': 1161, 'agent': 1162, 'requir': 1163, 'utterli': 1164, 'honestli': 1165, 'area': 1166, 'sexi': 1167, 'geniu': 1168, 'report': 1169, 'humour': 1170, 'investig': 1171, 'glad': 1172, 'enter': 1173, 'serial': 1174, 'occasion': 1175, 'narr': 1176, 'passion': 1177, 'climax': 1178, 'marriag': 1179, 'studi': 1180, 'industri': 1181, 'nowher': 1182, 'ship': 1183, 'center': 1184, 'demon': 1185, 'charli': 1186, 'bear': 1187, 'loos': 1188, 'hors': 1189, 'wow': 1190, 'hang': 1191, 'graphic': 1192, 'giant': 1193, 'admir': 1194, 'send': 1195, 'damn': 1196, 'loud': 1197, 'subtl': 1198, 'rel': 1199, 'nake': 1200, 'profession': 1201, 'blow': 1202, 'bottom': 1203, 'batman': 1204, 'insult': 1205, 'doubl': 1206, 'boyfriend': 1207, 'kelli': 1208, 'r': 1209, 'initi': 1210, 'frame': 1211, 'opera': 1212, 'gem': 1213, 'affect': 1214, 'drawn': 1215, 'church': 1216, 'cinemat': 1217, 'challeng': 1218, 'evid': 1219, 'fulli': 1220, 'seek': 1221, 'j': 1222, 'l': 1223, 'nightmar': 1224, 'arm': 1225, 'essenti': 1226, 'conflict': 1227, 'grace': 1228, 'wind': 1229, 'christoph': 1230, 'henri': 1231, 'assum': 1232, 'narrat': 1233, 'witch': 1234, 'hunt': 1235, 'push': 1236, 'wise': 1237, 'chri': 1238, 'nomin': 1239, 'repres': 1240, 'month': 1241, 'sceneri': 1242, 'avail': 1243, 'affair': 1244, 'hide': 1245, 'smart': 1246, 'justic': 1247, 'thu': 1248, 'bond': 1249, 'outstand': 1250, 'flashback': 1251, 'interview': 1252, 'presenc': 1253, 'satisfi': 1254, 'constantli': 1255, 'central': 1256, 'bed': 1257, 'sell': 1258, 'iron': 1259, 'content': 1260, 'gag': 1261, 'everybodi': 1262, 'hotel': 1263, 'slowli': 1264, 'hire': 1265, 'system': 1266, 'individu': 1267, 'hey': 1268, 'charl': 1269, 'thrown': 1270, 'adam': 1271, 'mediocr': 1272, 'allen': 1273, 'jone': 1274, 'ray': 1275, 'lesson': 1276, 'billi': 1277, 'cameo': 1278, 'photographi': 1279, 'fellow': 1280, 'pari': 1281, 'strike': 1282, 'rise': 1283, 'brief': 1284, 'absurd': 1285, 'independ': 1286, 'neg': 1287, 'phone': 1288, 'impact': 1289, 'model': 1290, 'born': 1291, 'ill': 1292, 'spoil': 1293, 'angl': 1294, 'fresh': 1295, 'likabl': 1296, 'abus': 1297, 'discuss': 1298, 'hill': 1299, 'sight': 1300, 'ahead': 1301, 'sent': 1302, 'photograph': 1303, 'logic': 1304, 'shine': 1305, 'occur': 1306, 'blame': 1307, 'bruce': 1308, 'mainli': 1309, 'skip': 1310, 'forev': 1311, 'commerci': 1312, 'held': 1313, 'teacher': 1314, 'segment': 1315, 'surround': 1316, 'blond': 1317, 'zero': 1318, 'trap': 1319, 'resembl': 1320, 'summer': 1321, 'satir': 1322, 'fool': 1323, 'six': 1324, 'ball': 1325, 'queen': 1326, 'twice': 1327, 'sub': 1328, 'tragedi': 1329, 'pack': 1330, 'reaction': 1331, 'bomb': 1332, 'will': 1333, 'protagonist': 1334, 'hospit': 1335, 'sport': 1336, 'mile': 1337, 'trust': 1338, 'jerri': 1339, 'mom': 1340, 'drink': 1341, 'vote': 1342, 'encount': 1343, 'plane': 1344, 'al': 1345, 'station': 1346, 'program': 1347, 'current': 1348, 'martin': 1349, 'celebr': 1350, 'choos': 1351, 'join': 1352, 'field': 1353, 'lord': 1354, 'tragic': 1355, 'round': 1356, 'favourit': 1357, 'jean': 1358, 'robot': 1359, 'vision': 1360, 'tie': 1361, 'arthur': 1362, 'roger': 1363, 'fortun': 1364, 'random': 1365, 'dread': 1366, 'intern': 1367, 'psycholog': 1368, 'epic': 1369, 'prefer': 1370, 'nonsens': 1371, 'improv': 1372, 'formula': 1373, 'legend': 1374, 'highlight': 1375, 'pleasur': 1376, 'dollar': 1377, '11': 1378, 'tape': 1379, 'wide': 1380, 'thin': 1381, 'object': 1382, 'fox': 1383, 'porn': 1384, 'gorgeou': 1385, 'influenc': 1386, 'buddi': 1387, 'ugli': 1388, 'ii': 1389, 'prepar': 1390, 'nasti': 1391, 'supposedli': 1392, 'reflect': 1393, 'progress': 1394, 'warm': 1395, 'worthi': 1396, 'youth': 1397, 'unusu': 1398, 'latter': 1399, 'length': 1400, 'crash': 1401, 'seven': 1402, 'childhood': 1403, 'superior': 1404, 'shop': 1405, 'theatr': 1406, 'remot': 1407, 'paid': 1408, 'pilot': 1409, 'funniest': 1410, 'disgust': 1411, 'trick': 1412, 'convers': 1413, 'fell': 1414, 'castl': 1415, 'disast': 1416, 'rob': 1417, 'establish': 1418, 'gangster': 1419, 'mine': 1420, 'ident': 1421, 'heaven': 1422, 'disappear': 1423, 'suicid': 1424, 'heroin': 1425, 'tend': 1426, 'singer': 1427, 'decis': 1428, 'forgotten': 1429, 'mask': 1430, 'brian': 1431, 'partner': 1432, 'recogn': 1433, 'desert': 1434, 'alan': 1435, 'thoroughli': 1436, 'stuck': 1437, 'ms': 1438, 'sky': 1439, 'p': 1440, 'replac': 1441, 'accur': 1442, 'market': 1443, 'danni': 1444, 'clue': 1445, 'eddi': 1446, 'commentari': 1447, 'seemingli': 1448, 'uncl': 1449, 'andi': 1450, 'devil': 1451, 'jackson': 1452, 'therefor': 1453, 'pair': 1454, 'refus': 1455, 'that': 1456, 'unit': 1457, 'fault': 1458, 'accid': 1459, 'ed': 1460, 'fate': 1461, 'river': 1462, 'tune': 1463, 'afraid': 1464, 'russian': 1465, 'stephen': 1466, 'clean': 1467, 'hidden': 1468, 'captain': 1469, 'test': 1470, 'quick': 1471, 'instanc': 1472, 'irrit': 1473, 'readi': 1474, 'convey': 1475, 'european': 1476, 'frustrat': 1477, 'insan': 1478, 'daniel': 1479, 'rescu': 1480, 'food': 1481, 'wed': 1482, 'chines': 1483, '1950': 1484, 'lock': 1485, 'angri': 1486, 'dirti': 1487, 'joy': 1488, 'steven': 1489, 'price': 1490, 'bland': 1491, 'cage': 1492, 'anymor': 1493, 'rang': 1494, 'wooden': 1495, 'rush': 1496, 'jason': 1497, 'n': 1498, 'news': 1499, 'martial': 1500, 'board': 1501, '12': 1502, 'led': 1503, 'twenti': 1504, 'worri': 1505, 'symbol': 1506, 'transform': 1507, 'hunter': 1508, 'cgi': 1509, 'sentiment': 1510, 'piti': 1511, 'onto': 1512, 'johnni': 1513, 'invent': 1514, 'x': 1515, 'explan': 1516, 'process': 1517, 'attitud': 1518, 'owner': 1519, 'awar': 1520, 'aim': 1521, 'floor': 1522, 'energi': 1523, 'target': 1524, 'necessari': 1525, 'favor': 1526, 'religi': 1527, 'opposit': 1528, 'window': 1529, 'blind': 1530, 'chick': 1531, 'insight': 1532, 'movement': 1533, 'research': 1534, 'possess': 1535, 'mountain': 1536, 'deepli': 1537, 'comparison': 1538, 'comed': 1539, 'grand': 1540, 'whatsoev': 1541, 'rain': 1542, 'shadow': 1543, 'mid': 1544, 'began': 1545, 'bank': 1546, 'parodi': 1547, 'princ': 1548, 'weapon': 1549, 'credibl': 1550, 'pre': 1551, 'taylor': 1552, 'friendship': 1553, 'flesh': 1554, 'teach': 1555, 'dougla': 1556, 'bloodi': 1557, 'terror': 1558, 'hint': 1559, 'protect': 1560, 'marvel': 1561, 'leader': 1562, 'accord': 1563, 'load': 1564, 'anybodi': 1565, 'drunk': 1566, 'watchabl': 1567, 'superman': 1568, 'freddi': 1569, 'brown': 1570, 'appropri': 1571, 'tim': 1572, 'seat': 1573, 'jeff': 1574, 'hitler': 1575, 'keaton': 1576, 'villag': 1577, 'charg': 1578, 'knock': 1579, 'unknown': 1580, 'media': 1581, 'empti': 1582, 'enemi': 1583, 'england': 1584, 'unnecessari': 1585, 'buck': 1586, 'strength': 1587, 'wave': 1588, 'craft': 1589, 'dare': 1590, 'utter': 1591, 'perspect': 1592, 'kiss': 1593, 'contrast': 1594, 'ford': 1595, 'correct': 1596, 'nativ': 1597, 'anywher': 1598, 'knowledg': 1599, 'magnific': 1600, 'chill': 1601, 'speed': 1602, 'soap': 1603, 'nazi': 1604, 'distract': 1605, 'mission': 1606, 'breath': 1607, 'ice': 1608, 'fred': 1609, '1980': 1610, 'moon': 1611, 'jr': 1612, 'crowd': 1613, 'joan': 1614, '000': 1615, 'kate': 1616, 'soft': 1617, 'frighten': 1618, 'hundr': 1619, 'dan': 1620, 'dick': 1621, 'nick': 1622, 'radio': 1623, 'dozen': 1624, 'somebodi': 1625, 'simon': 1626, 'shakespear': 1627, 'loss': 1628, 'thousand': 1629, 'academi': 1630, 'andrew': 1631, 'root': 1632, 'quot': 1633, 'vehicl': 1634, 'account': 1635, 'sum': 1636, 'convent': 1637, 'behavior': 1638, 'leg': 1639, '1970': 1640, 'regular': 1641, 'gold': 1642, 'worker': 1643, 'compet': 1644, 'pretenti': 1645, 'demand': 1646, 'japan': 1647, 'notabl': 1648, 'stretch': 1649, 'explos': 1650, 'candi': 1651, 'privat': 1652, 'interpret': 1653, 'lynch': 1654, 'constant': 1655, 'debut': 1656, 'tarzan': 1657, 'spi': 1658, 'translat': 1659, 'prais': 1660, 'sea': 1661, 'revolv': 1662, 'technolog': 1663, 'sat': 1664, 'failur': 1665, 'ass': 1666, 'threaten': 1667, 'franc': 1668, 'quiet': 1669, 'jesu': 1670, 'kevin': 1671, 'higher': 1672, 'punch': 1673, 'toy': 1674, 'aid': 1675, 'met': 1676, 'mike': 1677, 'interact': 1678, 'abandon': 1679, 'vh': 1680, 'command': 1681, 'confront': 1682, 'separ': 1683, 'bet': 1684, 'site': 1685, 'stunt': 1686, 'techniqu': 1687, 'recal': 1688, 'servic': 1689, 'belong': 1690, 'gotten': 1691, 'bug': 1692, 'freak': 1693, 'cabl': 1694, 'foot': 1695, 'capabl': 1696, 'bright': 1697, 'fu': 1698, 'jimmi': 1699, 'african': 1700, 'boat': 1701, 'clark': 1702, 'stock': 1703, 'succeed': 1704, 'presid': 1705, 'fat': 1706, 'spanish': 1707, 'structur': 1708, 'gene': 1709, 'kidnap': 1710, 'paper': 1711, 'belief': 1712, 'factor': 1713, 'whilst': 1714, 'attend': 1715, 'realis': 1716, 'educ': 1717, 'tree': 1718, 'witti': 1719, 'complic': 1720, 'bob': 1721, 'realism': 1722, 'assist': 1723, 'finest': 1724, 'santa': 1725, 'broken': 1726, 'depart': 1727, 'up': 1728, 'v': 1729, 'smoke': 1730, 'observ': 1731, 'determin': 1732, 'lewi': 1733, 'oper': 1734, 'rubbish': 1735, 'routin': 1736, 'hat': 1737, 'fame': 1738, 'domin': 1739, 'lone': 1740, 'advanc': 1741, 'kinda': 1742, 'safe': 1743, 'foreign': 1744, 'hook': 1745, 'morgan': 1746, 'numer': 1747, 'rank': 1748, 'rose': 1749, 'werewolf': 1750, 'washington': 1751, 'shape': 1752, 'vs': 1753, 'civil': 1754, 'shallow': 1755, 'gari': 1756, 'morn': 1757, 'winner': 1758, 'ordinari': 1759, 'kong': 1760, 'accomplish': 1761, 'grab': 1762, 'virtual': 1763, 'peac': 1764, 'whenev': 1765, 'luck': 1766, 'offens': 1767, 'h': 1768, 'welcom': 1769, 'activ': 1770, 'bigger': 1771, 'patient': 1772, 'complain': 1773, 'contriv': 1774, 'unfunni': 1775, 'dimension': 1776, 'trek': 1777, 'pretend': 1778, 'con': 1779, 'code': 1780, 'wake': 1781, 'dri': 1782, 'flash': 1783, 'eric': 1784, 'cain': 1785, 'lesbian': 1786, 'guard': 1787, 'manipul': 1788, 'statu': 1789, 'corrupt': 1790, 'dancer': 1791, 'albert': 1792, 'speech': 1793, 'awkward': 1794, 'context': 1795, 'gain': 1796, 'signific': 1797, 'sourc': 1798, '13': 1799, 'clip': 1800, 'corni': 1801, 'anthoni': 1802, 'psycho': 1803, 'sean': 1804, 'advic': 1805, 'theatric': 1806, 'priest': 1807, 'reli': 1808, 'curiou': 1809, 'w': 1810, 'religion': 1811, 'flow': 1812, 'addict': 1813, 'skin': 1814, 'specif': 1815, 'jennif': 1816, 'asian': 1817, 'secur': 1818, 'howard': 1819, 'golden': 1820, 'organ': 1821, 'comfort': 1822, 'core': 1823, 'luke': 1824, 'promot': 1825, 'cash': 1826, 'lucki': 1827, 'cheat': 1828, 'dislik': 1829, 'lower': 1830, 'associ': 1831, 'devic': 1832, 'balanc': 1833, 'contribut': 1834, 'degre': 1835, 'wing': 1836, 'frankli': 1837, 'frequent': 1838, 'spell': 1839, 'regret': 1840, 'print': 1841, 'sake': 1842, 'lake': 1843, 'forgiv': 1844, 'mass': 1845, 'betti': 1846, 'thoma': 1847, 'unexpect': 1848, 'gordon': 1849, 'crack': 1850, 'depend': 1851, 'unfold': 1852, 'categori': 1853, 'invit': 1854, 'construct': 1855, 'amateur': 1856, 'grown': 1857, 'honor': 1858, 'walter': 1859, 'intellectu': 1860, 'anna': 1861, 'condit': 1862, 'matur': 1863, 'grew': 1864, 'mirror': 1865, 'sudden': 1866, 'veteran': 1867, 'sole': 1868, 'spectacular': 1869, 'liner': 1870, 'experienc': 1871, 'meanwhil': 1872, 'demonstr': 1873, 'robin': 1874, 'grip': 1875, 'gift': 1876, 'overli': 1877, 'card': 1878, 'freedom': 1879, 'brilliantli': 1880, 'circumst': 1881, 'theori': 1882, 'section': 1883, 'drew': 1884, 'colour': 1885, 'subtitl': 1886, 'unabl': 1887, 'oliv': 1888, 'crappi': 1889, 'sheriff': 1890, 'pile': 1891, 'laughter': 1892, 'path': 1893, 'altern': 1894, 'cook': 1895, 'parker': 1896, 'sheer': 1897, 'matt': 1898, 'treatment': 1899, 'hall': 1900, 'wander': 1901, 'defin': 1902, 'relief': 1903, 'accident': 1904, 'lawyer': 1905, 'sinatra': 1906, 'dragon': 1907, 'captiv': 1908, 'hank': 1909, 'gratuit': 1910, 'halloween': 1911, 'moor': 1912, 'broadway': 1913, 'cowboy': 1914, 'wound': 1915, 'jacki': 1916, 'kung': 1917, 'barbara': 1918, 'k': 1919, 'unintent': 1920, 'wayn': 1921, 'winter': 1922, 'spoof': 1923, 'statement': 1924, 'surreal': 1925, 'canadian': 1926, 'fare': 1927, 'cheer': 1928, 'fish': 1929, 'treasur': 1930, 'gonna': 1931, 'compos': 1932, 'woodi': 1933, 'emerg': 1934, 'sensit': 1935, 'victor': 1936, 'unrealist': 1937, 'sympathet': 1938, 'ran': 1939, 'driven': 1940, 'neighbor': 1941, 'menac': 1942, 'overlook': 1943, 'expos': 1944, 'authent': 1945, 'topic': 1946, 'glass': 1947, 'ancient': 1948, 'gross': 1949, 'handsom': 1950, 'michel': 1951, 'chief': 1952, 'contemporari': 1953, 'nevertheless': 1954, 'russel': 1955, 'comedian': 1956, 'network': 1957, 'pleasant': 1958, 'stranger': 1959, 'built': 1960, 'feet': 1961, 'cinderella': 1962, 'letter': 1963, 'underr': 1964, 'earn': 1965, 'gori': 1966, 'blockbust': 1967, 'endless': 1968, 'consider': 1969, 'miser': 1970, 'solv': 1971, 'switch': 1972, 'brook': 1973, 'virgin': 1974, 'convict': 1975, 'edward': 1976, 'bullet': 1977, 'joseph': 1978, 'victoria': 1979, 'scale': 1980, 'chosen': 1981, 'scenario': 1982, '0': 1983, 'alex': 1984, 'cynic': 1985, 'sword': 1986, 'curs': 1987, 'outrag': 1988, 'gut': 1989, 'com': 1990, 'screenwrit': 1991, 'driver': 1992, 'substanc': 1993, 'wrap': 1994, 'juli': 1995, 'uk': 1996, 'monkey': 1997, 'proper': 1998, 'indic': 1999, 'court': 2000, 'bird': 2001, 'par': 2002, 'remov': 2003, 'consequ': 2004, 'rental': 2005, 'loser': 2006, 'inevit': 2007, 'grave': 2008, 'naiv': 2009, 'nanci': 2010, 'advertis': 2011, 'roy': 2012, 'invis': 2013, 'brave': 2014, 'germani': 2015, 'fatal': 2016, 'bridg': 2017, 'le': 2018, 'slap': 2019, 'anger': 2020, 'ador': 2021, 'footbal': 2022, 'loui': 2023, 'provok': 2024, 'chan': 2025, 'alcohol': 2026, 'anderson': 2027, 'stumbl': 2028, 'professor': 2029, 'ryan': 2030, 'willi': 2031, 'australian': 2032, 'patrick': 2033, '1930': 2034, 'bat': 2035, 'sharp': 2036, 'assassin': 2037, 'liber': 2038, 'lousi': 2039, 'amateurish': 2040, 'ape': 2041, 'strongli': 2042, 'deni': 2043, 'trilog': 2044, 'cell': 2045, 'heck': 2046, 'eight': 2047, 'saturday': 2048, 'refresh': 2049, 'sin': 2050, 'vagu': 2051, 'justifi': 2052, 'san': 2053, 'resid': 2054, 'creator': 2055, 'sympathi': 2056, 'defeat': 2057, 'indi': 2058, 'terrifi': 2059, 'mini': 2060, 'reput': 2061, 'expert': 2062, 'tabl': 2063, 'endur': 2064, 'prevent': 2065, 'task': 2066, 'tediou': 2067, 'employ': 2068, 'trial': 2069, 'imit': 2070, 'rival': 2071, 'basebal': 2072, 'offend': 2073, 'che': 2074, 'complaint': 2075, 'beach': 2076, 'max': 2077, 'europ': 2078, 'dig': 2079, 'weekend': 2080, 'pitch': 2081, 'fairi': 2082, 'purchas': 2083, 'murphi': 2084, 'risk': 2085, 'format': 2086, 'bite': 2087, 'harsh': 2088, 'glimps': 2089, 'reminisc': 2090, 'nois': 2091, 'titan': 2092, 'tini': 2093, 'powel': 2094, 'hype': 2095, 'fals': 2096, 'north': 2097, '14': 2098, 'strip': 2099, 'till': 2100, 'prime': 2101, 'asleep': 2102, 'descript': 2103, 'destruct': 2104, 'africa': 2105, 'revel': 2106, 'texa': 2107, 'sitcom': 2108, 'inner': 2109, 'spin': 2110, 'semi': 2111, 'surfac': 2112, 'uninterest': 2113, 'excess': 2114, 'arrest': 2115, 'makeup': 2116, 'dinosaur': 2117, 'argu': 2118, 'twin': 2119, 'controversi': 2120, 'massiv': 2121, 'maintain': 2122, 'hitchcock': 2123, 'ideal': 2124, 'melodrama': 2125, 'stare': 2126, 'insist': 2127, 'ludicr': 2128, 'expens': 2129, 'reject': 2130, 'kim': 2131, 'columbo': 2132, 'subplot': 2133, 'nail': 2134, 'supernatur': 2135, 'host': 2136, 'atroci': 2137, 'press': 2138, 'ga': 2139, 'ala': 2140, 'forest': 2141, 'erot': 2142, 'identifi': 2143, 'notch': 2144, 'dude': 2145, 'presum': 2146, 'cant': 2147, 'crude': 2148, 'guest': 2149, 'plagu': 2150, 'forgett': 2151, 'method': 2152, 'character': 2153, 'closer': 2154, 'princess': 2155, 'ear': 2156, 'border': 2157, 'lion': 2158, 'landscap': 2159, 'foster': 2160, 'beast': 2161, 'accus': 2162, 'pacino': 2163, 'bound': 2164, 'storytel': 2165, 'birth': 2166, 'jungl': 2167, 'aunt': 2168, 'previous': 2169, 'urban': 2170, 'damag': 2171, 'nude': 2172, 'chose': 2173, 'guid': 2174, 'propaganda': 2175, 'doll': 2176, 'emma': 2177, 'jess': 2178, 'thirti': 2179, 'mainstream': 2180, 'whoever': 2181, 'mate': 2182, 'pet': 2183, '25': 2184, 'warrior': 2185, 'latest': 2186, 'cooper': 2187, 'gritti': 2188, 'exact': 2189, 'deadli': 2190, 'poster': 2191, 'merit': 2192, 'size': 2193, 'friday': 2194, 'upset': 2195, 'corps': 2196, 'buff': 2197, 'contest': 2198, 'popul': 2199, 'settl': 2200, 'ton': 2201, 'blend': 2202, 'wilson': 2203, 'sun': 2204, '1990': 2205, 'contact': 2206, 'warner': 2207, 'citizen': 2208, 'rough': 2209, 'overcom': 2210, 'widow': 2211, 'alic': 2212, 'rat': 2213, 'bu': 2214, 'mgm': 2215, 'select': 2216, 'environ': 2217, 'metal': 2218, 'pitt': 2219, 'lift': 2220, 'guilti': 2221, 'link': 2222, 'particip': 2223, 'ted': 2224, 'revolut': 2225, 'moron': 2226, '1960': 2227, 'exagger': 2228, 'corpor': 2229, 'johnson': 2230, 'accompani': 2231, 'prostitut': 2232, 'afternoon': 2233, 'matrix': 2234, 'corner': 2235, 'friendli': 2236, 'doom': 2237, 'leagu': 2238, 'holm': 2239, 'clair': 2240, 'sincer': 2241, 'hood': 2242, 'multipl': 2243, 'instal': 2244, 'string': 2245, 'advis': 2246, 'sunday': 2247, 'defend': 2248, 'lugosi': 2249, 'examin': 2250, 'blah': 2251, 'campi': 2252, 'aka': 2253, 'hip': 2254, 'irish': 2255, 'grim': 2256, 'junk': 2257, 'shut': 2258, 'varieti': 2259, 'tight': 2260, 'pro': 2261, 'icon': 2262, 'shake': 2263, 'confid': 2264, 'rachel': 2265, 'directli': 2266, 'jaw': 2267, 'mexican': 2268, 'goal': 2269, 'denni': 2270, 'attach': 2271, 'medic': 2272, 'sullivan': 2273, 'prior': 2274, 'truck': 2275, 'courag': 2276, 'sarah': 2277, 'terrorist': 2278, 'vietnam': 2279, 'dean': 2280, 'duke': 2281, 'legendari': 2282, 'breast': 2283, 'sentenc': 2284, 'bourn': 2285, 'split': 2286, 'proceed': 2287, 'behav': 2288, 'nose': 2289, 'un': 2290, 'yell': 2291, 'hong': 2292, 'donald': 2293, 'entri': 2294, 'everywher': 2295, 'jerk': 2296, 'buri': 2297, 'gather': 2298, 'unconvinc': 2299, 'crush': 2300, 'lifetim': 2301, 'forth': 2302, 'swim': 2303, 'stolen': 2304, 'confess': 2305, 'borrow': 2306, 'concentr': 2307, 'julia': 2308, 'lip': 2309, 'deliveri': 2310, 'turkey': 2311, 'california': 2312, 'spite': 2313, 'pan': 2314, 'offici': 2315, 'china': 2316, 'flight': 2317, 'proud': 2318, 'freeman': 2319, 'reward': 2320, 'downright': 2321, 'quest': 2322, 'hoffman': 2323, 'lazi': 2324, 'fade': 2325, 'jon': 2326, 'fabul': 2327, 'encourag': 2328, 'inept': 2329, 'jail': 2330, 'betray': 2331, 'worthwhil': 2332, 'sir': 2333, 'notori': 2334, 'sink': 2335, 'bag': 2336, 'storm': 2337, 'survivor': 2338, 'susan': 2339, 'branagh': 2340, 'retard': 2341, 'teeth': 2342, 'shower': 2343, 'imageri': 2344, 'bell': 2345, 'cousin': 2346, 'lisa': 2347, 'relev': 2348, 'shark': 2349, 'quirki': 2350, 'toler': 2351, 'trade': 2352, 'finger': 2353, 'tremend': 2354, 'hugh': 2355, 'summari': 2356, 'mexico': 2357, 'stab': 2358, 'bride': 2359, 'facial': 2360, 'alright': 2361, 'bitter': 2362, 'hyster': 2363, 'blown': 2364, 'von': 2365, 'pose': 2366, 'ha': 2367, 'christ': 2368, 'bone': 2369, 'afterward': 2370, 'scheme': 2371, 'ned': 2372, 'ron': 2373, 'larri': 2374, 'cruel': 2375, 'address': 2376, 'swear': 2377, 'pursu': 2378, 'screw': 2379, 'distinct': 2380, 'feed': 2381, 'tour': 2382, 'beg': 2383, 'traci': 2384, 'snake': 2385, 'thumb': 2386, 'chair': 2387, 'occas': 2388, 'obscur': 2389, 'photo': 2390, 'raw': 2391, 'mechan': 2392, 'stomach': 2393, 'cabin': 2394, 'argument': 2395, 'hardi': 2396, 'holiday': 2397, 'sidney': 2398, 'gruesom': 2399, 'necessarili': 2400, 'chain': 2401, 'southern': 2402, 'heavili': 2403, 'resist': 2404, 'render': 2405, 'indulg': 2406, 'racist': 2407, 'understood': 2408, 'satan': 2409, 'india': 2410, 'philip': 2411, 'stalk': 2412, 'fourth': 2413, 'forgot': 2414, 'tongu': 2415, 'obnoxi': 2416, 'lay': 2417, 'belov': 2418, 'pregnant': 2419, 'outfit': 2420, 'integr': 2421, 'midnight': 2422, 'garden': 2423, 'inhabit': 2424, 'magazin': 2425, 'ticket': 2426, '17': 2427, 'slapstick': 2428, 'restor': 2429, 'deeper': 2430, 'carol': 2431, 'shoe': 2432, 'incid': 2433, 'brad': 2434, 'devot': 2435, 'lincoln': 2436, 'benefit': 2437, 'anticip': 2438, 'disbelief': 2439, 'divorc': 2440, 'lili': 2441, 'maria': 2442, 'underground': 2443, 'sandler': 2444, 'guarante': 2445, 'elizabeth': 2446, 'explod': 2447, 'greater': 2448, 'slave': 2449, 'mildli': 2450, 'capit': 2451, 'princip': 2452, 'cring': 2453, 'bbc': 2454, 'creation': 2455, 'amazingli': 2456, 'halfway': 2457, 'introduct': 2458, 'funnier': 2459, 'extraordinari': 2460, 'lesli': 2461, 'transfer': 2462, 'wreck': 2463, 'advantag': 2464, 'overwhelm': 2465, 'extent': 2466, 'punish': 2467, 'tap': 2468, 'text': 2469, 'enhanc': 2470, 'horrif': 2471, 'dynam': 2472, 'plant': 2473, 'error': 2474, 'lane': 2475, 'east': 2476, 'deliber': 2477, 'lo': 2478, 'jessica': 2479, 'preview': 2480, 'ensu': 2481, 'sophist': 2482, 'vincent': 2483, 'appli': 2484, '2000': 2485, 'vacat': 2486, 'miscast': 2487, 'basi': 2488, 'homosexu': 2489, 'miller': 2490, 'spoken': 2491, 'mansion': 2492, 'uncomfort': 2493, 'extend': 2494, 'reed': 2495, 'bollywood': 2496, 'via': 2497, 'elev': 2498, 'measur': 2499, 'steel': 2500, 'sleazi': 2501, 'alter': 2502, 'melt': 2503, 'breathtak': 2504, 'mous': 2505, 'goofi': 2506, 'assign': 2507, 'beer': 2508, 'blair': 2509, 'conceiv': 2510, 'overact': 2511, 'daili': 2512, 'stanley': 2513, 'savag': 2514, 'fix': 2515, 'hippi': 2516, 'cathol': 2517, 'dentist': 2518, 'nowaday': 2519, 'subsequ': 2520, 'carpent': 2521, 'properli': 2522, 'everyday': 2523, 'sacrific': 2524, 'burt': 2525, 'inspector': 2526, 'oppos': 2527, 'succe': 2528, 'block': 2529, 'massacr': 2530, 'neck': 2531, 'circl': 2532, 'laura': 2533, 'lesser': 2534, 'grey': 2535, 'pool': 2536, 'fallen': 2537, 'christi': 2538, 'access': 2539, 'portrait': 2540, 'concert': 2541, 'fay': 2542, 'mob': 2543, 'seagal': 2544, 'chees': 2545, 'react': 2546, 'competit': 2547, 'sinist': 2548, 'relax': 2549, 'isol': 2550, 'usa': 2551, 'jewish': 2552, 'jake': 2553, 'nonetheless': 2554, 'nine': 2555, 'ironi': 2556, 'stink': 2557, 'chop': 2558, 'spiritu': 2559, 'appal': 2560, 'lyric': 2561, 'immens': 2562, 'creep': 2563, '2006': 2564, 'suitabl': 2565, 'showcas': 2566, 'luci': 2567, 'rage': 2568, 'navi': 2569, 'sold': 2570, 'retir': 2571, 'needless': 2572, 'spring': 2573, 'franchis': 2574, 'reduc': 2575, 'user': 2576, 'adopt': 2577, 'shirt': 2578, 'nut': 2579, 'asham': 2580, 'bath': 2581, 'jay': 2582, 'uninspir': 2583, 'per': 2584, 'stanwyck': 2585, 'zone': 2586, 'digit': 2587, 'nurs': 2588, 'bulli': 2589, '1940': 2590, 'laid': 2591, 'oddli': 2592, 'broadcast': 2593, 'illustr': 2594, 'amongst': 2595, 'sutherland': 2596, 'upper': 2597, '2001': 2598, 'throat': 2599, 'disguis': 2600, 'stylish': 2601, 'aspir': 2602, 'baker': 2603, 'brando': 2604, 'fulfil': 2605, 'pound': 2606, 'pride': 2607, 'em': 2608, 'impli': 2609, 'endear': 2610, 'neighborhood': 2611, '18': 2612, 'wanna': 2613, 'wwii': 2614, 'thief': 2615, 'nobl': 2616, 'prop': 2617, 'tens': 2618, 'cinematograph': 2619, 'bett': 2620, 'dinner': 2621, 'coher': 2622, 'diseas': 2623, 'shoulder': 2624, 'shift': 2625, 'bo': 2626, '16': 2627, 'albeit': 2628, 'dawn': 2629, 'distribut': 2630, 'rochest': 2631, 'wash': 2632, 'shout': 2633, 'forti': 2634, 'snow': 2635, 'poignant': 2636, 'surf': 2637, 'contract': 2638, 'matthau': 2639, 'function': 2640, 'rebel': 2641, 'silenc': 2642, 'knife': 2643, 'cancel': 2644, 'henc': 2645, 'duti': 2646, 'silver': 2647, 'horrend': 2648, 'mindless': 2649, 'heat': 2650, 'reunion': 2651, 'eeri': 2652, 'proof': 2653, 'chuck': 2654, 'height': 2655, 'widmark': 2656, 'cannib': 2657, 'derek': 2658, 'instinct': 2659, 'internet': 2660, 'elvira': 2661, 'repetit': 2662, 'mill': 2663, 'neat': 2664, 'incoher': 2665, 'glori': 2666, 'innov': 2667, 'musician': 2668, 'elvi': 2669, 'alik': 2670, 'pie': 2671, 'absorb': 2672, 'premier': 2673, 'etern': 2674, 'torn': 2675, 'greatli': 2676, 'spielberg': 2677, 'infam': 2678, 'lovabl': 2679, 'britain': 2680, 'wealthi': 2681, 'diamond': 2682, 'burton': 2683, 'horrifi': 2684, 'crisi': 2685, 'precis': 2686, 'blank': 2687, 'homag': 2688, 'fbi': 2689, 'redempt': 2690, 'bang': 2691, 'trite': 2692, 'announc': 2693, 'itali': 2694, 'racism': 2695, 'nelson': 2696, 'ensembl': 2697, 'hammer': 2698, 'helen': 2699, 'pat': 2700, 'parallel': 2701, 'resolut': 2702, 'wilder': 2703, 'chaplin': 2704, 'dedic': 2705, 'flop': 2706, 'happili': 2707, 'streisand': 2708, 'plastic': 2709, 'mar': 2710, 'carter': 2711, 'disagre': 2712, 'st': 2713, 'cube': 2714, 'oil': 2715, 'broke': 2716, 'conclud': 2717, 'triumph': 2718, 'factori': 2719, 'march': 2720, 'weight': 2721, 'row': 2722, 'fighter': 2723, 'own': 2724, 'vega': 2725, 'bush': 2726, 'climb': 2727, 'chuckl': 2728, 'rocket': 2729, 'sensibl': 2730, 'unforgett': 2731, 'boot': 2732, 'wherea': 2733, 'kurt': 2734, 'dump': 2735, 'dane': 2736, 'mst3k': 2737, 'lust': 2738, 'thug': 2739, 'enorm': 2740, 'meaning': 2741, 'spare': 2742, 'luca': 2743, 'caricatur': 2744, 'stress': 2745, 'brand': 2746, 'difficulti': 2747, 'karloff': 2748, 'rap': 2749, 'dear': 2750, 'engin': 2751, 'threat': 2752, 'bobbi': 2753, 'butt': 2754, 'fifti': 2755, 'adequ': 2756, 'arnold': 2757, 'ego': 2758, 'journalist': 2759, 'swing': 2760, 'homeless': 2761, 'elabor': 2762, 'arrog': 2763, 'barri': 2764, 'ralph': 2765, 'polish': 2766, 'hamlet': 2767, 'fest': 2768, 'flynn': 2769, 'secretari': 2770, 'conspiraci': 2771, 'induc': 2772, 'simpson': 2773, 'tool': 2774, 'float': 2775, 'grate': 2776, 'fanci': 2777, 'unbear': 2778, 'resort': 2779, 'puppet': 2780, 'spike': 2781, 'arrang': 2782, 'exercis': 2783, 'basement': 2784, 'pig': 2785, 'guilt': 2786, 'tribut': 2787, 'choreograph': 2788, 'cruis': 2789, 'phillip': 2790, 'boll': 2791, 'muppet': 2792, 'babe': 2793, 'puzzl': 2794, 'slip': 2795, 'document': 2796, 'fianc': 2797, 'tower': 2798, 'scarecrow': 2799, 'item': 2800, 'medium': 2801, 'editor': 2802, 'file': 2803, 'ham': 2804, 'ward': 2805, 'layer': 2806, 'korean': 2807, '24': 2808, 'toilet': 2809, 'stan': 2810, 'inexplic': 2811, 'persona': 2812, 'transit': 2813, 'larger': 2814, 'slaughter': 2815, 'superfici': 2816, 'spark': 2817, 'doc': 2818, 'portion': 2819, 'minim': 2820, 'assur': 2821, 'philosoph': 2822, 'orient': 2823, 'librari': 2824, 'territori': 2825, 'denzel': 2826, 'glover': 2827, 'catherin': 2828, 'owe': 2829, 'jeremi': 2830, 'jet': 2831, 'dorothi': 2832, 'pg': 2833, 'shi': 2834, 'curti': 2835, 'ban': 2836, 'boredom': 2837, 'walken': 2838, 'financi': 2839, 'wolf': 2840, 'sneak': 2841, 'cusack': 2842, 'whale': 2843, 'profound': 2844, 'metaphor': 2845, 'ambigu': 2846, 'backdrop': 2847, 'eleph': 2848, 'multi': 2849, 'hudson': 2850, 'rave': 2851, 'hack': 2852, 'viru': 2853, '2005': 2854, 'implaus': 2855, 'ultra': 2856, 'stiff': 2857, 'union': 2858, 'elsewher': 2859, 'notion': 2860, 'birthday': 2861, 'gadget': 2862, 'disc': 2863, 'bibl': 2864, 'canada': 2865, 'afford': 2866, 'superhero': 2867, 'squar': 2868, 'distanc': 2869, 'eastwood': 2870, 'reader': 2871, 'pad': 2872, '1st': 2873, 'slight': 2874, 'poison': 2875, 'newspap': 2876, 'deriv': 2877, 'eva': 2878, 'urg': 2879, 'lloyd': 2880, 'hawk': 2881, 'heston': 2882, 'skit': 2883, 'huh': 2884, 'charisma': 2885, 'essenc': 2886, 'montag': 2887, 'restaur': 2888, 'cure': 2889, 'button': 2890, 'health': 2891, 'sadist': 2892, 'spread': 2893, 'drown': 2894, 'gradual': 2895, 'dealt': 2896, 'lab': 2897, 'godfath': 2898, 'maniac': 2899, 'companion': 2900, 'peak': 2901, 'estat': 2902, 'muslim': 2903, 'scoobi': 2904, 'invest': 2905, 'fetch': 2906, 'subtleti': 2907, 'servant': 2908, 'alli': 2909, 'gothic': 2910, 'ritter': 2911, 'countless': 2912, 'kane': 2913, 'cup': 2914, 'tea': 2915, 'miik': 2916, 'heroic': 2917, 'electr': 2918, 'briefli': 2919, 'elect': 2920, 'salli': 2921, 'charismat': 2922, 'iii': 2923, 'bud': 2924, 'cole': 2925, 'ingredi': 2926, 'resourc': 2927, 'nuanc': 2928, 'wannab': 2929, 'tender': 2930, 'toss': 2931, 'grandmoth': 2932, 'admittedli': 2933, 'reel': 2934, 'neil': 2935, 'poverti': 2936, 'mafia': 2937, 'stronger': 2938, 'mild': 2939, 'gate': 2940, 'punk': 2941, 'label': 2942, 'reev': 2943, 'shall': 2944, 'carrey': 2945, 'pit': 2946, 'stood': 2947, 'pauli': 2948, 'dawson': 2949, 'kubrick': 2950, 'updat': 2951, 'smash': 2952, 'ian': 2953, 'tag': 2954, 'useless': 2955, 'outcom': 2956, 'cardboard': 2957, 'cox': 2958, 'burst': 2959, 'smooth': 2960, 'easier': 2961, 'astair': 2962, 'terri': 2963, 'fond': 2964, 'assault': 2965, 'bakshi': 2966, 'qualifi': 2967, 'melodramat': 2968, 'coincid': 2969, 'sketch': 2970, 'resolv': 2971, 'fist': 2972, 'samurai': 2973, 'exchang': 2974, 'vulner': 2975, 'vari': 2976, '2002': 2977, 'divers': 2978, 'increasingli': 2979, 'rex': 2980, 'tame': 2981, 'luckili': 2982, 'templ': 2983, 'scratch': 2984, 'suspend': 2985, 'blast': 2986, 'brillianc': 2987, 'insert': 2988, 'reynold': 2989, 'be': 2990, 'conveni': 2991, 'meat': 2992, 'matthew': 2993, 'seventi': 2994, 'nuclear': 2995, 'gotta': 2996, 'walker': 2997, 'ambiti': 2998, 'coach': 2999, 'soprano': 3000, 'hamilton': 3001, 'farm': 3002, 'strictli': 3003, 'jami': 3004, 'pin': 3005, 'fisher': 3006, 'ninja': 3007, 'instantli': 3008, 'revers': 3009, 'convolut': 3010, 'closet': 3011, 'struck': 3012, 'monk': 3013, 'worthless': 3014, 'grasp': 3015, 'kudo': 3016, 'timeless': 3017, 'discoveri': 3018, 'recreat': 3019, 'butcher': 3020, 'spooki': 3021, 'eccentr': 3022, 'joey': 3023, 'clock': 3024, 'cave': 3025, 'brosnan': 3026, 'empir': 3027, 'inconsist': 3028, 'sloppi': 3029, 'eighti': 3030, 'cliff': 3031, 'wipe': 3032, 'fifteen': 3033, 'importantli': 3034, 'pal': 3035, 'evok': 3036, 'sidekick': 3037, 'gray': 3038, 'partli': 3039, 'clown': 3040, 'seller': 3041, 'selfish': 3042, 'norman': 3043, 'bleak': 3044, 'declar': 3045, 'miracl': 3046, 'mitchel': 3047, 'communist': 3048, 'aforement': 3049, '45': 3050, 'lifestyl': 3051, 'enthusiast': 3052, 'cheek': 3053, 'websit': 3054, 'seed': 3055, 'superbl': 3056, 'destin': 3057, 'australia': 3058, 'psychiatrist': 3059, 'piano': 3060, 'chew': 3061, 'farc': 3062, 'flawless': 3063, 'debat': 3064, 'ho': 3065, 'stoog': 3066, 'dire': 3067, 'akshay': 3068, 'incompet': 3069, 'emili': 3070, 'anni': 3071, 'drivel': 3072, 'wrestl': 3073, 'wick': 3074, 'pressur': 3075, 'soviet': 3076, 'kitchen': 3077, 'regardless': 3078, 'directori': 3079, 'splatter': 3080, 'abc': 3081, 'bash': 3082, 'dash': 3083, 'slice': 3084, 'jar': 3085, 'suppli': 3086, 'dave': 3087, 'flower': 3088, 'distant': 3089, 'judi': 3090, 'duo': 3091, 'increas': 3092, 'seduc': 3093, 'ken': 3094, 'cameron': 3095, 'curios': 3096, 'recov': 3097, 'artifici': 3098, 'beaten': 3099, 'lou': 3100, 'boil': 3101, 'doo': 3102, 'pleasantli': 3103, 'cia': 3104, 'mann': 3105, 'chapter': 3106, 'helicopt': 3107, 'blob': 3108, 'glow': 3109, 'cagney': 3110, 'prize': 3111, 'craig': 3112, 'web': 3113, 'craven': 3114, 'splendid': 3115, 'turner': 3116, 'drunken': 3117, 'psychot': 3118, 'hop': 3119, 'goldberg': 3120, 'ellen': 3121, 'francisco': 3122, 'ranger': 3123, 'glenn': 3124, 'panic': 3125, 'laurel': 3126, 'favour': 3127, 'combat': 3128, 'eleg': 3129, 'perri': 3130, 'greek': 3131, 'min': 3132, 'shortli': 3133, 'gentl': 3134, 'plausibl': 3135, 'slightest': 3136, 'fx': 3137, 'rid': 3138, 'alexand': 3139, 'philosophi': 3140, '20th': 3141, 'wizard': 3142, 'flip': 3143, 'falk': 3144, 'hatr': 3145, 'gandhi': 3146, 'graduat': 3147, 'modesti': 3148, 'ruth': 3149, 'lend': 3150, 'fund': 3151, 'preciou': 3152, 'ocean': 3153, 'we': 3154, 'harm': 3155, 'tall': 3156, 'legal': 3157, 'holi': 3158, 'knight': 3159, 'jealou': 3160, 'manhattan': 3161, 'dracula': 3162, 'futurist': 3163, 'unpleas': 3164, 'felix': 3165, 'digniti': 3166, 'bless': 3167, 'overdon': 3168, 'giallo': 3169, 'scientif': 3170, 'explicit': 3171, 'childish': 3172, 'nod': 3173, 'forbidden': 3174, 'tank': 3175, 'ami': 3176, 'mock': 3177, 'thread': 3178, 'reviv': 3179, '99': 3180, 'repeatedli': 3181, 'awe': 3182, 'pirat': 3183, '2004': 3184, 'broad': 3185, 'fever': 3186, 'torment': 3187, 'yesterday': 3188, 'nerv': 3189, 'unwatch': 3190, 'mel': 3191, 'eve': 3192, 'thick': 3193, 'awaken': 3194, 'elderli': 3195, 'margaret': 3196, 'verhoeven': 3197, 'uniform': 3198, 'custom': 3199, 'politician': 3200, 'timothi': 3201, 'absenc': 3202, 'automat': 3203, 'launch': 3204, 'eas': 3205, 'rivet': 3206, 'ambit': 3207, 'romero': 3208, 'royal': 3209, 'kay': 3210, 'lean': 3211, 'roman': 3212, 'stiller': 3213, 'griffith': 3214, 'acclaim': 3215, 'publish': 3216, 'bin': 3217, 'ah': 3218, 'phrase': 3219, 'warren': 3220, 'sunshin': 3221, 'transport': 3222, 'termin': 3223, 'gabriel': 3224, 'foul': 3225, 'pierc': 3226, 'darker': 3227, 'wallac': 3228, 'homicid': 3229, 'bathroom': 3230, 'purpl': 3231, 'antic': 3232, 'crook': 3233, 'stinker': 3234, 'pulp': 3235, 'tomato': 3236, '2003': 3237, 'album': 3238, 'marin': 3239, 'evolv': 3240, 'kenneth': 3241, 'brazil': 3242, 'revolutionari': 3243, 'donna': 3244, 'hollow': 3245, 'juvenil': 3246, 'ought': 3247, 'pray': 3248, 'packag': 3249, 'awak': 3250, 'coloni': 3251, 'karen': 3252, 'eyr': 3253, 'horrid': 3254, 'contrari': 3255, 'sixti': 3256, 'q': 3257, 'saint': 3258, 'li': 3259, 'viciou': 3260, 'rambo': 3261, 'prom': 3262, 'choreographi': 3263, 'twelv': 3264, 'boast': 3265, 'defi': 3266, 'dose': 3267, 'candid': 3268, 'ramon': 3269, 'beatti': 3270, 'blade': 3271, 'conserv': 3272, 'overr': 3273, 'stole': 3274, 'option': 3275, 'mildr': 3276, 'mummi': 3277, 'ireland': 3278, 'kapoor': 3279, 'nerd': 3280, 'protest': 3281, 'funer': 3282, 'collabor': 3283, 'detract': 3284, 'kirk': 3285, 'confirm': 3286, 'altman': 3287, 'fulci': 3288, 'flame': 3289, 'global': 3290, 'trio': 3291, 'astonish': 3292, 'jazz': 3293, 'natali': 3294, 'bottl': 3295, 'spit': 3296, 'mystic': 3297, 'destini': 3298, 'leap': 3299, 'audio': 3300, 'yellow': 3301, 'blake': 3302, 'nicholson': 3303, 'shade': 3304, 'delici': 3305, 'tommi': 3306, 'racial': 3307, 'enterpris': 3308, 'bull': 3309, 'whip': 3310, 'visibl': 3311, 'vivid': 3312, 'fonda': 3313, 'inherit': 3314, 'staff': 3315, 'altogeth': 3316, 'pseudo': 3317, 'bedroom': 3318, 'todd': 3319, 'reunit': 3320, 'meaningless': 3321, 'popcorn': 3322, 'harder': 3323, 'enchant': 3324, 'threw': 3325, 'swedish': 3326, 'merci': 3327, 'adolesc': 3328, 'neo': 3329, 'suspici': 3330, 'crocodil': 3331, 'fanat': 3332, 'jew': 3333, 'wire': 3334, 'edi': 3335, 'befriend': 3336, 'uneven': 3337, 'ruthless': 3338, 'decor': 3339, 'lawrenc': 3340, 'exhibit': 3341, 'voight': 3342, 'await': 3343, 'tip': 3344, 'synopsi': 3345, 'reserv': 3346, 'bust': 3347, 'moodi': 3348, 'kennedi': 3349, 'lemmon': 3350, 'atlanti': 3351, 'respond': 3352, 'roommat': 3353, 'leonard': 3354, 'madonna': 3355, 'ventur': 3356, 'carl': 3357, '2007': 3358, 'bargain': 3359, 'bold': 3360, 'audit': 3361, 'bradi': 3362, 'clint': 3363, 'garner': 3364, 'dimens': 3365, 'centr': 3366, 'chao': 3367, 'voyag': 3368, 'abysm': 3369, 'incident': 3370, 'rural': 3371, 'holli': 3372, 'palma': 3373, 'clumsi': 3374, 'unsettl': 3375, 'elimin': 3376, 'nearbi': 3377, 'acknowledg': 3378, 'poetic': 3379, 'tiger': 3380, 'cd': 3381, 'cuba': 3382, 'imperson': 3383, '2nd': 3384, 'echo': 3385, 'ant': 3386, 'hart': 3387, 'timon': 3388, 'trail': 3389, 'wealth': 3390, 'immigr': 3391, 'versu': 3392, 'daddi': 3393, 'characterist': 3394, 'mall': 3395, 'lit': 3396, 'troop': 3397, 'cari': 3398, 'neglect': 3399, 'humili': 3400, 'domest': 3401, 'homer': 3402, 'repuls': 3403, 'mistaken': 3404, 'infect': 3405, 'pun': 3406, 'solo': 3407, 'collaps': 3408, 'paus': 3409, 'celluloid': 3410, 'mickey': 3411, 'jeffrey': 3412, 'marshal': 3413, 'prejudic': 3414, 'saga': 3415, 'chest': 3416, 'promin': 3417, 'apolog': 3418, 'inappropri': 3419, 'undoubtedli': 3420, 'tribe': 3421, 'harvey': 3422, 'inan': 3423, 'coat': 3424, 'cake': 3425, 'leon': 3426, '1996': 3427, 'pant': 3428, 'olivi': 3429, 'ginger': 3430, 'gear': 3431, 'sore': 3432, 'interrupt': 3433, 'milk': 3434, 'hbo': 3435, 'assembl': 3436, 'equip': 3437, 'coffe': 3438, 'trace': 3439, 'devast': 3440, 'retain': 3441, 'solut': 3442, 'instant': 3443, 'colleagu': 3444, 'aveng': 3445, 'exot': 3446, 'highest': 3447, 'pot': 3448, 'humbl': 3449, 'jenni': 3450, 'vulgar': 3451, 'airplan': 3452, 'pen': 3453, 'brooklyn': 3454, 'furthermor': 3455, 'embrac': 3456, 'polanski': 3457, 'consum': 3458, 'institut': 3459, 'primari': 3460, 'florida': 3461, 'maggi': 3462, 'colonel': 3463, 'smaller': 3464, 'illog': 3465, 'sale': 3466, 'gender': 3467, 'seduct': 3468, 'ya': 3469, 'disabl': 3470, 'rick': 3471, 'bowl': 3472, 'descend': 3473, '3rd': 3474, 'principl': 3475, 'linda': 3476, 'dian': 3477, 'wive': 3478, 'cope': 3479, 'strain': 3480, 'outer': 3481, 'poke': 3482, 'godzilla': 3483, 'dutch': 3484, '1999': 3485, 'rabbit': 3486, 'beneath': 3487, 'predecessor': 3488, 'vast': 3489, 'scope': 3490, 'inferior': 3491, 'devoid': 3492, 'dive': 3493, 'hal': 3494, 'gundam': 3495, 'blatant': 3496, 'glamor': 3497, 'bubbl': 3498, 'secondli': 3499, 'dud': 3500, 'primarili': 3501, 'cue': 3502, 'gloriou': 3503, 'lol': 3504, 'yard': 3505, 'mixtur': 3506, 'arab': 3507, 'casual': 3508, 'domino': 3509, 'streep': 3510, 'et': 3511, 'invas': 3512, 'simplist': 3513, 'talki': 3514, 'senseless': 3515, 'disjoint': 3516, 'z': 3517, 'hideou': 3518, 'pearl': 3519, 'shelf': 3520, 'myer': 3521, 'alert': 3522, 'countrysid': 3523, 'breed': 3524, 'grinch': 3525, 'garbo': 3526, 'alfr': 3527, 'aggress': 3528, 'museum': 3529, 'trademark': 3530, 'shirley': 3531, 'april': 3532, 'mayor': 3533, 'applaud': 3534, 'illeg': 3535, 'acid': 3536, 'sh': 3537, 'loyal': 3538, 'disgrac': 3539, 'obtain': 3540, 'mail': 3541, 'robinson': 3542, 'oz': 3543, 'rendit': 3544, 'defens': 3545, 'boom': 3546, 'experiment': 3547, 'slide': 3548, 'khan': 3549, 'hopeless': 3550, 'uwe': 3551, 'stir': 3552, 'hardcor': 3553, 'vanish': 3554, 'unhappi': 3555, 'stellar': 3556, 'robberi': 3557, 'maci': 3558, 'stack': 3559, 'declin': 3560, 'spider': 3561, 'wont': 3562, 'grandfath': 3563, 'topless': 3564, 'soccer': 3565, 'span': 3566, 'counter': 3567, 'recruit': 3568, 'rifl': 3569, 'berlin': 3570, 'blew': 3571, 'fri': 3572, 'dicken': 3573, 'tempt': 3574, 'psychic': 3575, 'incomprehens': 3576, 'tenant': 3577, 'hartley': 3578, 'craze': 3579, 'scroog': 3580, 'emphasi': 3581, 'amanda': 3582, 'dismiss': 3583, 'diana': 3584, 'sympath': 3585, 'intim': 3586, 'bitch': 3587, 'trashi': 3588, 'revolt': 3589, 'faster': 3590, 'wet': 3591, 'parad': 3592, 'porno': 3593, 'justin': 3594, 'lumet': 3595, 'ethnic': 3596, 'shaw': 3597, 'niro': 3598, 'sibl': 3599, 'goer': 3600, 'shed': 3601, 'riot': 3602, 'woo': 3603, 'resurrect': 3604, 'ration': 3605, 'jonathan': 3606, 'gap': 3607, 'slick': 3608, 'rider': 3609, 'hesit': 3610, 'region': 3611, 'farmer': 3612, 'patriot': 3613, 'hopper': 3614, 'choru': 3615, 'wendi': 3616, 'eager': 3617, 'weakest': 3618, 'unreal': 3619, 'andr': 3620, 'worm': 3621, 'nephew': 3622, 'biographi': 3623, '00': 3624, 'ensur': 3625, 'wheel': 3626, 'honesti': 3627, 'dealer': 3628, 'enlighten': 3629, 'immort': 3630, 'steam': 3631, 'partial': 3632, 'commend': 3633, 'ballet': 3634, 'lena': 3635, 'mario': 3636, 'feminist': 3637, 'vice': 3638, 'blunt': 3639, 'charlott': 3640, 'skull': 3641, 'confin': 3642, 'victori': 3643, 'safeti': 3644, 'nostalg': 3645, 'owen': 3646, 'properti': 3647, 'hung': 3648, 'util': 3649, 'snap': 3650, 'psychopath': 3651, 'mutant': 3652, 'sappi': 3653, 'sandra': 3654, 'kingdom': 3655, 'franco': 3656, 'similarli': 3657, 'morri': 3658, 'prequel': 3659, 'composit': 3660, 'wore': 3661, 'leo': 3662, 'repress': 3663, 'macarthur': 3664, 'bonu': 3665, 'latin': 3666, 'drain': 3667, 'tail': 3668, 'del': 3669, 'dalton': 3670, '1972': 3671, 'despair': 3672, 'compass': 3673, 'repli': 3674, 'compens': 3675, 'dust': 3676, 'hyde': 3677, 'valuabl': 3678, 'exit': 3679, 'whoopi': 3680, 'miseri': 3681, 'farrel': 3682, 'snl': 3683, 'bumbl': 3684, 'bow': 3685, 'rocki': 3686, 'tad': 3687, 'kyle': 3688, 'speci': 3689, 'recycl': 3690, 'nervou': 3691, 'emperor': 3692, 'cg': 3693, 'rope': 3694, 'drum': 3695, 'pattern': 3696, 'bergman': 3697, 'deed': 3698, 'strand': 3699, 'montana': 3700, 'rambl': 3701, 'thru': 3702, 'campbel': 3703, 'heartbreak': 3704, 'acquir': 3705, 'carradin': 3706, 'tonight': 3707, 'romp': 3708, 'roth': 3709, 'wacki': 3710, 'pour': 3711, 'oppress': 3712, 'mistress': 3713, 'orson': 3714, 'slug': 3715, 'bleed': 3716, 'martian': 3717, 'gal': 3718, 'percept': 3719, '35': 3720, 'gimmick': 3721, 'rotten': 3722, 'downhil': 3723, 'da': 3724, 'contempl': 3725, 'radic': 3726, 'rapist': 3727, 'olli': 3728, 'airport': 3729, 'chess': 3730, '1983': 3731, 'attorney': 3732, 'unpredict': 3733, 'arc': 3734, 'belt': 3735, 'pervert': 3736, 'melodi': 3737, 'stilt': 3738, 'preach': 3739, 'slash': 3740, 'edgar': 3741, 'arguabl': 3742, 'tackl': 3743, 'champion': 3744, 'shelley': 3745, 'tooth': 3746, 'pursuit': 3747, 'paltrow': 3748, 'taught': 3749, 'programm': 3750, 'pervers': 3751, 'banal': 3752, 'dazzl': 3753, 'mislead': 3754, 'heal': 3755, 'bela': 3756, 'virginia': 3757, 'sensat': 3758, 'uplift': 3759, 'graham': 3760, 'conneri': 3761, 'cleverli': 3762, 'duval': 3763, 'dixon': 3764, 'employe': 3765, 'vocal': 3766, 'poem': 3767, 'maid': 3768, 'closest': 3769, 'orang': 3770, 'tiresom': 3771, 'raymond': 3772, 'vengeanc': 3773, 'plight': 3774, 'gambl': 3775, 'mesmer': 3776, 'franki': 3777, 'marti': 3778, 'rubi': 3779, 'chicken': 3780, 'passeng': 3781, 'volum': 3782, 'profan': 3783, 'mute': 3784, 'secretli': 3785, 'climact': 3786, 'outing': 3787, 'swallow': 3788, 'crystal': 3789, 'suffic': 3790, 'clone': 3791, 'convincingli': 3792, '1968': 3793, 'tube': 3794, 'numb': 3795, 'paranoia': 3796, 'quarter': 3797, 'scottish': 3798, 'yawn': 3799, 'gerard': 3800, 'habit': 3801, 'extens': 3802, 'monologu': 3803, 'calm': 3804, 'bay': 3805, 'pokemon': 3806, 'amitabh': 3807, 'giggl': 3808, 'lundgren': 3809, 'iran': 3810, 'whine': 3811, 'inject': 3812, 'engross': 3813, 'sirk': 3814, 'abraham': 3815, 'grotesqu': 3816, 'surpass': 3817, 'franci': 3818, 'poetri': 3819, 'bend': 3820, 'profess': 3821, 'septemb': 3822, 'junior': 3823, 'im': 3824, 'taxi': 3825, 'earl': 3826, 'lowest': 3827, 'richardson': 3828, 'ethan': 3829, 'trend': 3830, 'expand': 3831, 'chicago': 3832, 'linger': 3833, 'underst': 3834, 'abort': 3835, 'fed': 3836, 'nichola': 3837, 'meander': 3838, 'frankenstein': 3839, 'spock': 3840, 'backward': 3841, 'dispos': 3842, 'austen': 3843, 'plod': 3844, 'literatur': 3845, 'catchi': 3846, 'household': 3847, 'econom': 3848, 'lure': 3849, 'simplic': 3850, 'hum': 3851, 'muddl': 3852, 'sue': 3853, 'spoke': 3854, 'waitress': 3855, 'nostalgia': 3856, 'cannon': 3857, 'der': 3858, 'instrument': 3859, 'tourist': 3860, 'myth': 3861, 'dysfunct': 3862, 'rubber': 3863, 'compliment': 3864, 'stallon': 3865, 'descent': 3866, 'greedi': 3867, 'mundan': 3868, 'rant': 3869, 'eugen': 3870, 'dictat': 3871, 'stale': 3872, 'insur': 3873, 'alongsid': 3874, 'coast': 3875, 'mankind': 3876, 'crucial': 3877, 'eaten': 3878, 'phoni': 3879, 'carel': 3880, 'equival': 3881, 'recognit': 3882, 'deaf': 3883, 'recognis': 3884, 'occupi': 3885, 'lang': 3886, 'cent': 3887, 'hello': 3888, 'duck': 3889, 'dement': 3890, 'june': 3891, 'irrelev': 3892, 'flee': 3893, 'molli': 3894, 'map': 3895, 'randi': 3896, 'phantom': 3897, 'mortal': 3898, 'bacal': 3899, 'omen': 3900, 'louis': 3901, 'firstli': 3902, 'sissi': 3903, 'furi': 3904, 'damon': 3905, 'rude': 3906, 'freez': 3907, 'onlin': 3908, 'newli': 3909, 'grayson': 3910, 'reign': 3911, 'heel': 3912, 'labor': 3913, 'bike': 3914, 'drake': 3915, 'daisi': 3916, 'dreari': 3917, 'lengthi': 3918, 'likewis': 3919, 'cyborg': 3920, 'ashley': 3921, 'rooney': 3922, 'distinguish': 3923, 'twilight': 3924, 'bump': 3925, 'buffalo': 3926, '1973': 3927, 'wisdom': 3928, 'biko': 3929, 'blackmail': 3930, 'antwon': 3931, 'loyalti': 3932, 'damm': 3933, 'incorpor': 3934, 'sailor': 3935, 'keith': 3936, 'baddi': 3937, 'pink': 3938, 'basketbal': 3939, 'prey': 3940, 'inher': 3941, 'worn': 3942, 'vein': 3943, 'chronicl': 3944, 'startl': 3945, 'butler': 3946, 'attribut': 3947, 'tunnel': 3948, 'proce': 3949, 'unorigin': 3950, 'exposur': 3951, 'ridden': 3952, 'analysi': 3953, 'interior': 3954, 'barrymor': 3955, 'nineti': 3956, 'boxer': 3957, 'emphas': 3958, 'provoc': 3959, 'approv': 3960, 'bunni': 3961, 'predat': 3962, 'julian': 3963, 'millionair': 3964, 'indiffer': 3965, 'hypnot': 3966, 'underli': 3967, 'unrel': 3968, 'substitut': 3969, 'drift': 3970, 'degrad': 3971, 'nicol': 3972, 'er': 3973, 'belushi': 3974, 'barrel': 3975, 'robbin': 3976, 'mighti': 3977, 'simmon': 3978, 'fleet': 3979, 'meg': 3980, 'undeni': 3981, 'condemn': 3982, 'elm': 3983, 'mormon': 3984, 'othello': 3985, 'meyer': 3986, 'walsh': 3987, 'stalker': 3988, 'improvis': 3989, 'carla': 3990, 'warmth': 3991, 'agenda': 3992, '3d': 3993, 'edgi': 3994, 'alarm': 3995, 'exquisit': 3996, 'priceless': 3997, 'roof': 3998, 'unawar': 3999, 'firm': 4000, 'hay': 4001, 'disord': 4002, 'mtv': 4003, 'enthusiasm': 4004, 'novak': 4005, 'dolph': 4006, 'lampoon': 4007, 'errol': 4008, 'greed': 4009, 'marion': 4010, 'watson': 4011, 'alison': 4012, 'nyc': 4013, 'shove': 4014, 'palac': 4015, 'vital': 4016, 'rukh': 4017, 'reid': 4018, 'crown': 4019, 'profit': 4020, 'ponder': 4021, 'unleash': 4022, 'randomli': 4023, 'iraq': 4024, 'session': 4025, 'thompson': 4026, 'nun': 4027, 'testament': 4028, 'pamela': 4029, 'gestur': 4030, 'coup': 4031, 'eastern': 4032, 'peck': 4033, 'what': 4034, 'peril': 4035, 'distort': 4036, 'preserv': 4037, 'minimum': 4038, 'spain': 4039, '13th': 4040, 'valentin': 4041, 'championship': 4042, 'campaign': 4043, 'angela': 4044, 'israel': 4045, 'beatl': 4046, 'glanc': 4047, 'cassidi': 4048, '1933': 4049, 'drip': 4050, 'showdown': 4051, 'petti': 4052, 'simultan': 4053, 'zizek': 4054, 'orlean': 4055, 'sergeant': 4056, 'brenda': 4057, 'miyazaki': 4058, 'valley': 4059, 'stake': 4060, 'calib': 4061, 'realm': 4062, 'gentleman': 4063, 'stroke': 4064, 'wig': 4065, 'restrain': 4066, 'crow': 4067, 'exposit': 4068, 'cream': 4069, 'quinn': 4070, 'mon': 4071, 'reson': 4072, 'scotland': 4073, 'unimagin': 4074, 'han': 4075, '1984': 4076, 'empathi': 4077, 'rout': 4078, 'perpetu': 4079, 'bro': 4080, 'sabrina': 4081, 'regist': 4082, 'shootout': 4083, 'fido': 4084, 'buster': 4085, 'crawl': 4086, 'cooki': 4087, 'represent': 4088, 'jan': 4089, 'travesti': 4090, 'contradict': 4091, 'climat': 4092, 'din': 4093, 'kurosawa': 4094, 'perceiv': 4095, 'sammi': 4096, 'passabl': 4097, 'abomin': 4098, 'meryl': 4099, 'distress': 4100, 'greg': 4101, 'traumat': 4102, 'sucker': 4103, 'monoton': 4104, 'crawford': 4105, 'geek': 4106, 'censor': 4107, 'spacey': 4108, 'painter': 4109, '1987': 4110, 'absent': 4111, 'fuller': 4112, 'derang': 4113, 'shoddi': 4114, 'unseen': 4115, '1997': 4116, 'shaki': 4117, 'soderbergh': 4118, 'baldwin': 4119, 'businessman': 4120, 'pole': 4121, 'stargat': 4122, 'tacki': 4123, 'josh': 4124, 'dana': 4125, 'wax': 4126, 'unsatisfi': 4127, 'delic': 4128, 'ross': 4129, 'femm': 4130, 'cloud': 4131, 'pretens': 4132, 'demis': 4133, 'warrant': 4134, 'ustinov': 4135, 'darren': 4136, 'compromis': 4137, 'mclaglen': 4138, 'accuraci': 4139, 'jewel': 4140, 'fenc': 4141, 'furiou': 4142, '1993': 4143, 'kumar': 4144, 'wholli': 4145, 'nathan': 4146, 'expedit': 4147, 'deniro': 4148, 'sid': 4149, 'uncov': 4150, 'exclus': 4151, 'correctli': 4152, 'unravel': 4153, 'polici': 4154, 'tech': 4155, 'clash': 4156, 'verbal': 4157, 'dee': 4158, 'reluct': 4159, 'austin': 4160, 'judgment': 4161, 'fog': 4162, 'tarantino': 4163, 'antonioni': 4164, 'norm': 4165, 'valid': 4166, 'anchor': 4167, 'deceas': 4168, 'primit': 4169, 'click': 4170, 'seal': 4171, 'ritual': 4172, 'debt': 4173, 'darn': 4174, 'alec': 4175, 'trait': 4176, 'hallucin': 4177, 'conduct': 4178, 'nicola': 4179, 'sand': 4180, 'tax': 4181, 'wretch': 4182, 'fought': 4183, 'clerk': 4184, 'dreck': 4185, 'crippl': 4186, '1995': 4187, 'behold': 4188, 'patienc': 4189, 'wang': 4190, 'seldom': 4191, 'pocket': 4192, 'shanghai': 4193, 'roller': 4194, 'logan': 4195, '2008': 4196, 'fabric': 4197, 'sustain': 4198, 'mode': 4199, 'enforc': 4200, '3000': 4201, 'malon': 4202, 'slam': 4203, 'unfair': 4204, '1971': 4205, 'fart': 4206, 'joel': 4207, 'sunni': 4208, 'bake': 4209, 'sheet': 4210, 'temper': 4211, 'murray': 4212, 'vanc': 4213, 'squad': 4214, 'bridget': 4215, 'preposter': 4216, 'scriptwrit': 4217, 'stark': 4218, 'outlin': 4219, 'schedul': 4220, 'tactic': 4221, 'helpless': 4222, 'runner': 4223, 'grief': 4224, 'shell': 4225, 'phil': 4226, 'critiqu': 4227, 'isabel': 4228, 'soup': 4229, 'canyon': 4230, 'pete': 4231, 'robber': 4232, 'sweep': 4233, 'penni': 4234, 'stuart': 4235, 'despis': 4236, 'divid': 4237, 'technicolor': 4238, 'guitar': 4239, 'bias': 4240, 'clau': 4241, 'legaci': 4242, 'fundament': 4243, 'preston': 4244, 'rita': 4245, 'exhaust': 4246, 'conscious': 4247, 'passag': 4248, 'alicia': 4249, 'russia': 4250, 'inabl': 4251, 'marc': 4252, 'connor': 4253, 'cigarett': 4254, 'propos': 4255, 'culmin': 4256, 'rehash': 4257, 'jodi': 4258, 'drove': 4259, 'implic': 4260, 'vomit': 4261, 'agenc': 4262, 'palanc': 4263, 'sniper': 4264, 'newman': 4265, 'liberti': 4266, 'gregori': 4267, 'lacklust': 4268, 'downey': 4269, 'restrict': 4270, 'flair': 4271, 'rear': 4272, 'invad': 4273, 'sentinel': 4274, 'boyl': 4275, 'jacket': 4276, 'bloom': 4277, 'consciou': 4278, 'kansa': 4279, 'alley': 4280, 'delv': 4281, 'unexpectedli': 4282, 'sugar': 4283, 'horn': 4284, 'improb': 4285, 'delet': 4286, 'lush': 4287, 'behaviour': 4288, '1936': 4289, 'ladder': 4290, 'feat': 4291, 'tripe': 4292, 'rehears': 4293, 'bacon': 4294, 'rampag': 4295, 'pale': 4296, 'vet': 4297, 'awhil': 4298, 'asylum': 4299, 'foxx': 4300, 'wrench': 4301, 'mccoy': 4302, 'arrow': 4303, 'kolchak': 4304, 'cap': 4305, 'yeti': 4306, 'aesthet': 4307, 'sharon': 4308, 'chainsaw': 4309, 'karl': 4310, 'tendenc': 4311, '22': 4312, 'rod': 4313, 'suspicion': 4314, 'el': 4315, 'prank': 4316, 'minu': 4317, 'sung': 4318, 'hungri': 4319, 'scoop': 4320, 'newcom': 4321, 'financ': 4322, 'wildli': 4323, 'rhythm': 4324, '1978': 4325, 'amazon': 4326, 'elit': 4327, 'hackney': 4328, 'loneli': 4329, 'lurk': 4330, 'visitor': 4331, '1920': 4332, 'tomorrow': 4333, 'thunderbird': 4334, 'conscienc': 4335, '19th': 4336, 'basing': 4337, 'aristocrat': 4338, 'shortcom': 4339, 'filler': 4340, 'fright': 4341, 'tasteless': 4342, 'suffici': 4343, 'globe': 4344, 'rumor': 4345, 'coaster': 4346, 'stream': 4347, 'paradis': 4348, 'underneath': 4349, 'spice': 4350, 'paramount': 4351, 'hulk': 4352, 'weav': 4353, '1988': 4354, 'wagner': 4355, 'springer': 4356, 'quietli': 4357, 'straightforward': 4358, 'worship': 4359, 'dirt': 4360, 'chamberlain': 4361, 'rub': 4362, 'brit': 4363, 'inmat': 4364, 'cancer': 4365, 'standout': 4366, 'recogniz': 4367, 'teas': 4368, 'heist': 4369, 'en': 4370, 'literari': 4371, 'impos': 4372, 'iv': 4373, 'couch': 4374, '1989': 4375, 'beverli': 4376, 'wwe': 4377, 'posey': 4378, 'abrupt': 4379, 'choppi': 4380, 'atroc': 4381, 'secondari': 4382, 'penn': 4383, 'leigh': 4384, '75': 4385, 'minist': 4386, 'smell': 4387, 'immers': 4388, 'paxton': 4389, 'ram': 4390, 'tierney': 4391, 'entranc': 4392, '1939': 4393, 'lectur': 4394, 'counterpart': 4395, 'ingeni': 4396, 'hopkin': 4397, 'grudg': 4398, 'bread': 4399, 'naughti': 4400, 'curli': 4401, 'chavez': 4402, 'sassi': 4403, '1986': 4404, 'heartfelt': 4405, 'skeptic': 4406, 'policeman': 4407, 'enthral': 4408, 'sublim': 4409, 'morbid': 4410, 'geni': 4411, 'bernard': 4412, 'missil': 4413, 'moreov': 4414, 'convert': 4415, 'injuri': 4416, 'misguid': 4417, 'quaid': 4418, 'nemesi': 4419, 'lindsay': 4420, 'ace': 4421, 'nolan': 4422, 'yearn': 4423, 'entitl': 4424, 'laurenc': 4425, 'duel': 4426, 'net': 4427, 'watcher': 4428, 'attenborough': 4429, 'variat': 4430, 'transcend': 4431, 'cattl': 4432, 'clan': 4433, 'esther': 4434, 'ratso': 4435, 'setup': 4436, 'grin': 4437, 'dont': 4438, 'bean': 4439, 'mytholog': 4440, 'uncut': 4441, 'characteris': 4442, 'enabl': 4443, 'obstacl': 4444, 'kidman': 4445, 'bye': 4446, 'puppi': 4447, 'poe': 4448, 'egg': 4449, 'hopelessli': 4450, 'buzz': 4451, 'reliabl': 4452, 'graini': 4453, 'tyler': 4454, 'spiral': 4455, 'facil': 4456, 'out': 4457, 'moder': 4458, 'steadi': 4459, 'brood': 4460, 'unexplain': 4461, 'hk': 4462, 'youngest': 4463, 'artsi': 4464, 'cruelti': 4465, '1979': 4466, 'diari': 4467, 'carlito': 4468, 'rosemari': 4469, 'kitti': 4470, 'vader': 4471, 'oblig': 4472, 'bounc': 4473, 'baffl': 4474, 'spontan': 4475, 'christin': 4476, 'hain': 4477, 'disastr': 4478, 'clueless': 4479, 'despic': 4480, 'effici': 4481, 'fuel': 4482, 'narrow': 4483, 'bewar': 4484, 'acquaint': 4485, 'athlet': 4486, 'underworld': 4487, 'patricia': 4488, 'sweat': 4489, 'exterior': 4490, 'heap': 4491, 'niec': 4492, 'gillian': 4493, 'kline': 4494, 'bronson': 4495, 'weather': 4496, 'hammi': 4497, 'preming': 4498, 'decept': 4499, 'gina': 4500, '1969': 4501, 'martha': 4502, 'brendan': 4503, 'tick': 4504, 'virtu': 4505, 'rome': 4506, 'angst': 4507, 'viewpoint': 4508, 'loath': 4509, 'lester': 4510, 'circu': 4511, 'sleepwalk': 4512, 'trigger': 4513, 'uh': 4514, 'insipid': 4515, 'sooner': 4516, 'preachi': 4517, 'taboo': 4518, 'hepburn': 4519, 'dandi': 4520, '19': 4521, 'harmless': 4522, '73': 4523, 'dilemma': 4524, 'astound': 4525, 'fontain': 4526, 'renaiss': 4527, 'analyz': 4528, 'goof': 4529, 'shatter': 4530, 'biker': 4531, 'outlaw': 4532, 'mermaid': 4533, 'injur': 4534, 'loi': 4535, 'mayhem': 4536, 'housewif': 4537, 'candl': 4538, 'headach': 4539, 'suprem': 4540, 'scar': 4541, 'enlist': 4542, 'hooker': 4543, 'intric': 4544, 'redund': 4545, 'filth': 4546, 'slimi': 4547, 'glorifi': 4548, 'whore': 4549, 'claustrophob': 4550, 'phenomenon': 4551, 'macho': 4552, 'contempt': 4553, 'ebert': 4554, 'camcord': 4555, 'dismal': 4556, 'amor': 4557, 'spade': 4558, 'stimul': 4559, 'bent': 4560, 'immatur': 4561, 'surgeri': 4562, 'hostag': 4563, 'overlong': 4564, 'sox': 4565, 'steer': 4566, 'zoom': 4567, 'scorses': 4568, 'gere': 4569, 'dish': 4570, 'hokey': 4571, 'cassavet': 4572, 'boston': 4573, 'oldest': 4574, 'salt': 4575, 'tripl': 4576, 'fluff': 4577, 'stair': 4578, 'foolish': 4579, 'idol': 4580, 'guin': 4581, 'corbett': 4582, 'ariel': 4583, 'margin': 4584, 'harold': 4585, 'antagonist': 4586, 'beard': 4587, 'zane': 4588, 'joker': 4589, 'muscl': 4590, 'flag': 4591, 'mount': 4592, 'radiat': 4593, 'conquer': 4594, 'faint': 4595, 'spree': 4596, 'shield': 4597, '1976': 4598, 'schlock': 4599, 'spinal': 4600, 'down': 4601, 'keen': 4602, '1981': 4603, 'proport': 4604, 'messi': 4605, 'perman': 4606, 'widescreen': 4607, 'mutual': 4608, 'alvin': 4609, 'fascist': 4610, 'transplant': 4611, 'obligatori': 4612, 'cow': 4613, 'trivia': 4614, 'remad': 4615, 'dwarf': 4616, 'flashi': 4617, 'astronaut': 4618, 'frantic': 4619, 'strongest': 4620, 'corman': 4621, 'gasp': 4622, 'cohen': 4623, 'assert': 4624, 'shred': 4625, 'flirt': 4626, 'rhyme': 4627, 'preced': 4628, 'gabl': 4629, 'naschi': 4630, 'nolt': 4631, 'cush': 4632, 'danish': 4633, 'scandal': 4634, 'instruct': 4635, 'someday': 4636, 'sensual': 4637, 'vaniti': 4638, 'departur': 4639, 'neurot': 4640, '95': 4641, 'bitten': 4642, 'aborigin': 4643, 'triangl': 4644, '1945': 4645, 'strive': 4646, '28': 4647, 'interestingli': 4648, 'divin': 4649, 'flock': 4650, 'claud': 4651, 'barn': 4652, 'repris': 4653, 'off': 4654, 'deer': 4655, 'brush': 4656, 'resum': 4657, 'discern': 4658, 'wield': 4659, 'fishburn': 4660, 'raj': 4661, 'info': 4662, 'inflict': 4663, 'ritchi': 4664, 'mobil': 4665, 'boob': 4666, 'archiv': 4667, 'mol': 4668, 'carey': 4669, 'persuad': 4670, 'bachelor': 4671, 'www': 4672, 'hara': 4673, 'biblic': 4674, 'pacif': 4675, 'neill': 4676, 'axe': 4677, 'dame': 4678, 'artwork': 4679, 'recit': 4680, 'cycl': 4681, 'undermin': 4682, 'europa': 4683, 'miracul': 4684, 'cb': 4685, 'pixar': 4686, 'earnest': 4687, 'melissa': 4688, 'harrison': 4689, 'dim': 4690, 'colin': 4691, 'cher': 4692, 'timberlak': 4693, 'clad': 4694, 'casino': 4695, 'traffic': 4696, 'vibrant': 4697, 'hilar': 4698, 'helm': 4699, 'frontier': 4700, 'mobster': 4701, 'rot': 4702, 'prophet': 4703, 'wendigo': 4704, 'proclaim': 4705, 'senior': 4706, 'cliffhang': 4707, 'loretta': 4708, 'ish': 4709, 'luka': 4710, 'hapless': 4711, 'banter': 4712, 'submit': 4713, 'jade': 4714, 'dylan': 4715, 'fragil': 4716, 'hug': 4717, 'kathryn': 4718, 'bate': 4719, 'carlo': 4720, 'heartwarm': 4721, 'anton': 4722, 'parson': 4723, 'pickford': 4724, 'vanessa': 4725, 'estrang': 4726, 'token': 4727, 'alexandr': 4728, 'wardrob': 4729, 'legitim': 4730, 'shepherd': 4731, 'sicken': 4732, 'redneck': 4733, 'orphan': 4734, 'trier': 4735, 'rooki': 4736, 'misfortun': 4737, 'akin': 4738, 'breakfast': 4739, 'bondag': 4740, 'static': 4741, 'electron': 4742, 'seedi': 4743, 'northern': 4744, 'lui': 4745, 'mason': 4746, 'marlon': 4747, 'illus': 4748, 'eli': 4749, 'uma': 4750, 'lucil': 4751, 'isra': 4752, 'aris': 4753, 'flavor': 4754, 'holocaust': 4755, 'winchest': 4756, 'foil': 4757, 'venom': 4758, 'blatantli': 4759, 'articl': 4760, 'bikini': 4761, 'http': 4762, 'nope': 4763, 'feast': 4764, 'pc': 4765, 'razor': 4766, 'jo': 4767, 'jordan': 4768, 'choke': 4769, 'cerebr': 4770, 'vile': 4771, 'mathieu': 4772, 'milo': 4773, 'toronto': 4774, 'antholog': 4775, 'audrey': 4776, 'charlton': 4777, 'fifth': 4778, 'styliz': 4779, 'shorter': 4780, 'comprehend': 4781, 'smack': 4782, 'boyer': 4783, 'abund': 4784, 'clinic': 4785, 'huston': 4786, 'dudley': 4787, 'retriev': 4788, 'magician': 4789, 'frog': 4790, 'linear': 4791, 'glare': 4792, 'psych': 4793, 'swept': 4794, 'howl': 4795, 'oppon': 4796, 'leather': 4797, 'tack': 4798, 'highway': 4799, 'outdat': 4800, 'knightley': 4801, 'ideolog': 4802, 'deem': 4803, 'peer': 4804, 'cartoonish': 4805, 'disregard': 4806, 'feminin': 4807, 'wrestler': 4808, 'gilbert': 4809, 'turd': 4810, 'affleck': 4811, 'ceremoni': 4812, 'nightclub': 4813, 'gunga': 4814, 'snatch': 4815, 'btw': 4816, 'evolut': 4817, 'bogu': 4818, 'corn': 4819, 'energet': 4820, 'einstein': 4821, 'senat': 4822, 'bastard': 4823, 'spawn': 4824, 'braveheart': 4825, 'lifeless': 4826, 'client': 4827, 'goldsworthi': 4828, 'uniformli': 4829, 'moe': 4830, 'spine': 4831, 'newer': 4832, 'phenomen': 4833, 'lavish': 4834, 'durat': 4835, 'mitch': 4836, 'collector': 4837, 'summar': 4838, 'deliver': 4839, '1991': 4840, 'compris': 4841, 'conrad': 4842, 'greet': 4843, 'toe': 4844, 'breakdown': 4845, '1994': 4846, 'salman': 4847, 'lighter': 4848, 'plate': 4849, 'chip': 4850, 'cuban': 4851, '4th': 4852, 'boo': 4853, 'whack': 4854, 'sleaz': 4855, 'cemeteri': 4856, 'monument': 4857, 'potter': 4858, 'tara': 4859, 'outright': 4860, 'bori': 4861, 'signal': 4862, 'trauma': 4863, 'neatli': 4864, 'wtf': 4865, 'undead': 4866, 'constitut': 4867, 'luxuri': 4868, 'occup': 4869, 'jare': 4870, 'ie': 4871, 'jule': 4872, 'undertak': 4873, 'embark': 4874, 'spectacl': 4875, 'replay': 4876, 'appl': 4877, 'clara': 4878, 'sorrow': 4879, 'eleven': 4880, 'randolph': 4881, '1974': 4882, 'cecil': 4883, 'jedi': 4884, 'belli': 4885, 'armstrong': 4886, 'healthi': 4887, 'evelyn': 4888, 'inaccuraci': 4889, 'bulk': 4890, 'firmli': 4891, 'kent': 4892, 'fluid': 4893, '1977': 4894, 'alleg': 4895, 'mcqueen': 4896, 'ol': 4897, 'jam': 4898, 'historian': 4899, 'gilliam': 4900, 'nina': 4901, 'pronounc': 4902, 'creek': 4903, 'lex': 4904, 'capot': 4905, 'liu': 4906, 'kazan': 4907, 'judd': 4908, 'bsg': 4909, 'relentless': 4910, 'antonio': 4911, 'basket': 4912, 'mum': 4913, 'palm': 4914, 'porter': 4915, 'meal': 4916, 'curtain': 4917, 'sacrif': 4918, 'unattract': 4919, 'genet': 4920, 'walt': 4921, 'miniseri': 4922, 'congratul': 4923, 'vignett': 4924, 'knee': 4925, 'inaccur': 4926, 'roar': 4927, 'fruit': 4928, 'conan': 4929, 'aussi': 4930, '1985': 4931, 'carmen': 4932, 'abound': 4933, 'kiddi': 4934, 'tokyo': 4935, 'galaxi': 4936, 'poker': 4937, 'goldblum': 4938, 'ash': 4939, 'bait': 4940, 'decapit': 4941, 'truman': 4942, 'comprehens': 4943, 'subtli': 4944, 'sidewalk': 4945, 'forgiven': 4946, 'vain': 4947, 'pioneer': 4948, 'lanc': 4949, 'rosario': 4950, 'pepper': 4951, 'inclus': 4952, 'cape': 4953, 'miami': 4954, 'lauren': 4955, 'propheci': 4956, 'groan': 4957, 'comb': 4958, 'paula': 4959, 'blur': 4960, 'id': 4961, 'unsuspect': 4962, 'spray': 4963, 'assort': 4964, '21st': 4965, 'growth': 4966, 'sparkl': 4967, 'orchestr': 4968, 'spill': 4969, 'scariest': 4970, 'macabr': 4971, 'frontal': 4972, 'detach': 4973, 'victorian': 4974, 'bravo': 4975, 'jill': 4976, 'bach': 4977, 'drone': 4978, 'substanti': 4979, 'optimist': 4980, 'weaker': 4981, 'incorrect': 4982, 'motorcycl': 4983, 'masterson': 4984, 'weari': 4985, 'handicap': 4986, 'epitom': 4987, 'evan': 4988, 'dubiou': 4989, 'ingrid': 4990, 'monti': 4991, 'hackman': 4992, 'scarfac': 4993, 'omin': 4994, 'profil': 4995, 'ghetto': 4996, 'sophi': 4997, 'playboy': 4998, 'rapidli': 4999}\n"
     ]
    }
   ],
   "source": [
    "print(word_dict)"
   ]
  },
  {
   "cell_type": "markdown",
   "metadata": {},
   "source": [
    "### Save `word_dict`\n",
    "\n",
    "Later on when we construct an endpoint which processes a submitted review we will need to make use of the `word_dict` which we have created. As such, we will save it to a file now for future use."
   ]
  },
  {
   "cell_type": "code",
   "execution_count": 17,
   "metadata": {},
   "outputs": [],
   "source": [
    "data_dir = '../data/pytorch' # The folder we will use for storing data\n",
    "if not os.path.exists(data_dir): # Make sure that the folder exists\n",
    "    os.makedirs(data_dir)"
   ]
  },
  {
   "cell_type": "code",
   "execution_count": 18,
   "metadata": {},
   "outputs": [],
   "source": [
    "with open(os.path.join(data_dir, 'word_dict.pkl'), \"wb\") as f:\n",
    "    pickle.dump(word_dict, f)"
   ]
  },
  {
   "cell_type": "markdown",
   "metadata": {},
   "source": [
    "### Transform the reviews\n",
    "\n",
    "Now that we have our word dictionary which allows us to transform the words appearing in the reviews into integers, it is time to make use of it and convert our reviews to their integer sequence representation, making sure to pad or truncate to a fixed length, which in our case is `500`."
   ]
  },
  {
   "cell_type": "code",
   "execution_count": 19,
   "metadata": {},
   "outputs": [],
   "source": [
    "def convert_and_pad(word_dict, sentence, pad=500):\n",
    "    NOWORD = 0 # We will use 0 to represent the 'no word' category\n",
    "    INFREQ = 1 # and we use 1 to represent the infrequent words, i.e., words not appearing in word_dict\n",
    "    \n",
    "    working_sentence = [NOWORD] * pad\n",
    "    \n",
    "    for word_index, word in enumerate(sentence[:pad]):\n",
    "        if word in word_dict:\n",
    "            working_sentence[word_index] = word_dict[word]\n",
    "        else:\n",
    "            working_sentence[word_index] = INFREQ\n",
    "            \n",
    "    return working_sentence, min(len(sentence), pad)\n",
    "\n",
    "def convert_and_pad_data(word_dict, data, pad=500):\n",
    "    result = []\n",
    "    lengths = []\n",
    "    \n",
    "    for sentence in data:\n",
    "        converted, leng = convert_and_pad(word_dict, sentence, pad)\n",
    "        result.append(converted)\n",
    "        lengths.append(leng)\n",
    "        \n",
    "    return np.array(result), np.array(lengths)"
   ]
  },
  {
   "cell_type": "code",
   "execution_count": 20,
   "metadata": {},
   "outputs": [],
   "source": [
    "train_X, train_X_len = convert_and_pad_data(word_dict, train_X)\n",
    "test_X, test_X_len = convert_and_pad_data(word_dict, test_X)"
   ]
  },
  {
   "cell_type": "markdown",
   "metadata": {},
   "source": [
    "As a quick check to make sure that things are working as intended, check to see what one of the reviews in the training set looks like after having been processeed. Does this look reasonable? What is the length of a review in the training set?"
   ]
  },
  {
   "cell_type": "code",
   "execution_count": 21,
   "metadata": {},
   "outputs": [
    {
     "data": {
      "text/plain": [
       "array([   1,    1, 2197,   29, 1197,    1, 3766, 3074, 1234,    1,  744,\n",
       "        533, 3142, 3543,    1,   71,  366, 3969,  778,  559,    1,  104,\n",
       "          1, 1143,  855,    5,   24,   85,  297,   52, 2832,    1,   64,\n",
       "       3543,  743,  962,  345,   72,   80,  132,    1,  192, 1437, 1094,\n",
       "       3618, 4921,  741,  264,  691,   20,    1,    1,  115,   46,  282,\n",
       "          7,  503, 2832,  885,    1,  151,  170,  926, 3056,   60,    1,\n",
       "          1, 1051,    1, 1523,    2,    1, 1765, 2832,  110,   21,    1,\n",
       "         14,  142,  730,    1,   10, 1578,  158,    1,  114, 3096, 2800,\n",
       "       1059,    0,    0,    0,    0,    0,    0,    0,    0,    0,    0,\n",
       "          0,    0,    0,    0,    0,    0,    0,    0,    0,    0,    0,\n",
       "          0,    0,    0,    0,    0,    0,    0,    0,    0,    0,    0,\n",
       "          0,    0,    0,    0,    0,    0,    0,    0,    0,    0,    0,\n",
       "          0,    0,    0,    0,    0,    0,    0,    0,    0,    0,    0,\n",
       "          0,    0,    0,    0,    0,    0,    0,    0,    0,    0,    0,\n",
       "          0,    0,    0,    0,    0,    0,    0,    0,    0,    0,    0,\n",
       "          0,    0,    0,    0,    0,    0,    0,    0,    0,    0,    0,\n",
       "          0,    0,    0,    0,    0,    0,    0,    0,    0,    0,    0,\n",
       "          0,    0,    0,    0,    0,    0,    0,    0,    0,    0,    0,\n",
       "          0,    0,    0,    0,    0,    0,    0,    0,    0,    0,    0,\n",
       "          0,    0,    0,    0,    0,    0,    0,    0,    0,    0,    0,\n",
       "          0,    0,    0,    0,    0,    0,    0,    0,    0,    0,    0,\n",
       "          0,    0,    0,    0,    0,    0,    0,    0,    0,    0,    0,\n",
       "          0,    0,    0,    0,    0,    0,    0,    0,    0,    0,    0,\n",
       "          0,    0,    0,    0,    0,    0,    0,    0,    0,    0,    0,\n",
       "          0,    0,    0,    0,    0,    0,    0,    0,    0,    0,    0,\n",
       "          0,    0,    0,    0,    0,    0,    0,    0,    0,    0,    0,\n",
       "          0,    0,    0,    0,    0,    0,    0,    0,    0,    0,    0,\n",
       "          0,    0,    0,    0,    0,    0,    0,    0,    0,    0,    0,\n",
       "          0,    0,    0,    0,    0,    0,    0,    0,    0,    0,    0,\n",
       "          0,    0,    0,    0,    0,    0,    0,    0,    0,    0,    0,\n",
       "          0,    0,    0,    0,    0,    0,    0,    0,    0,    0,    0,\n",
       "          0,    0,    0,    0,    0,    0,    0,    0,    0,    0,    0,\n",
       "          0,    0,    0,    0,    0,    0,    0,    0,    0,    0,    0,\n",
       "          0,    0,    0,    0,    0,    0,    0,    0,    0,    0,    0,\n",
       "          0,    0,    0,    0,    0,    0,    0,    0,    0,    0,    0,\n",
       "          0,    0,    0,    0,    0,    0,    0,    0,    0,    0,    0,\n",
       "          0,    0,    0,    0,    0,    0,    0,    0,    0,    0,    0,\n",
       "          0,    0,    0,    0,    0,    0,    0,    0,    0,    0,    0,\n",
       "          0,    0,    0,    0,    0,    0,    0,    0,    0,    0,    0,\n",
       "          0,    0,    0,    0,    0,    0,    0,    0,    0,    0,    0,\n",
       "          0,    0,    0,    0,    0,    0,    0,    0,    0,    0,    0,\n",
       "          0,    0,    0,    0,    0,    0,    0,    0,    0,    0,    0,\n",
       "          0,    0,    0,    0,    0,    0,    0,    0,    0,    0,    0,\n",
       "          0,    0,    0,    0,    0,    0,    0,    0,    0,    0,    0,\n",
       "          0,    0,    0,    0,    0,    0,    0,    0,    0,    0,    0,\n",
       "          0,    0,    0,    0,    0])"
      ]
     },
     "execution_count": 21,
     "metadata": {},
     "output_type": "execute_result"
    }
   ],
   "source": [
    "# Use this cell to examine one of the processed reviews to make sure everything is working as intended.\n",
    "train_X[150]"
   ]
  },
  {
   "cell_type": "markdown",
   "metadata": {},
   "source": [
    "**Question:** In the cells above we use the `preprocess_data` and `convert_and_pad_data` methods to process both the training and testing set. Why or why not might this be a problem?"
   ]
  },
  {
   "cell_type": "markdown",
   "metadata": {},
   "source": [
    "**Answer:** this might not be a problem, because the input data must be preprocessed and padded to be input to the sentiment analysis model, although all these zeros take computing power to process, we might need to consider lowering the length of a review"
   ]
  },
  {
   "cell_type": "markdown",
   "metadata": {},
   "source": [
    "## Step 3: Upload the data to S3\n",
    "\n",
    "As in the XGBoost notebook, we will need to upload the training dataset to S3 in order for our training code to access it. For now we will save it locally and we will upload to S3 later on.\n",
    "\n",
    "### Save the processed training dataset locally\n",
    "\n",
    "It is important to note the format of the data that we are saving as we will need to know it when we write the training code. In our case, each row of the dataset has the form `label`, `length`, `review[500]` where `review[500]` is a sequence of `500` integers representing the words in the review."
   ]
  },
  {
   "cell_type": "code",
   "execution_count": 22,
   "metadata": {},
   "outputs": [],
   "source": [
    "import pandas as pd\n",
    "    \n",
    "pd.concat([pd.DataFrame(train_y), pd.DataFrame(train_X_len), pd.DataFrame(train_X)], axis=1) \\\n",
    "        .to_csv(os.path.join(data_dir, 'train.csv'), header=False, index=False)"
   ]
  },
  {
   "cell_type": "markdown",
   "metadata": {},
   "source": [
    "### Uploading the training data\n",
    "\n",
    "\n",
    "Next, we need to upload the training data to the SageMaker default S3 bucket so that we can provide access to it while training our model."
   ]
  },
  {
   "cell_type": "code",
   "execution_count": 23,
   "metadata": {},
   "outputs": [],
   "source": [
    "import sagemaker\n",
    "\n",
    "sagemaker_session = sagemaker.Session()\n",
    "\n",
    "bucket = sagemaker_session.default_bucket()\n",
    "prefix = 'sagemaker/sentiment_rnn'\n",
    "\n",
    "role = sagemaker.get_execution_role()"
   ]
  },
  {
   "cell_type": "code",
   "execution_count": 24,
   "metadata": {},
   "outputs": [],
   "source": [
    "input_data = sagemaker_session.upload_data(path=data_dir, bucket=bucket, key_prefix=prefix)"
   ]
  },
  {
   "cell_type": "markdown",
   "metadata": {},
   "source": [
    "**NOTE:** The cell above uploads the entire contents of our data directory. This includes the `word_dict.pkl` file. This is fortunate as we will need this later on when we create an endpoint that accepts an arbitrary review. For now, we will just take note of the fact that it resides in the data directory (and so also in the S3 training bucket) and that we will need to make sure it gets saved in the model directory."
   ]
  },
  {
   "cell_type": "markdown",
   "metadata": {},
   "source": [
    "## Step 4: Build and Train the PyTorch Model\n",
    "\n",
    "In the XGBoost notebook we discussed what a model is in the SageMaker framework. In particular, a model comprises three objects\n",
    "\n",
    " - Model Artifacts,\n",
    " - Training Code, and\n",
    " - Inference Code,\n",
    " \n",
    "each of which interact with one another. In the XGBoost example we used training and inference code that was provided by Amazon. Here we will still be using containers provided by Amazon with the added benefit of being able to include our own custom code.\n",
    "\n",
    "We will start by implementing our own neural network in PyTorch along with a training script. For the purposes of this project we have provided the necessary model object in the `model.py` file, inside of the `train` folder. You can see the provided implementation by running the cell below."
   ]
  },
  {
   "cell_type": "code",
   "execution_count": 25,
   "metadata": {},
   "outputs": [
    {
     "name": "stdout",
     "output_type": "stream",
     "text": [
      "\u001b[34mimport\u001b[39;49;00m \u001b[04m\u001b[36mtorch\u001b[39;49;00m\u001b[04m\u001b[36m.\u001b[39;49;00m\u001b[04m\u001b[36mnn\u001b[39;49;00m \u001b[34mas\u001b[39;49;00m \u001b[04m\u001b[36mnn\u001b[39;49;00m\r\n",
      "\r\n",
      "\u001b[34mclass\u001b[39;49;00m \u001b[04m\u001b[32mLSTMClassifier\u001b[39;49;00m(nn.Module):\r\n",
      "    \u001b[33m\"\"\"\u001b[39;49;00m\r\n",
      "\u001b[33m    This is the simple RNN model we will be using to perform Sentiment Analysis.\u001b[39;49;00m\r\n",
      "\u001b[33m    \"\"\"\u001b[39;49;00m\r\n",
      "\r\n",
      "    \u001b[34mdef\u001b[39;49;00m \u001b[32m__init__\u001b[39;49;00m(\u001b[36mself\u001b[39;49;00m, embedding_dim, hidden_dim, vocab_size):\r\n",
      "        \u001b[33m\"\"\"\u001b[39;49;00m\r\n",
      "\u001b[33m        Initialize the model by settingg up the various layers.\u001b[39;49;00m\r\n",
      "\u001b[33m        \"\"\"\u001b[39;49;00m\r\n",
      "        \u001b[36msuper\u001b[39;49;00m(LSTMClassifier, \u001b[36mself\u001b[39;49;00m).\u001b[32m__init__\u001b[39;49;00m()\r\n",
      "\r\n",
      "        \u001b[36mself\u001b[39;49;00m.embedding = nn.Embedding(vocab_size, embedding_dim, padding_idx=\u001b[34m0\u001b[39;49;00m)\r\n",
      "        \u001b[36mself\u001b[39;49;00m.lstm = nn.LSTM(embedding_dim, hidden_dim)\r\n",
      "        \u001b[36mself\u001b[39;49;00m.dense = nn.Linear(in_features=hidden_dim, out_features=\u001b[34m1\u001b[39;49;00m)\r\n",
      "        \u001b[36mself\u001b[39;49;00m.sig = nn.Sigmoid()\r\n",
      "        \r\n",
      "        \u001b[36mself\u001b[39;49;00m.word_dict = \u001b[34mNone\u001b[39;49;00m\r\n",
      "\r\n",
      "    \u001b[34mdef\u001b[39;49;00m \u001b[32mforward\u001b[39;49;00m(\u001b[36mself\u001b[39;49;00m, x):\r\n",
      "        \u001b[33m\"\"\"\u001b[39;49;00m\r\n",
      "\u001b[33m        Perform a forward pass of our model on some input.\u001b[39;49;00m\r\n",
      "\u001b[33m        \"\"\"\u001b[39;49;00m\r\n",
      "        x = x.t()\r\n",
      "        lengths = x[\u001b[34m0\u001b[39;49;00m,:]\r\n",
      "        reviews = x[\u001b[34m1\u001b[39;49;00m:,:]\r\n",
      "        embeds = \u001b[36mself\u001b[39;49;00m.embedding(reviews)\r\n",
      "        lstm_out, _ = \u001b[36mself\u001b[39;49;00m.lstm(embeds)\r\n",
      "        out = \u001b[36mself\u001b[39;49;00m.dense(lstm_out)\r\n",
      "        out = out[lengths - \u001b[34m1\u001b[39;49;00m, \u001b[36mrange\u001b[39;49;00m(\u001b[36mlen\u001b[39;49;00m(lengths))]\r\n",
      "        \u001b[34mreturn\u001b[39;49;00m \u001b[36mself\u001b[39;49;00m.sig(out.squeeze())\r\n"
     ]
    }
   ],
   "source": [
    "!pygmentize train/model.py"
   ]
  },
  {
   "cell_type": "markdown",
   "metadata": {},
   "source": [
    "The important takeaway from the implementation provided is that there are three parameters that we may wish to tweak to improve the performance of our model. These are the embedding dimension, the hidden dimension and the size of the vocabulary. We will likely want to make these parameters configurable in the training script so that if we wish to modify them we do not need to modify the script itself. We will see how to do this later on. To start we will write some of the training code in the notebook so that we can more easily diagnose any issues that arise.\n",
    "\n",
    "First we will load a small portion of the training data set to use as a sample. It would be very time consuming to try and train the model completely in the notebook as we do not have access to a gpu and the compute instance that we are using is not particularly powerful. However, we can work on a small bit of the data to get a feel for how our training script is behaving."
   ]
  },
  {
   "cell_type": "code",
   "execution_count": 26,
   "metadata": {},
   "outputs": [],
   "source": [
    "import torch\n",
    "import torch.utils.data\n",
    "\n",
    "# Read in only the first 250 rows\n",
    "train_sample = pd.read_csv(os.path.join(data_dir, 'train.csv'), header=None, names=None, nrows=250)\n",
    "\n",
    "# Turn the input pandas dataframe into tensors\n",
    "train_sample_y = torch.from_numpy(train_sample[[0]].values).float().squeeze()\n",
    "train_sample_X = torch.from_numpy(train_sample.drop([0], axis=1).values).long()\n",
    "\n",
    "# Build the dataset\n",
    "train_sample_ds = torch.utils.data.TensorDataset(train_sample_X, train_sample_y)\n",
    "# Build the dataloader\n",
    "train_sample_dl = torch.utils.data.DataLoader(train_sample_ds, batch_size=50)"
   ]
  },
  {
   "cell_type": "markdown",
   "metadata": {},
   "source": [
    "### (TODO) Writing the training method\n",
    "\n",
    "Next we need to write the training code itself. This should be very similar to training methods that you have written before to train PyTorch models. We will leave any difficult aspects such as model saving / loading and parameter loading until a little later."
   ]
  },
  {
   "cell_type": "code",
   "execution_count": 27,
   "metadata": {},
   "outputs": [],
   "source": [
    "def train(model, train_loader, epochs, optimizer, loss_fn, device):\n",
    "    for epoch in range(1, epochs + 1):\n",
    "        model.train()\n",
    "        total_loss = 0\n",
    "        for batch in train_loader:         \n",
    "            batch_X, batch_y = batch\n",
    "            \n",
    "            batch_X = batch_X.to(device)\n",
    "            batch_y = batch_y.to(device)\n",
    "            \n",
    "            # TODO: Complete this train method to train the model provided.\n",
    "            optimizer.zero_grad()\n",
    "            output = model(batch_X)\n",
    "            loss = loss_fn(output.squeeze(), batch_y.float())\n",
    "            loss.backward()\n",
    "            nn.utils.clip_grad_norm_(model.parameters(), 5)\n",
    "            optimizer.step()\n",
    "            \n",
    "            \n",
    "            total_loss += loss.data.item()\n",
    "        print(\"Epoch: {}, BCELoss: {}\".format(epoch, total_loss / len(train_loader)))"
   ]
  },
  {
   "cell_type": "markdown",
   "metadata": {},
   "source": [
    "Supposing we have the training method above, we will test that it is working by writing a bit of code in the notebook that executes our training method on the small sample training set that we loaded earlier. The reason for doing this in the notebook is so that we have an opportunity to fix any errors that arise early when they are easier to diagnose."
   ]
  },
  {
   "cell_type": "code",
   "execution_count": 28,
   "metadata": {},
   "outputs": [
    {
     "name": "stdout",
     "output_type": "stream",
     "text": [
      "Epoch: 1, BCELoss: 0.6922888278961181\n",
      "Epoch: 2, BCELoss: 0.682156765460968\n",
      "Epoch: 3, BCELoss: 0.6733623743057251\n",
      "Epoch: 4, BCELoss: 0.6635961294174194\n",
      "Epoch: 5, BCELoss: 0.6514515399932861\n"
     ]
    }
   ],
   "source": [
    "import torch.optim as optim\n",
    "from train.model import LSTMClassifier\n",
    "import torch.nn as nn\n",
    "\n",
    "device = torch.device(\"cuda\" if torch.cuda.is_available() else \"cpu\")\n",
    "model = LSTMClassifier(32, 100, 5000).to(device)\n",
    "optimizer = optim.Adam(model.parameters())\n",
    "loss_fn = torch.nn.BCELoss()\n",
    "\n",
    "train(model, train_sample_dl, 5, optimizer, loss_fn, device)"
   ]
  },
  {
   "cell_type": "markdown",
   "metadata": {},
   "source": [
    "In order to construct a PyTorch model using SageMaker we must provide SageMaker with a training script. We may optionally include a directory which will be copied to the container and from which our training code will be run. When the training container is executed it will check the uploaded directory (if there is one) for a `requirements.txt` file and install any required Python libraries, after which the training script will be run."
   ]
  },
  {
   "cell_type": "markdown",
   "metadata": {},
   "source": [
    "### (TODO) Training the model\n",
    "\n",
    "When a PyTorch model is constructed in SageMaker, an entry point must be specified. This is the Python file which will be executed when the model is trained. Inside of the `train` directory is a file called `train.py` which has been provided and which contains most of the necessary code to train our model. The only thing that is missing is the implementation of the `train()` method which you wrote earlier in this notebook.\n",
    "\n",
    "**TODO**: Copy the `train()` method written above and paste it into the `train/train.py` file where required.\n",
    "\n",
    "The way that SageMaker passes hyperparameters to the training script is by way of arguments. These arguments can then be parsed and used in the training script. To see how this is done take a look at the provided `train/train.py` file."
   ]
  },
  {
   "cell_type": "code",
   "execution_count": 29,
   "metadata": {},
   "outputs": [],
   "source": [
    "from sagemaker.pytorch import PyTorch\n",
    "\n",
    "estimator = PyTorch(entry_point=\"train.py\",\n",
    "                    source_dir=\"train\",\n",
    "                    role=role,\n",
    "                    framework_version='0.4.0',\n",
    "                    py_version='py3',\n",
    "                    train_instance_count=1,\n",
    "                    train_instance_type='ml.m4.xlarge',\n",
    "                    hyperparameters={\n",
    "                        'epochs': 10,\n",
    "                        'hidden_dim': 200,\n",
    "                    })"
   ]
  },
  {
   "cell_type": "code",
   "execution_count": 30,
   "metadata": {},
   "outputs": [
    {
     "name": "stderr",
     "output_type": "stream",
     "text": [
      "'create_image_uri' will be deprecated in favor of 'ImageURIProvider' class in SageMaker Python SDK v2.\n",
      "'s3_input' class will be renamed to 'TrainingInput' in SageMaker Python SDK v2.\n",
      "'create_image_uri' will be deprecated in favor of 'ImageURIProvider' class in SageMaker Python SDK v2.\n"
     ]
    },
    {
     "name": "stdout",
     "output_type": "stream",
     "text": [
      "2021-08-18 13:28:25 Starting - Starting the training job...\n",
      "2021-08-18 13:28:27 Starting - Launching requested ML instances...\n",
      "2021-08-18 13:29:19 Starting - Preparing the instances for training.........\n",
      "2021-08-18 13:30:33 Downloading - Downloading input data...\n",
      "2021-08-18 13:31:23 Training - Training image download completed. Training in progress..\u001b[34mbash: cannot set terminal process group (-1): Inappropriate ioctl for device\u001b[0m\n",
      "\u001b[34mbash: no job control in this shell\u001b[0m\n",
      "\u001b[34m2021-08-18 13:31:24,521 sagemaker-containers INFO     Imported framework sagemaker_pytorch_container.training\u001b[0m\n",
      "\u001b[34m2021-08-18 13:31:24,523 sagemaker-containers INFO     No GPUs detected (normal if no gpus installed)\u001b[0m\n",
      "\u001b[34m2021-08-18 13:31:24,540 sagemaker_pytorch_container.training INFO     Block until all host DNS lookups succeed.\u001b[0m\n",
      "\u001b[34m2021-08-18 13:31:24,544 sagemaker_pytorch_container.training INFO     Invoking user training script.\u001b[0m\n",
      "\u001b[34m2021-08-18 13:31:24,804 sagemaker-containers INFO     Module train does not provide a setup.py. \u001b[0m\n",
      "\u001b[34mGenerating setup.py\u001b[0m\n",
      "\u001b[34m2021-08-18 13:31:24,805 sagemaker-containers INFO     Generating setup.cfg\u001b[0m\n",
      "\u001b[34m2021-08-18 13:31:24,805 sagemaker-containers INFO     Generating MANIFEST.in\u001b[0m\n",
      "\u001b[34m2021-08-18 13:31:24,805 sagemaker-containers INFO     Installing module with the following command:\u001b[0m\n",
      "\u001b[34m/usr/bin/python -m pip install -U . -r requirements.txt\u001b[0m\n",
      "\u001b[34mProcessing /opt/ml/code\u001b[0m\n",
      "\u001b[34mCollecting pandas (from -r requirements.txt (line 1))\n",
      "  Downloading https://files.pythonhosted.org/packages/74/24/0cdbf8907e1e3bc5a8da03345c23cbed7044330bb8f73bb12e711a640a00/pandas-0.24.2-cp35-cp35m-manylinux1_x86_64.whl (10.0MB)\u001b[0m\n",
      "\u001b[34mCollecting numpy (from -r requirements.txt (line 2))\n",
      "  Downloading https://files.pythonhosted.org/packages/b5/36/88723426b4ff576809fec7d73594fe17a35c27f8d01f93637637a29ae25b/numpy-1.18.5-cp35-cp35m-manylinux1_x86_64.whl (19.9MB)\u001b[0m\n",
      "\u001b[34mCollecting nltk (from -r requirements.txt (line 3))\n",
      "  Downloading https://files.pythonhosted.org/packages/5e/37/9532ddd4b1bbb619333d5708aaad9bf1742f051a664c3c6fa6632a105fd8/nltk-3.6.2-py3-none-any.whl (1.5MB)\u001b[0m\n",
      "\u001b[34mCollecting beautifulsoup4 (from -r requirements.txt (line 4))\n",
      "  Downloading https://files.pythonhosted.org/packages/d1/41/e6495bd7d3781cee623ce23ea6ac73282a373088fcd0ddc809a047b18eae/beautifulsoup4-4.9.3-py3-none-any.whl (115kB)\u001b[0m\n",
      "\u001b[34mCollecting html5lib (from -r requirements.txt (line 5))\n",
      "  Downloading https://files.pythonhosted.org/packages/6c/dd/a834df6482147d48e225a49515aabc28974ad5a4ca3215c18a882565b028/html5lib-1.1-py2.py3-none-any.whl (112kB)\u001b[0m\n",
      "\u001b[34mRequirement already satisfied, skipping upgrade: python-dateutil>=2.5.0 in /usr/local/lib/python3.5/dist-packages (from pandas->-r requirements.txt (line 1)) (2.7.5)\u001b[0m\n",
      "\u001b[34mCollecting pytz>=2011k (from pandas->-r requirements.txt (line 1))\n",
      "  Downloading https://files.pythonhosted.org/packages/70/94/784178ca5dd892a98f113cdd923372024dc04b8d40abe77ca76b5fb90ca6/pytz-2021.1-py2.py3-none-any.whl (510kB)\u001b[0m\n",
      "\u001b[34mCollecting regex (from nltk->-r requirements.txt (line 3))\u001b[0m\n",
      "\u001b[34m  Downloading https://files.pythonhosted.org/packages/e7/76/825c82d90e02713827b8cd62ac7879a6b71eea6af6753e9babbdada05f00/regex-2021.8.3.tar.gz (693kB)\u001b[0m\n",
      "\u001b[34mCollecting tqdm (from nltk->-r requirements.txt (line 3))\n",
      "  Downloading https://files.pythonhosted.org/packages/96/8f/61d0ab27df8252139eadfd54ba92c6520fec87b205b23ccf77fc3b8225b8/tqdm-4.62.1-py2.py3-none-any.whl (76kB)\u001b[0m\n",
      "\u001b[34mRequirement already satisfied, skipping upgrade: click in /usr/local/lib/python3.5/dist-packages (from nltk->-r requirements.txt (line 3)) (7.0)\u001b[0m\n",
      "\u001b[34mCollecting joblib (from nltk->-r requirements.txt (line 3))\n",
      "  Downloading https://files.pythonhosted.org/packages/28/5c/cf6a2b65a321c4a209efcdf64c2689efae2cb62661f8f6f4bb28547cf1bf/joblib-0.14.1-py2.py3-none-any.whl (294kB)\u001b[0m\n",
      "\u001b[34mCollecting soupsieve>1.2; python_version >= \"3.0\" (from beautifulsoup4->-r requirements.txt (line 4))\n",
      "  Downloading https://files.pythonhosted.org/packages/02/fb/1c65691a9aeb7bd6ac2aa505b84cb8b49ac29c976411c6ab3659425e045f/soupsieve-2.1-py3-none-any.whl\u001b[0m\n",
      "\u001b[34mCollecting webencodings (from html5lib->-r requirements.txt (line 5))\n",
      "  Downloading https://files.pythonhosted.org/packages/f4/24/2a3e3df732393fed8b3ebf2ec078f05546de641fe1b667ee316ec1dcf3b7/webencodings-0.5.1-py2.py3-none-any.whl\u001b[0m\n",
      "\u001b[34mRequirement already satisfied, skipping upgrade: six>=1.9 in /usr/local/lib/python3.5/dist-packages (from html5lib->-r requirements.txt (line 5)) (1.11.0)\u001b[0m\n",
      "\u001b[34mBuilding wheels for collected packages: train, regex\n",
      "  Running setup.py bdist_wheel for train: started\u001b[0m\n",
      "\u001b[34m  Running setup.py bdist_wheel for train: finished with status 'done'\n",
      "  Stored in directory: /tmp/pip-ephem-wheel-cache-u6njvnu8/wheels/35/24/16/37574d11bf9bde50616c67372a334f94fa8356bc7164af8ca3\n",
      "  Running setup.py bdist_wheel for regex: started\u001b[0m\n",
      "\u001b[34m  Running setup.py bdist_wheel for regex: finished with status 'done'\n",
      "  Stored in directory: /root/.cache/pip/wheels/cc/4f/a3/3616cab496e56883cad1107a8f036678bbc39d7cb598f3652b\u001b[0m\n",
      "\u001b[34mSuccessfully built train regex\u001b[0m\n",
      "\u001b[34mInstalling collected packages: numpy, pytz, pandas, regex, tqdm, joblib, nltk, soupsieve, beautifulsoup4, webencodings, html5lib, train\n",
      "  Found existing installation: numpy 1.15.4\n",
      "    Uninstalling numpy-1.15.4:\u001b[0m\n",
      "\u001b[34m      Successfully uninstalled numpy-1.15.4\u001b[0m\n",
      "\u001b[34mSuccessfully installed beautifulsoup4-4.9.3 html5lib-1.1 joblib-0.14.1 nltk-3.6.2 numpy-1.18.5 pandas-0.24.2 pytz-2021.1 regex-2021.8.3 soupsieve-2.1 tqdm-4.62.1 train-1.0.0 webencodings-0.5.1\u001b[0m\n",
      "\u001b[34mYou are using pip version 18.1, however version 20.3.4 is available.\u001b[0m\n",
      "\u001b[34mYou should consider upgrading via the 'pip install --upgrade pip' command.\u001b[0m\n",
      "\u001b[34m2021-08-18 13:31:47,431 sagemaker-containers INFO     No GPUs detected (normal if no gpus installed)\u001b[0m\n",
      "\u001b[34m2021-08-18 13:31:47,445 sagemaker-containers INFO     Invoking user script\n",
      "\u001b[0m\n",
      "\u001b[34mTraining Env:\n",
      "\u001b[0m\n",
      "\u001b[34m{\n",
      "    \"num_cpus\": 4,\n",
      "    \"num_gpus\": 0,\n",
      "    \"current_host\": \"algo-1\",\n",
      "    \"hosts\": [\n",
      "        \"algo-1\"\n",
      "    ],\n",
      "    \"resource_config\": {\n",
      "        \"current_host\": \"algo-1\",\n",
      "        \"network_interface_name\": \"eth0\",\n",
      "        \"hosts\": [\n",
      "            \"algo-1\"\n",
      "        ]\n",
      "    },\n",
      "    \"output_intermediate_dir\": \"/opt/ml/output/intermediate\",\n",
      "    \"log_level\": 20,\n",
      "    \"output_dir\": \"/opt/ml/output\",\n",
      "    \"framework_module\": \"sagemaker_pytorch_container.training:main\",\n",
      "    \"output_data_dir\": \"/opt/ml/output/data\",\n",
      "    \"hyperparameters\": {\n",
      "        \"hidden_dim\": 200,\n",
      "        \"epochs\": 10\n",
      "    },\n",
      "    \"user_entry_point\": \"train.py\",\n",
      "    \"module_name\": \"train\",\n",
      "    \"input_data_config\": {\n",
      "        \"training\": {\n",
      "            \"RecordWrapperType\": \"None\",\n",
      "            \"S3DistributionType\": \"FullyReplicated\",\n",
      "            \"TrainingInputMode\": \"File\"\n",
      "        }\n",
      "    },\n",
      "    \"input_config_dir\": \"/opt/ml/input/config\",\n",
      "    \"additional_framework_parameters\": {},\n",
      "    \"model_dir\": \"/opt/ml/model\",\n",
      "    \"network_interface_name\": \"eth0\",\n",
      "    \"input_dir\": \"/opt/ml/input\",\n",
      "    \"job_name\": \"sagemaker-pytorch-2021-08-18-13-28-25-643\",\n",
      "    \"module_dir\": \"s3://sagemaker-us-east-2-830472586638/sagemaker-pytorch-2021-08-18-13-28-25-643/source/sourcedir.tar.gz\",\n",
      "    \"channel_input_dirs\": {\n",
      "        \"training\": \"/opt/ml/input/data/training\"\n",
      "    }\u001b[0m\n",
      "\u001b[34m}\n",
      "\u001b[0m\n",
      "\u001b[34mEnvironment variables:\n",
      "\u001b[0m\n",
      "\u001b[34mSM_NUM_CPUS=4\u001b[0m\n",
      "\u001b[34mSM_LOG_LEVEL=20\u001b[0m\n",
      "\u001b[34mSM_HP_EPOCHS=10\u001b[0m\n",
      "\u001b[34mSM_MODEL_DIR=/opt/ml/model\u001b[0m\n",
      "\u001b[34mSM_RESOURCE_CONFIG={\"current_host\":\"algo-1\",\"hosts\":[\"algo-1\"],\"network_interface_name\":\"eth0\"}\u001b[0m\n",
      "\u001b[34mSM_NUM_GPUS=0\u001b[0m\n",
      "\u001b[34mSM_FRAMEWORK_MODULE=sagemaker_pytorch_container.training:main\u001b[0m\n",
      "\u001b[34mSM_INPUT_CONFIG_DIR=/opt/ml/input/config\u001b[0m\n",
      "\u001b[34mSM_MODULE_NAME=train\u001b[0m\n",
      "\u001b[34mSM_INPUT_DATA_CONFIG={\"training\":{\"RecordWrapperType\":\"None\",\"S3DistributionType\":\"FullyReplicated\",\"TrainingInputMode\":\"File\"}}\u001b[0m\n",
      "\u001b[34mSM_CHANNEL_TRAINING=/opt/ml/input/data/training\u001b[0m\n",
      "\u001b[34mPYTHONPATH=/usr/local/bin:/usr/lib/python35.zip:/usr/lib/python3.5:/usr/lib/python3.5/plat-x86_64-linux-gnu:/usr/lib/python3.5/lib-dynload:/usr/local/lib/python3.5/dist-packages:/usr/lib/python3/dist-packages\u001b[0m\n",
      "\u001b[34mSM_USER_ENTRY_POINT=train.py\u001b[0m\n",
      "\u001b[34mSM_CHANNELS=[\"training\"]\u001b[0m\n",
      "\u001b[34mSM_NETWORK_INTERFACE_NAME=eth0\u001b[0m\n",
      "\u001b[34mSM_HOSTS=[\"algo-1\"]\u001b[0m\n",
      "\u001b[34mSM_TRAINING_ENV={\"additional_framework_parameters\":{},\"channel_input_dirs\":{\"training\":\"/opt/ml/input/data/training\"},\"current_host\":\"algo-1\",\"framework_module\":\"sagemaker_pytorch_container.training:main\",\"hosts\":[\"algo-1\"],\"hyperparameters\":{\"epochs\":10,\"hidden_dim\":200},\"input_config_dir\":\"/opt/ml/input/config\",\"input_data_config\":{\"training\":{\"RecordWrapperType\":\"None\",\"S3DistributionType\":\"FullyReplicated\",\"TrainingInputMode\":\"File\"}},\"input_dir\":\"/opt/ml/input\",\"job_name\":\"sagemaker-pytorch-2021-08-18-13-28-25-643\",\"log_level\":20,\"model_dir\":\"/opt/ml/model\",\"module_dir\":\"s3://sagemaker-us-east-2-830472586638/sagemaker-pytorch-2021-08-18-13-28-25-643/source/sourcedir.tar.gz\",\"module_name\":\"train\",\"network_interface_name\":\"eth0\",\"num_cpus\":4,\"num_gpus\":0,\"output_data_dir\":\"/opt/ml/output/data\",\"output_dir\":\"/opt/ml/output\",\"output_intermediate_dir\":\"/opt/ml/output/intermediate\",\"resource_config\":{\"current_host\":\"algo-1\",\"hosts\":[\"algo-1\"],\"network_interface_name\":\"eth0\"},\"user_entry_point\":\"train.py\"}\u001b[0m\n",
      "\u001b[34mSM_OUTPUT_DIR=/opt/ml/output\u001b[0m\n",
      "\u001b[34mSM_OUTPUT_DATA_DIR=/opt/ml/output/data\u001b[0m\n",
      "\u001b[34mSM_USER_ARGS=[\"--epochs\",\"10\",\"--hidden_dim\",\"200\"]\u001b[0m\n",
      "\u001b[34mSM_MODULE_DIR=s3://sagemaker-us-east-2-830472586638/sagemaker-pytorch-2021-08-18-13-28-25-643/source/sourcedir.tar.gz\u001b[0m\n",
      "\u001b[34mSM_CURRENT_HOST=algo-1\u001b[0m\n",
      "\u001b[34mSM_OUTPUT_INTERMEDIATE_DIR=/opt/ml/output/intermediate\u001b[0m\n",
      "\u001b[34mSM_HP_HIDDEN_DIM=200\u001b[0m\n",
      "\u001b[34mSM_FRAMEWORK_PARAMS={}\u001b[0m\n",
      "\u001b[34mSM_INPUT_DIR=/opt/ml/input\u001b[0m\n",
      "\u001b[34mSM_HPS={\"epochs\":10,\"hidden_dim\":200}\n",
      "\u001b[0m\n",
      "\u001b[34mInvoking script with the following command:\n",
      "\u001b[0m\n",
      "\u001b[34m/usr/bin/python -m train --epochs 10 --hidden_dim 200\n",
      "\n",
      "\u001b[0m\n",
      "\u001b[34mUsing device cpu.\u001b[0m\n",
      "\u001b[34mGet train data loader.\u001b[0m\n",
      "\u001b[34mModel loaded with embedding_dim 32, hidden_dim 200, vocab_size 5000.\u001b[0m\n",
      "\u001b[34mEpoch: 1, BCELoss: 0.6704502190862384\u001b[0m\n",
      "\u001b[34mEpoch: 2, BCELoss: 0.5993827557077214\u001b[0m\n",
      "\u001b[34mEpoch: 3, BCELoss: 0.5017466715403965\u001b[0m\n",
      "\u001b[34mEpoch: 4, BCELoss: 0.42284188221911995\u001b[0m\n",
      "\u001b[34mEpoch: 5, BCELoss: 0.37307440626377963\u001b[0m\n",
      "\u001b[34mEpoch: 6, BCELoss: 0.35145432365183926\u001b[0m\n",
      "\u001b[34mEpoch: 7, BCELoss: 0.3248883637846733\u001b[0m\n",
      "\u001b[34mEpoch: 8, BCELoss: 0.3018147428424991\u001b[0m\n",
      "\u001b[34mEpoch: 9, BCELoss: 0.28070254046089793\u001b[0m\n",
      "\n",
      "2021-08-18 15:29:00 Uploading - Uploading generated training model\u001b[34mEpoch: 10, BCELoss: 0.2683486746890204\u001b[0m\n",
      "\u001b[34m2021-08-18 15:28:54,874 sagemaker-containers INFO     Reporting training SUCCESS\u001b[0m\n",
      "\n",
      "2021-08-18 15:29:07 Completed - Training job completed\n",
      "Training seconds: 7114\n",
      "Billable seconds: 7114\n"
     ]
    }
   ],
   "source": [
    "estimator.fit({'training': input_data})"
   ]
  },
  {
   "cell_type": "markdown",
   "metadata": {},
   "source": [
    "## Step 5: Testing the model\n",
    "\n",
    "As mentioned at the top of this notebook, we will be testing this model by first deploying it and then sending the testing data to the deployed endpoint. We will do this so that we can make sure that the deployed model is working correctly.\n",
    "\n",
    "## Step 6: Deploy the model for testing\n",
    "\n",
    "Now that we have trained our model, we would like to test it to see how it performs. Currently our model takes input of the form `review_length, review[500]` where `review[500]` is a sequence of `500` integers which describe the words present in the review, encoded using `word_dict`. Fortunately for us, SageMaker provides built-in inference code for models with simple inputs such as this.\n",
    "\n",
    "There is one thing that we need to provide, however, and that is a function which loads the saved model. This function must be called `model_fn()` and takes as its only parameter a path to the directory where the model artifacts are stored. This function must also be present in the python file which we specified as the entry point. In our case the model loading function has been provided and so no changes need to be made.\n",
    "\n",
    "**NOTE**: When the built-in inference code is run it must import the `model_fn()` method from the `train.py` file. This is why the training code is wrapped in a main guard ( ie, `if __name__ == '__main__':` )\n",
    "\n",
    "Since we don't need to change anything in the code that was uploaded during training, we can simply deploy the current model as-is.\n",
    "\n",
    "**NOTE:** When deploying a model you are asking SageMaker to launch an compute instance that will wait for data to be sent to it. As a result, this compute instance will continue to run until *you* shut it down. This is important to know since the cost of a deployed endpoint depends on how long it has been running for.\n",
    "\n",
    "In other words **If you are no longer using a deployed endpoint, shut it down!**\n",
    "\n",
    "**TODO:** Deploy the trained model."
   ]
  },
  {
   "cell_type": "code",
   "execution_count": 31,
   "metadata": {},
   "outputs": [
    {
     "name": "stderr",
     "output_type": "stream",
     "text": [
      "Parameter image will be renamed to image_uri in SageMaker Python SDK v2.\n",
      "'create_image_uri' will be deprecated in favor of 'ImageURIProvider' class in SageMaker Python SDK v2.\n"
     ]
    },
    {
     "name": "stdout",
     "output_type": "stream",
     "text": [
      "-------------!"
     ]
    }
   ],
   "source": [
    "predictor = estimator.deploy(initial_instance_count=1, instance_type='ml.m4.xlarge')"
   ]
  },
  {
   "cell_type": "markdown",
   "metadata": {},
   "source": [
    "## Step 7 - Use the model for testing\n",
    "\n",
    "Once deployed, we can read in the test data and send it off to our deployed model to get some results. Once we collect all of the results we can determine how accurate our model is."
   ]
  },
  {
   "cell_type": "code",
   "execution_count": 32,
   "metadata": {},
   "outputs": [],
   "source": [
    "test_X = pd.concat([pd.DataFrame(test_X_len), pd.DataFrame(test_X)], axis=1)"
   ]
  },
  {
   "cell_type": "code",
   "execution_count": 33,
   "metadata": {},
   "outputs": [],
   "source": [
    "# We split the data into chunks and send each chunk seperately, accumulating the results.\n",
    "\n",
    "def predict(data, rows=512):\n",
    "    split_array = np.array_split(data, int(data.shape[0] / float(rows) + 1))\n",
    "    predictions = np.array([])\n",
    "    for array in split_array:\n",
    "        predictions = np.append(predictions, predictor.predict(array))\n",
    "    \n",
    "    return predictions"
   ]
  },
  {
   "cell_type": "code",
   "execution_count": 34,
   "metadata": {},
   "outputs": [],
   "source": [
    "predictions = predict(test_X.values)\n",
    "predictions = [round(num) for num in predictions]"
   ]
  },
  {
   "cell_type": "code",
   "execution_count": 35,
   "metadata": {},
   "outputs": [
    {
     "data": {
      "text/plain": [
       "0.84844"
      ]
     },
     "execution_count": 35,
     "metadata": {},
     "output_type": "execute_result"
    }
   ],
   "source": [
    "from sklearn.metrics import accuracy_score\n",
    "accuracy_score(test_y, predictions)"
   ]
  },
  {
   "cell_type": "markdown",
   "metadata": {},
   "source": [
    "**Question:** How does this model compare to the XGBoost model you created earlier? Why might these two models perform differently on this dataset? Which do *you* think is better for sentiment analysis?"
   ]
  },
  {
   "cell_type": "markdown",
   "metadata": {},
   "source": [
    "**Answer:** - it's nearly the same accuracy as the XGBoost model, but the RNN takes into consideration the sequence of words in a certain review, so the RNN captures the context of each review."
   ]
  },
  {
   "cell_type": "markdown",
   "metadata": {},
   "source": [
    "### (TODO) More testing\n",
    "\n",
    "We now have a trained model which has been deployed and which we can send processed reviews to and which returns the predicted sentiment. However, ultimately we would like to be able to send our model an unprocessed review. That is, we would like to send the review itself as a string. For example, suppose we wish to send the following review to our model."
   ]
  },
  {
   "cell_type": "code",
   "execution_count": 36,
   "metadata": {},
   "outputs": [],
   "source": [
    "test_review = 'The simplest pleasures in life are the best, and this film is one of them. Combining a rather basic storyline of love and adventure this movie transcends the usual weekend fair with wit and unmitigated charm.'"
   ]
  },
  {
   "cell_type": "markdown",
   "metadata": {},
   "source": [
    "The question we now need to answer is, how do we send this review to our model?\n",
    "\n",
    "Recall in the first section of this notebook we did a bunch of data processing to the IMDb dataset. In particular, we did two specific things to the provided reviews.\n",
    " - Removed any html tags and stemmed the input\n",
    " - Encoded the review as a sequence of integers using `word_dict`\n",
    " \n",
    "In order process the review we will need to repeat these two steps.\n",
    "\n",
    "**TODO**: Using the `review_to_words` and `convert_and_pad` methods from section one, convert `test_review` into a numpy array `test_data` suitable to send to our model. Remember that our model expects input of the form `review_length, review[500]`."
   ]
  },
  {
   "cell_type": "code",
   "execution_count": 37,
   "metadata": {},
   "outputs": [],
   "source": [
    "# TODO: Convert test_review into a form usable by the model and save the results in test_data\n",
    "test_data = review_to_words(test_review)"
   ]
  },
  {
   "cell_type": "code",
   "execution_count": 38,
   "metadata": {
    "scrolled": true
   },
   "outputs": [
    {
     "name": "stdout",
     "output_type": "stream",
     "text": [
      "['simplest', 'pleasur', 'life', 'best', 'film', 'one', 'combin', 'rather', 'basic', 'storylin', 'love', 'adventur', 'movi', 'transcend', 'usual', 'weekend', 'fair', 'wit', 'unmitig', 'charm']\n"
     ]
    }
   ],
   "source": [
    "print(test_data)"
   ]
  },
  {
   "cell_type": "code",
   "execution_count": 39,
   "metadata": {},
   "outputs": [],
   "source": [
    "test_data = convert_and_pad(word_dict, test_data)[0]"
   ]
  },
  {
   "cell_type": "code",
   "execution_count": 40,
   "metadata": {
    "scrolled": true
   },
   "outputs": [
    {
     "name": "stdout",
     "output_type": "stream",
     "text": [
      "[1, 1376, 50, 53, 3, 4, 878, 173, 392, 682, 29, 723, 2, 4431, 275, 2080, 1059, 760, 1, 580, 0, 0, 0, 0, 0, 0, 0, 0, 0, 0, 0, 0, 0, 0, 0, 0, 0, 0, 0, 0, 0, 0, 0, 0, 0, 0, 0, 0, 0, 0, 0, 0, 0, 0, 0, 0, 0, 0, 0, 0, 0, 0, 0, 0, 0, 0, 0, 0, 0, 0, 0, 0, 0, 0, 0, 0, 0, 0, 0, 0, 0, 0, 0, 0, 0, 0, 0, 0, 0, 0, 0, 0, 0, 0, 0, 0, 0, 0, 0, 0, 0, 0, 0, 0, 0, 0, 0, 0, 0, 0, 0, 0, 0, 0, 0, 0, 0, 0, 0, 0, 0, 0, 0, 0, 0, 0, 0, 0, 0, 0, 0, 0, 0, 0, 0, 0, 0, 0, 0, 0, 0, 0, 0, 0, 0, 0, 0, 0, 0, 0, 0, 0, 0, 0, 0, 0, 0, 0, 0, 0, 0, 0, 0, 0, 0, 0, 0, 0, 0, 0, 0, 0, 0, 0, 0, 0, 0, 0, 0, 0, 0, 0, 0, 0, 0, 0, 0, 0, 0, 0, 0, 0, 0, 0, 0, 0, 0, 0, 0, 0, 0, 0, 0, 0, 0, 0, 0, 0, 0, 0, 0, 0, 0, 0, 0, 0, 0, 0, 0, 0, 0, 0, 0, 0, 0, 0, 0, 0, 0, 0, 0, 0, 0, 0, 0, 0, 0, 0, 0, 0, 0, 0, 0, 0, 0, 0, 0, 0, 0, 0, 0, 0, 0, 0, 0, 0, 0, 0, 0, 0, 0, 0, 0, 0, 0, 0, 0, 0, 0, 0, 0, 0, 0, 0, 0, 0, 0, 0, 0, 0, 0, 0, 0, 0, 0, 0, 0, 0, 0, 0, 0, 0, 0, 0, 0, 0, 0, 0, 0, 0, 0, 0, 0, 0, 0, 0, 0, 0, 0, 0, 0, 0, 0, 0, 0, 0, 0, 0, 0, 0, 0, 0, 0, 0, 0, 0, 0, 0, 0, 0, 0, 0, 0, 0, 0, 0, 0, 0, 0, 0, 0, 0, 0, 0, 0, 0, 0, 0, 0, 0, 0, 0, 0, 0, 0, 0, 0, 0, 0, 0, 0, 0, 0, 0, 0, 0, 0, 0, 0, 0, 0, 0, 0, 0, 0, 0, 0, 0, 0, 0, 0, 0, 0, 0, 0, 0, 0, 0, 0, 0, 0, 0, 0, 0, 0, 0, 0, 0, 0, 0, 0, 0, 0, 0, 0, 0, 0, 0, 0, 0, 0, 0, 0, 0, 0, 0, 0, 0, 0, 0, 0, 0, 0, 0, 0, 0, 0, 0, 0, 0, 0, 0, 0, 0, 0, 0, 0, 0, 0, 0, 0, 0, 0, 0, 0, 0, 0, 0, 0, 0, 0, 0, 0, 0, 0, 0, 0, 0, 0, 0, 0, 0, 0, 0, 0, 0, 0, 0, 0, 0, 0, 0, 0, 0, 0, 0, 0, 0, 0, 0, 0, 0, 0, 0, 0, 0, 0, 0, 0, 0, 0, 0, 0, 0, 0, 0, 0, 0, 0, 0]\n"
     ]
    }
   ],
   "source": [
    "print(test_data)"
   ]
  },
  {
   "cell_type": "code",
   "execution_count": 41,
   "metadata": {},
   "outputs": [],
   "source": [
    "test_data = np.array(test_data)"
   ]
  },
  {
   "cell_type": "code",
   "execution_count": 42,
   "metadata": {
    "scrolled": true
   },
   "outputs": [
    {
     "name": "stdout",
     "output_type": "stream",
     "text": [
      "[   1 1376   50   53    3    4  878  173  392  682   29  723    2 4431\n",
      "  275 2080 1059  760    1  580    0    0    0    0    0    0    0    0\n",
      "    0    0    0    0    0    0    0    0    0    0    0    0    0    0\n",
      "    0    0    0    0    0    0    0    0    0    0    0    0    0    0\n",
      "    0    0    0    0    0    0    0    0    0    0    0    0    0    0\n",
      "    0    0    0    0    0    0    0    0    0    0    0    0    0    0\n",
      "    0    0    0    0    0    0    0    0    0    0    0    0    0    0\n",
      "    0    0    0    0    0    0    0    0    0    0    0    0    0    0\n",
      "    0    0    0    0    0    0    0    0    0    0    0    0    0    0\n",
      "    0    0    0    0    0    0    0    0    0    0    0    0    0    0\n",
      "    0    0    0    0    0    0    0    0    0    0    0    0    0    0\n",
      "    0    0    0    0    0    0    0    0    0    0    0    0    0    0\n",
      "    0    0    0    0    0    0    0    0    0    0    0    0    0    0\n",
      "    0    0    0    0    0    0    0    0    0    0    0    0    0    0\n",
      "    0    0    0    0    0    0    0    0    0    0    0    0    0    0\n",
      "    0    0    0    0    0    0    0    0    0    0    0    0    0    0\n",
      "    0    0    0    0    0    0    0    0    0    0    0    0    0    0\n",
      "    0    0    0    0    0    0    0    0    0    0    0    0    0    0\n",
      "    0    0    0    0    0    0    0    0    0    0    0    0    0    0\n",
      "    0    0    0    0    0    0    0    0    0    0    0    0    0    0\n",
      "    0    0    0    0    0    0    0    0    0    0    0    0    0    0\n",
      "    0    0    0    0    0    0    0    0    0    0    0    0    0    0\n",
      "    0    0    0    0    0    0    0    0    0    0    0    0    0    0\n",
      "    0    0    0    0    0    0    0    0    0    0    0    0    0    0\n",
      "    0    0    0    0    0    0    0    0    0    0    0    0    0    0\n",
      "    0    0    0    0    0    0    0    0    0    0    0    0    0    0\n",
      "    0    0    0    0    0    0    0    0    0    0    0    0    0    0\n",
      "    0    0    0    0    0    0    0    0    0    0    0    0    0    0\n",
      "    0    0    0    0    0    0    0    0    0    0    0    0    0    0\n",
      "    0    0    0    0    0    0    0    0    0    0    0    0    0    0\n",
      "    0    0    0    0    0    0    0    0    0    0    0    0    0    0\n",
      "    0    0    0    0    0    0    0    0    0    0    0    0    0    0\n",
      "    0    0    0    0    0    0    0    0    0    0    0    0    0    0\n",
      "    0    0    0    0    0    0    0    0    0    0    0    0    0    0\n",
      "    0    0    0    0    0    0    0    0    0    0    0    0    0    0\n",
      "    0    0    0    0    0    0    0    0    0    0]\n"
     ]
    }
   ],
   "source": [
    "print(test_data)"
   ]
  },
  {
   "cell_type": "code",
   "execution_count": 43,
   "metadata": {},
   "outputs": [],
   "source": [
    "test_data = [test_data]"
   ]
  },
  {
   "cell_type": "code",
   "execution_count": 44,
   "metadata": {},
   "outputs": [
    {
     "name": "stdout",
     "output_type": "stream",
     "text": [
      "[array([   1, 1376,   50,   53,    3,    4,  878,  173,  392,  682,   29,\n",
      "        723,    2, 4431,  275, 2080, 1059,  760,    1,  580,    0,    0,\n",
      "          0,    0,    0,    0,    0,    0,    0,    0,    0,    0,    0,\n",
      "          0,    0,    0,    0,    0,    0,    0,    0,    0,    0,    0,\n",
      "          0,    0,    0,    0,    0,    0,    0,    0,    0,    0,    0,\n",
      "          0,    0,    0,    0,    0,    0,    0,    0,    0,    0,    0,\n",
      "          0,    0,    0,    0,    0,    0,    0,    0,    0,    0,    0,\n",
      "          0,    0,    0,    0,    0,    0,    0,    0,    0,    0,    0,\n",
      "          0,    0,    0,    0,    0,    0,    0,    0,    0,    0,    0,\n",
      "          0,    0,    0,    0,    0,    0,    0,    0,    0,    0,    0,\n",
      "          0,    0,    0,    0,    0,    0,    0,    0,    0,    0,    0,\n",
      "          0,    0,    0,    0,    0,    0,    0,    0,    0,    0,    0,\n",
      "          0,    0,    0,    0,    0,    0,    0,    0,    0,    0,    0,\n",
      "          0,    0,    0,    0,    0,    0,    0,    0,    0,    0,    0,\n",
      "          0,    0,    0,    0,    0,    0,    0,    0,    0,    0,    0,\n",
      "          0,    0,    0,    0,    0,    0,    0,    0,    0,    0,    0,\n",
      "          0,    0,    0,    0,    0,    0,    0,    0,    0,    0,    0,\n",
      "          0,    0,    0,    0,    0,    0,    0,    0,    0,    0,    0,\n",
      "          0,    0,    0,    0,    0,    0,    0,    0,    0,    0,    0,\n",
      "          0,    0,    0,    0,    0,    0,    0,    0,    0,    0,    0,\n",
      "          0,    0,    0,    0,    0,    0,    0,    0,    0,    0,    0,\n",
      "          0,    0,    0,    0,    0,    0,    0,    0,    0,    0,    0,\n",
      "          0,    0,    0,    0,    0,    0,    0,    0,    0,    0,    0,\n",
      "          0,    0,    0,    0,    0,    0,    0,    0,    0,    0,    0,\n",
      "          0,    0,    0,    0,    0,    0,    0,    0,    0,    0,    0,\n",
      "          0,    0,    0,    0,    0,    0,    0,    0,    0,    0,    0,\n",
      "          0,    0,    0,    0,    0,    0,    0,    0,    0,    0,    0,\n",
      "          0,    0,    0,    0,    0,    0,    0,    0,    0,    0,    0,\n",
      "          0,    0,    0,    0,    0,    0,    0,    0,    0,    0,    0,\n",
      "          0,    0,    0,    0,    0,    0,    0,    0,    0,    0,    0,\n",
      "          0,    0,    0,    0,    0,    0,    0,    0,    0,    0,    0,\n",
      "          0,    0,    0,    0,    0,    0,    0,    0,    0,    0,    0,\n",
      "          0,    0,    0,    0,    0,    0,    0,    0,    0,    0,    0,\n",
      "          0,    0,    0,    0,    0,    0,    0,    0,    0,    0,    0,\n",
      "          0,    0,    0,    0,    0,    0,    0,    0,    0,    0,    0,\n",
      "          0,    0,    0,    0,    0,    0,    0,    0,    0,    0,    0,\n",
      "          0,    0,    0,    0,    0,    0,    0,    0,    0,    0,    0,\n",
      "          0,    0,    0,    0,    0,    0,    0,    0,    0,    0,    0,\n",
      "          0,    0,    0,    0,    0,    0,    0,    0,    0,    0,    0,\n",
      "          0,    0,    0,    0,    0,    0,    0,    0,    0,    0,    0,\n",
      "          0,    0,    0,    0,    0,    0,    0,    0,    0,    0,    0,\n",
      "          0,    0,    0,    0,    0,    0,    0,    0,    0,    0,    0,\n",
      "          0,    0,    0,    0,    0,    0,    0,    0,    0,    0,    0,\n",
      "          0,    0,    0,    0,    0,    0,    0,    0,    0,    0,    0,\n",
      "          0,    0,    0,    0,    0,    0,    0,    0,    0,    0,    0,\n",
      "          0,    0,    0,    0,    0])]\n"
     ]
    }
   ],
   "source": [
    "print(test_data)"
   ]
  },
  {
   "cell_type": "markdown",
   "metadata": {},
   "source": [
    "Now that we have processed the review, we can send the resulting array to our model to predict the sentiment of the review."
   ]
  },
  {
   "cell_type": "code",
   "execution_count": 45,
   "metadata": {},
   "outputs": [
    {
     "data": {
      "text/plain": [
       "array(0.5759909, dtype=float32)"
      ]
     },
     "execution_count": 45,
     "metadata": {},
     "output_type": "execute_result"
    }
   ],
   "source": [
    "predictor.predict(test_data)"
   ]
  },
  {
   "cell_type": "markdown",
   "metadata": {},
   "source": [
    "Since the return value of our model is close to `1`, we can be certain that the review we submitted is positive."
   ]
  },
  {
   "cell_type": "markdown",
   "metadata": {},
   "source": [
    "### Delete the endpoint\n",
    "\n",
    "Of course, just like in the XGBoost notebook, once we've deployed an endpoint it continues to run until we tell it to shut down. Since we are done using our endpoint for now, we can delete it."
   ]
  },
  {
   "cell_type": "code",
   "execution_count": 46,
   "metadata": {},
   "outputs": [
    {
     "name": "stderr",
     "output_type": "stream",
     "text": [
      "estimator.delete_endpoint() will be deprecated in SageMaker Python SDK v2. Please use the delete_endpoint() function on your predictor instead.\n"
     ]
    }
   ],
   "source": [
    "estimator.delete_endpoint()"
   ]
  },
  {
   "cell_type": "markdown",
   "metadata": {},
   "source": [
    "## Step 6 (again) - Deploy the model for the web app\n",
    "\n",
    "Now that we know that our model is working, it's time to create some custom inference code so that we can send the model a review which has not been processed and have it determine the sentiment of the review.\n",
    "\n",
    "As we saw above, by default the estimator which we created, when deployed, will use the entry script and directory which we provided when creating the model. However, since we now wish to accept a string as input and our model expects a processed review, we need to write some custom inference code.\n",
    "\n",
    "We will store the code that we write in the `serve` directory. Provided in this directory is the `model.py` file that we used to construct our model, a `utils.py` file which contains the `review_to_words` and `convert_and_pad` pre-processing functions which we used during the initial data processing, and `predict.py`, the file which will contain our custom inference code. Note also that `requirements.txt` is present which will tell SageMaker what Python libraries are required by our custom inference code.\n",
    "\n",
    "When deploying a PyTorch model in SageMaker, you are expected to provide four functions which the SageMaker inference container will use.\n",
    " - `model_fn`: This function is the same function that we used in the training script and it tells SageMaker how to load our model.\n",
    " - `input_fn`: This function receives the raw serialized input that has been sent to the model's endpoint and its job is to de-serialize and make the input available for the inference code.\n",
    " - `output_fn`: This function takes the output of the inference code and its job is to serialize this output and return it to the caller of the model's endpoint.\n",
    " - `predict_fn`: The heart of the inference script, this is where the actual prediction is done and is the function which you will need to complete.\n",
    "\n",
    "For the simple website that we are constructing during this project, the `input_fn` and `output_fn` methods are relatively straightforward. We only require being able to accept a string as input and we expect to return a single value as output. You might imagine though that in a more complex application the input or output may be image data or some other binary data which would require some effort to serialize.\n",
    "\n",
    "### (TODO) Writing inference code\n",
    "\n",
    "Before writing our custom inference code, we will begin by taking a look at the code which has been provided."
   ]
  },
  {
   "cell_type": "code",
   "execution_count": 47,
   "metadata": {},
   "outputs": [
    {
     "name": "stdout",
     "output_type": "stream",
     "text": [
      "\u001b[34mimport\u001b[39;49;00m \u001b[04m\u001b[36margparse\u001b[39;49;00m\r\n",
      "\u001b[34mimport\u001b[39;49;00m \u001b[04m\u001b[36mjson\u001b[39;49;00m\r\n",
      "\u001b[34mimport\u001b[39;49;00m \u001b[04m\u001b[36mos\u001b[39;49;00m\r\n",
      "\u001b[34mimport\u001b[39;49;00m \u001b[04m\u001b[36mpickle\u001b[39;49;00m\r\n",
      "\u001b[34mimport\u001b[39;49;00m \u001b[04m\u001b[36msys\u001b[39;49;00m\r\n",
      "\u001b[34mimport\u001b[39;49;00m \u001b[04m\u001b[36msagemaker_containers\u001b[39;49;00m\r\n",
      "\u001b[34mimport\u001b[39;49;00m \u001b[04m\u001b[36mpandas\u001b[39;49;00m \u001b[34mas\u001b[39;49;00m \u001b[04m\u001b[36mpd\u001b[39;49;00m\r\n",
      "\u001b[34mimport\u001b[39;49;00m \u001b[04m\u001b[36mnumpy\u001b[39;49;00m \u001b[34mas\u001b[39;49;00m \u001b[04m\u001b[36mnp\u001b[39;49;00m\r\n",
      "\u001b[34mimport\u001b[39;49;00m \u001b[04m\u001b[36mtorch\u001b[39;49;00m\r\n",
      "\u001b[34mimport\u001b[39;49;00m \u001b[04m\u001b[36mtorch\u001b[39;49;00m\u001b[04m\u001b[36m.\u001b[39;49;00m\u001b[04m\u001b[36mnn\u001b[39;49;00m \u001b[34mas\u001b[39;49;00m \u001b[04m\u001b[36mnn\u001b[39;49;00m\r\n",
      "\u001b[34mimport\u001b[39;49;00m \u001b[04m\u001b[36mtorch\u001b[39;49;00m\u001b[04m\u001b[36m.\u001b[39;49;00m\u001b[04m\u001b[36moptim\u001b[39;49;00m \u001b[34mas\u001b[39;49;00m \u001b[04m\u001b[36moptim\u001b[39;49;00m\r\n",
      "\u001b[34mimport\u001b[39;49;00m \u001b[04m\u001b[36mtorch\u001b[39;49;00m\u001b[04m\u001b[36m.\u001b[39;49;00m\u001b[04m\u001b[36mutils\u001b[39;49;00m\u001b[04m\u001b[36m.\u001b[39;49;00m\u001b[04m\u001b[36mdata\u001b[39;49;00m\r\n",
      "\r\n",
      "\u001b[34mfrom\u001b[39;49;00m \u001b[04m\u001b[36mmodel\u001b[39;49;00m \u001b[34mimport\u001b[39;49;00m LSTMClassifier\r\n",
      "\r\n",
      "\u001b[34mfrom\u001b[39;49;00m \u001b[04m\u001b[36mutils\u001b[39;49;00m \u001b[34mimport\u001b[39;49;00m review_to_words, convert_and_pad\r\n",
      "\r\n",
      "\u001b[34mdef\u001b[39;49;00m \u001b[32mmodel_fn\u001b[39;49;00m(model_dir):\r\n",
      "    \u001b[33m\"\"\"Load the PyTorch model from the `model_dir` directory.\"\"\"\u001b[39;49;00m\r\n",
      "    \u001b[36mprint\u001b[39;49;00m(\u001b[33m\"\u001b[39;49;00m\u001b[33mLoading model.\u001b[39;49;00m\u001b[33m\"\u001b[39;49;00m)\r\n",
      "\r\n",
      "    \u001b[37m# First, load the parameters used to create the model.\u001b[39;49;00m\r\n",
      "    model_info = {}\r\n",
      "    model_info_path = os.path.join(model_dir, \u001b[33m'\u001b[39;49;00m\u001b[33mmodel_info.pth\u001b[39;49;00m\u001b[33m'\u001b[39;49;00m)\r\n",
      "    \u001b[34mwith\u001b[39;49;00m \u001b[36mopen\u001b[39;49;00m(model_info_path, \u001b[33m'\u001b[39;49;00m\u001b[33mrb\u001b[39;49;00m\u001b[33m'\u001b[39;49;00m) \u001b[34mas\u001b[39;49;00m f:\r\n",
      "        model_info = torch.load(f)\r\n",
      "\r\n",
      "    \u001b[36mprint\u001b[39;49;00m(\u001b[33m\"\u001b[39;49;00m\u001b[33mmodel_info: \u001b[39;49;00m\u001b[33m{}\u001b[39;49;00m\u001b[33m\"\u001b[39;49;00m.format(model_info))\r\n",
      "\r\n",
      "    \u001b[37m# Determine the device and construct the model.\u001b[39;49;00m\r\n",
      "    device = torch.device(\u001b[33m\"\u001b[39;49;00m\u001b[33mcuda\u001b[39;49;00m\u001b[33m\"\u001b[39;49;00m \u001b[34mif\u001b[39;49;00m torch.cuda.is_available() \u001b[34melse\u001b[39;49;00m \u001b[33m\"\u001b[39;49;00m\u001b[33mcpu\u001b[39;49;00m\u001b[33m\"\u001b[39;49;00m)\r\n",
      "    model = LSTMClassifier(model_info[\u001b[33m'\u001b[39;49;00m\u001b[33membedding_dim\u001b[39;49;00m\u001b[33m'\u001b[39;49;00m], model_info[\u001b[33m'\u001b[39;49;00m\u001b[33mhidden_dim\u001b[39;49;00m\u001b[33m'\u001b[39;49;00m], model_info[\u001b[33m'\u001b[39;49;00m\u001b[33mvocab_size\u001b[39;49;00m\u001b[33m'\u001b[39;49;00m])\r\n",
      "\r\n",
      "    \u001b[37m# Load the store model parameters.\u001b[39;49;00m\r\n",
      "    model_path = os.path.join(model_dir, \u001b[33m'\u001b[39;49;00m\u001b[33mmodel.pth\u001b[39;49;00m\u001b[33m'\u001b[39;49;00m)\r\n",
      "    \u001b[34mwith\u001b[39;49;00m \u001b[36mopen\u001b[39;49;00m(model_path, \u001b[33m'\u001b[39;49;00m\u001b[33mrb\u001b[39;49;00m\u001b[33m'\u001b[39;49;00m) \u001b[34mas\u001b[39;49;00m f:\r\n",
      "        model.load_state_dict(torch.load(f))\r\n",
      "\r\n",
      "    \u001b[37m# Load the saved word_dict.\u001b[39;49;00m\r\n",
      "    word_dict_path = os.path.join(model_dir, \u001b[33m'\u001b[39;49;00m\u001b[33mword_dict.pkl\u001b[39;49;00m\u001b[33m'\u001b[39;49;00m)\r\n",
      "    \u001b[34mwith\u001b[39;49;00m \u001b[36mopen\u001b[39;49;00m(word_dict_path, \u001b[33m'\u001b[39;49;00m\u001b[33mrb\u001b[39;49;00m\u001b[33m'\u001b[39;49;00m) \u001b[34mas\u001b[39;49;00m f:\r\n",
      "        model.word_dict = pickle.load(f)\r\n",
      "\r\n",
      "    model.to(device).eval()\r\n",
      "\r\n",
      "    \u001b[36mprint\u001b[39;49;00m(\u001b[33m\"\u001b[39;49;00m\u001b[33mDone loading model.\u001b[39;49;00m\u001b[33m\"\u001b[39;49;00m)\r\n",
      "    \u001b[34mreturn\u001b[39;49;00m model\r\n",
      "\r\n",
      "\u001b[34mdef\u001b[39;49;00m \u001b[32minput_fn\u001b[39;49;00m(serialized_input_data, content_type):\r\n",
      "    \u001b[36mprint\u001b[39;49;00m(\u001b[33m'\u001b[39;49;00m\u001b[33mDeserializing the input data.\u001b[39;49;00m\u001b[33m'\u001b[39;49;00m)\r\n",
      "    \u001b[34mif\u001b[39;49;00m content_type == \u001b[33m'\u001b[39;49;00m\u001b[33mtext/plain\u001b[39;49;00m\u001b[33m'\u001b[39;49;00m:\r\n",
      "        data = serialized_input_data.decode(\u001b[33m'\u001b[39;49;00m\u001b[33mutf-8\u001b[39;49;00m\u001b[33m'\u001b[39;49;00m)\r\n",
      "        \u001b[34mreturn\u001b[39;49;00m data\r\n",
      "    \u001b[34mraise\u001b[39;49;00m \u001b[36mException\u001b[39;49;00m(\u001b[33m'\u001b[39;49;00m\u001b[33mRequested unsupported ContentType in content_type: \u001b[39;49;00m\u001b[33m'\u001b[39;49;00m + content_type)\r\n",
      "\r\n",
      "\u001b[34mdef\u001b[39;49;00m \u001b[32moutput_fn\u001b[39;49;00m(prediction_output, accept):\r\n",
      "    \u001b[36mprint\u001b[39;49;00m(\u001b[33m'\u001b[39;49;00m\u001b[33mSerializing the generated output.\u001b[39;49;00m\u001b[33m'\u001b[39;49;00m)\r\n",
      "    \u001b[34mreturn\u001b[39;49;00m \u001b[36mstr\u001b[39;49;00m(prediction_output)\r\n",
      "\r\n",
      "\u001b[34mdef\u001b[39;49;00m \u001b[32mpredict_fn\u001b[39;49;00m(input_data, model):\r\n",
      "    \u001b[36mprint\u001b[39;49;00m(\u001b[33m'\u001b[39;49;00m\u001b[33mInferring sentiment of input data.\u001b[39;49;00m\u001b[33m'\u001b[39;49;00m)\r\n",
      "\r\n",
      "    device = torch.device(\u001b[33m\"\u001b[39;49;00m\u001b[33mcuda\u001b[39;49;00m\u001b[33m\"\u001b[39;49;00m \u001b[34mif\u001b[39;49;00m torch.cuda.is_available() \u001b[34melse\u001b[39;49;00m \u001b[33m\"\u001b[39;49;00m\u001b[33mcpu\u001b[39;49;00m\u001b[33m\"\u001b[39;49;00m)\r\n",
      "    \r\n",
      "    \u001b[34mif\u001b[39;49;00m model.word_dict \u001b[35mis\u001b[39;49;00m \u001b[34mNone\u001b[39;49;00m:\r\n",
      "        \u001b[34mraise\u001b[39;49;00m \u001b[36mException\u001b[39;49;00m(\u001b[33m'\u001b[39;49;00m\u001b[33mModel has not been loaded properly, no word_dict.\u001b[39;49;00m\u001b[33m'\u001b[39;49;00m)\r\n",
      "    \r\n",
      "    \u001b[37m# TODO: Process input_data so that it is ready to be sent to our model.\u001b[39;49;00m\r\n",
      "    \u001b[37m#       You should produce two variables:\u001b[39;49;00m\r\n",
      "    \u001b[37m#         data_X   - A sequence of length 500 which represents the converted review\u001b[39;49;00m\r\n",
      "    \u001b[37m#         data_len - The length of the review\u001b[39;49;00m\r\n",
      "\r\n",
      "    word = review_to_words(input_data)\r\n",
      "    data_X, data_len = convert_and_pad(model.word_dict, word)\r\n",
      "\r\n",
      "    \u001b[37m# Using data_X and data_len we construct an appropriate input tensor. Remember\u001b[39;49;00m\r\n",
      "    \u001b[37m# that our model expects input data of the form 'len, review[500]'.\u001b[39;49;00m\r\n",
      "    data_pack = np.hstack((data_len, data_X))\r\n",
      "    data_pack = data_pack.reshape(\u001b[34m1\u001b[39;49;00m, -\u001b[34m1\u001b[39;49;00m)\r\n",
      "    \r\n",
      "    data = torch.from_numpy(data_pack)\r\n",
      "    data = data.to(device)\r\n",
      "\r\n",
      "    \u001b[37m# Make sure to put the model into evaluation mode\u001b[39;49;00m\r\n",
      "    model.eval()\r\n",
      "\r\n",
      "    \u001b[37m# TODO: Compute the result of applying the model to the input data. The variable `result` should\u001b[39;49;00m\r\n",
      "    \u001b[37m#       be a numpy array which contains a single integer which is either 1 or 0\u001b[39;49;00m\r\n",
      "    \u001b[34mwith\u001b[39;49;00m torch.no_grad():\r\n",
      "        output = model.forward(data)\r\n",
      "    output = output.to(\u001b[33m'\u001b[39;49;00m\u001b[33mcpu\u001b[39;49;00m\u001b[33m'\u001b[39;49;00m)\r\n",
      "    result = np.round(output.numpy())\r\n",
      "    result = \u001b[36mint\u001b[39;49;00m(result)\r\n",
      "\r\n",
      "\r\n",
      "    \u001b[34mreturn\u001b[39;49;00m result\r\n"
     ]
    }
   ],
   "source": [
    "!pygmentize serve/predict.py"
   ]
  },
  {
   "cell_type": "markdown",
   "metadata": {},
   "source": [
    "As mentioned earlier, the `model_fn` method is the same as the one provided in the training code and the `input_fn` and `output_fn` methods are very simple and your task will be to complete the `predict_fn` method. Make sure that you save the completed file as `predict.py` in the `serve` directory.\n",
    "\n",
    "**TODO**: Complete the `predict_fn()` method in the `serve/predict.py` file."
   ]
  },
  {
   "cell_type": "markdown",
   "metadata": {},
   "source": [
    "### Deploying the model\n",
    "\n",
    "Now that the custom inference code has been written, we will create and deploy our model. To begin with, we need to construct a new PyTorchModel object which points to the model artifacts created during training and also points to the inference code that we wish to use. Then we can call the deploy method to launch the deployment container.\n",
    "\n",
    "**NOTE**: The default behaviour for a deployed PyTorch model is to assume that any input passed to the predictor is a `numpy` array. In our case we want to send a string so we need to construct a simple wrapper around the `RealTimePredictor` class to accomodate simple strings. In a more complicated situation you may want to provide a serialization object, for example if you wanted to sent image data."
   ]
  },
  {
   "cell_type": "code",
   "execution_count": 48,
   "metadata": {},
   "outputs": [
    {
     "name": "stderr",
     "output_type": "stream",
     "text": [
      "Parameter image will be renamed to image_uri in SageMaker Python SDK v2.\n",
      "'create_image_uri' will be deprecated in favor of 'ImageURIProvider' class in SageMaker Python SDK v2.\n"
     ]
    },
    {
     "name": "stdout",
     "output_type": "stream",
     "text": [
      "------!"
     ]
    }
   ],
   "source": [
    "from sagemaker.predictor import RealTimePredictor\n",
    "from sagemaker.pytorch import PyTorchModel\n",
    "\n",
    "class StringPredictor(RealTimePredictor):\n",
    "    def __init__(self, endpoint_name, sagemaker_session):\n",
    "        super(StringPredictor, self).__init__(endpoint_name, sagemaker_session, content_type='text/plain')\n",
    "\n",
    "model = PyTorchModel(model_data=estimator.model_data,\n",
    "                     role = role,\n",
    "                     framework_version='0.4.0',\n",
    "                     entry_point='predict.py',\n",
    "                     py_version='py3',\n",
    "                     source_dir='serve',\n",
    "                     predictor_cls=StringPredictor)\n",
    "predictor = model.deploy(initial_instance_count=1, instance_type='ml.m4.xlarge')"
   ]
  },
  {
   "cell_type": "markdown",
   "metadata": {},
   "source": [
    "### Testing the model\n",
    "\n",
    "Now that we have deployed our model with the custom inference code, we should test to see if everything is working. Here we test our model by loading the first `250` positive and negative reviews and send them to the endpoint, then collect the results. The reason for only sending some of the data is that the amount of time it takes for our model to process the input and then perform inference is quite long and so testing the entire data set would be prohibitive."
   ]
  },
  {
   "cell_type": "code",
   "execution_count": 49,
   "metadata": {},
   "outputs": [],
   "source": [
    "import glob\n",
    "\n",
    "def test_reviews(data_dir='../data/aclImdb', stop=250):\n",
    "    \n",
    "    results = []\n",
    "    ground = []\n",
    "    \n",
    "    # We make sure to test both positive and negative reviews    \n",
    "    for sentiment in ['pos', 'neg']:\n",
    "        \n",
    "        path = os.path.join(data_dir, 'test', sentiment, '*.txt')\n",
    "        files = glob.glob(path)\n",
    "        \n",
    "        files_read = 0\n",
    "        \n",
    "        print('Starting ', sentiment, ' files')\n",
    "        \n",
    "        # Iterate through the files and send them to the predictor\n",
    "        for f in files:\n",
    "            with open(f) as review:\n",
    "                # First, we store the ground truth (was the review positive or negative)\n",
    "                if sentiment == 'pos':\n",
    "                    ground.append(1)\n",
    "                else:\n",
    "                    ground.append(0)\n",
    "                # Read in the review and convert to 'utf-8' for transmission via HTTP\n",
    "                review_input = review.read().encode('utf-8')\n",
    "                # Send the review to the predictor and store the results\n",
    "                results.append(float(predictor.predict(review_input)))\n",
    "                \n",
    "            # Sending reviews to our endpoint one at a time takes a while so we\n",
    "            # only send a small number of reviews\n",
    "            files_read += 1\n",
    "            if files_read == stop:\n",
    "                break\n",
    "            \n",
    "    return ground, results"
   ]
  },
  {
   "cell_type": "code",
   "execution_count": 50,
   "metadata": {},
   "outputs": [
    {
     "name": "stdout",
     "output_type": "stream",
     "text": [
      "Starting  pos  files\n"
     ]
    },
    {
     "ename": "ModelError",
     "evalue": "An error occurred (ModelError) when calling the InvokeEndpoint operation: Received server error (500) from primary with message \"<html>\n  <head>\n    <title>Internal Server Error</title>\n  </head>\n  <body>\n    <h1><p>Internal Server Error</p></h1>\n    \n  </body>\n</html>\n\". See https://us-east-2.console.aws.amazon.com/cloudwatch/home?region=us-east-2#logEventViewer:group=/aws/sagemaker/Endpoints/sagemaker-pytorch-2021-08-18-15-40-05-172 in account 830472586638 for more information.",
     "output_type": "error",
     "traceback": [
      "\u001b[0;31m---------------------------------------------------------------------------\u001b[0m",
      "\u001b[0;31mModelError\u001b[0m                                Traceback (most recent call last)",
      "\u001b[0;32m<ipython-input-50-27d1fd4b7c7b>\u001b[0m in \u001b[0;36m<module>\u001b[0;34m\u001b[0m\n\u001b[0;32m----> 1\u001b[0;31m \u001b[0mground\u001b[0m\u001b[0;34m,\u001b[0m \u001b[0mresults\u001b[0m \u001b[0;34m=\u001b[0m \u001b[0mtest_reviews\u001b[0m\u001b[0;34m(\u001b[0m\u001b[0;34m)\u001b[0m\u001b[0;34m\u001b[0m\u001b[0;34m\u001b[0m\u001b[0m\n\u001b[0m",
      "\u001b[0;32m<ipython-input-49-f3b0feb90653>\u001b[0m in \u001b[0;36mtest_reviews\u001b[0;34m(data_dir, stop)\u001b[0m\n\u001b[1;32m     27\u001b[0m                 \u001b[0mreview_input\u001b[0m \u001b[0;34m=\u001b[0m \u001b[0mreview\u001b[0m\u001b[0;34m.\u001b[0m\u001b[0mread\u001b[0m\u001b[0;34m(\u001b[0m\u001b[0;34m)\u001b[0m\u001b[0;34m.\u001b[0m\u001b[0mencode\u001b[0m\u001b[0;34m(\u001b[0m\u001b[0;34m'utf-8'\u001b[0m\u001b[0;34m)\u001b[0m\u001b[0;34m\u001b[0m\u001b[0;34m\u001b[0m\u001b[0m\n\u001b[1;32m     28\u001b[0m                 \u001b[0;31m# Send the review to the predictor and store the results\u001b[0m\u001b[0;34m\u001b[0m\u001b[0;34m\u001b[0m\u001b[0;34m\u001b[0m\u001b[0m\n\u001b[0;32m---> 29\u001b[0;31m                 \u001b[0mresults\u001b[0m\u001b[0;34m.\u001b[0m\u001b[0mappend\u001b[0m\u001b[0;34m(\u001b[0m\u001b[0mfloat\u001b[0m\u001b[0;34m(\u001b[0m\u001b[0mpredictor\u001b[0m\u001b[0;34m.\u001b[0m\u001b[0mpredict\u001b[0m\u001b[0;34m(\u001b[0m\u001b[0mreview_input\u001b[0m\u001b[0;34m)\u001b[0m\u001b[0;34m)\u001b[0m\u001b[0;34m)\u001b[0m\u001b[0;34m\u001b[0m\u001b[0;34m\u001b[0m\u001b[0m\n\u001b[0m\u001b[1;32m     30\u001b[0m \u001b[0;34m\u001b[0m\u001b[0m\n\u001b[1;32m     31\u001b[0m             \u001b[0;31m# Sending reviews to our endpoint one at a time takes a while so we\u001b[0m\u001b[0;34m\u001b[0m\u001b[0;34m\u001b[0m\u001b[0;34m\u001b[0m\u001b[0m\n",
      "\u001b[0;32m~/anaconda3/envs/pytorch_p36/lib/python3.6/site-packages/sagemaker/predictor.py\u001b[0m in \u001b[0;36mpredict\u001b[0;34m(self, data, initial_args, target_model, target_variant)\u001b[0m\n\u001b[1;32m    111\u001b[0m \u001b[0;34m\u001b[0m\u001b[0m\n\u001b[1;32m    112\u001b[0m         \u001b[0mrequest_args\u001b[0m \u001b[0;34m=\u001b[0m \u001b[0mself\u001b[0m\u001b[0;34m.\u001b[0m\u001b[0m_create_request_args\u001b[0m\u001b[0;34m(\u001b[0m\u001b[0mdata\u001b[0m\u001b[0;34m,\u001b[0m \u001b[0minitial_args\u001b[0m\u001b[0;34m,\u001b[0m \u001b[0mtarget_model\u001b[0m\u001b[0;34m,\u001b[0m \u001b[0mtarget_variant\u001b[0m\u001b[0;34m)\u001b[0m\u001b[0;34m\u001b[0m\u001b[0;34m\u001b[0m\u001b[0m\n\u001b[0;32m--> 113\u001b[0;31m         \u001b[0mresponse\u001b[0m \u001b[0;34m=\u001b[0m \u001b[0mself\u001b[0m\u001b[0;34m.\u001b[0m\u001b[0msagemaker_session\u001b[0m\u001b[0;34m.\u001b[0m\u001b[0msagemaker_runtime_client\u001b[0m\u001b[0;34m.\u001b[0m\u001b[0minvoke_endpoint\u001b[0m\u001b[0;34m(\u001b[0m\u001b[0;34m**\u001b[0m\u001b[0mrequest_args\u001b[0m\u001b[0;34m)\u001b[0m\u001b[0;34m\u001b[0m\u001b[0;34m\u001b[0m\u001b[0m\n\u001b[0m\u001b[1;32m    114\u001b[0m         \u001b[0;32mreturn\u001b[0m \u001b[0mself\u001b[0m\u001b[0;34m.\u001b[0m\u001b[0m_handle_response\u001b[0m\u001b[0;34m(\u001b[0m\u001b[0mresponse\u001b[0m\u001b[0;34m)\u001b[0m\u001b[0;34m\u001b[0m\u001b[0;34m\u001b[0m\u001b[0m\n\u001b[1;32m    115\u001b[0m \u001b[0;34m\u001b[0m\u001b[0m\n",
      "\u001b[0;32m~/anaconda3/envs/pytorch_p36/lib/python3.6/site-packages/botocore/client.py\u001b[0m in \u001b[0;36m_api_call\u001b[0;34m(self, *args, **kwargs)\u001b[0m\n\u001b[1;32m    384\u001b[0m                     \"%s() only accepts keyword arguments.\" % py_operation_name)\n\u001b[1;32m    385\u001b[0m             \u001b[0;31m# The \"self\" in this scope is referring to the BaseClient.\u001b[0m\u001b[0;34m\u001b[0m\u001b[0;34m\u001b[0m\u001b[0;34m\u001b[0m\u001b[0m\n\u001b[0;32m--> 386\u001b[0;31m             \u001b[0;32mreturn\u001b[0m \u001b[0mself\u001b[0m\u001b[0;34m.\u001b[0m\u001b[0m_make_api_call\u001b[0m\u001b[0;34m(\u001b[0m\u001b[0moperation_name\u001b[0m\u001b[0;34m,\u001b[0m \u001b[0mkwargs\u001b[0m\u001b[0;34m)\u001b[0m\u001b[0;34m\u001b[0m\u001b[0;34m\u001b[0m\u001b[0m\n\u001b[0m\u001b[1;32m    387\u001b[0m \u001b[0;34m\u001b[0m\u001b[0m\n\u001b[1;32m    388\u001b[0m         \u001b[0m_api_call\u001b[0m\u001b[0;34m.\u001b[0m\u001b[0m__name__\u001b[0m \u001b[0;34m=\u001b[0m \u001b[0mstr\u001b[0m\u001b[0;34m(\u001b[0m\u001b[0mpy_operation_name\u001b[0m\u001b[0;34m)\u001b[0m\u001b[0;34m\u001b[0m\u001b[0;34m\u001b[0m\u001b[0m\n",
      "\u001b[0;32m~/anaconda3/envs/pytorch_p36/lib/python3.6/site-packages/botocore/client.py\u001b[0m in \u001b[0;36m_make_api_call\u001b[0;34m(self, operation_name, api_params)\u001b[0m\n\u001b[1;32m    703\u001b[0m             \u001b[0merror_code\u001b[0m \u001b[0;34m=\u001b[0m \u001b[0mparsed_response\u001b[0m\u001b[0;34m.\u001b[0m\u001b[0mget\u001b[0m\u001b[0;34m(\u001b[0m\u001b[0;34m\"Error\"\u001b[0m\u001b[0;34m,\u001b[0m \u001b[0;34m{\u001b[0m\u001b[0;34m}\u001b[0m\u001b[0;34m)\u001b[0m\u001b[0;34m.\u001b[0m\u001b[0mget\u001b[0m\u001b[0;34m(\u001b[0m\u001b[0;34m\"Code\"\u001b[0m\u001b[0;34m)\u001b[0m\u001b[0;34m\u001b[0m\u001b[0;34m\u001b[0m\u001b[0m\n\u001b[1;32m    704\u001b[0m             \u001b[0merror_class\u001b[0m \u001b[0;34m=\u001b[0m \u001b[0mself\u001b[0m\u001b[0;34m.\u001b[0m\u001b[0mexceptions\u001b[0m\u001b[0;34m.\u001b[0m\u001b[0mfrom_code\u001b[0m\u001b[0;34m(\u001b[0m\u001b[0merror_code\u001b[0m\u001b[0;34m)\u001b[0m\u001b[0;34m\u001b[0m\u001b[0;34m\u001b[0m\u001b[0m\n\u001b[0;32m--> 705\u001b[0;31m             \u001b[0;32mraise\u001b[0m \u001b[0merror_class\u001b[0m\u001b[0;34m(\u001b[0m\u001b[0mparsed_response\u001b[0m\u001b[0;34m,\u001b[0m \u001b[0moperation_name\u001b[0m\u001b[0;34m)\u001b[0m\u001b[0;34m\u001b[0m\u001b[0;34m\u001b[0m\u001b[0m\n\u001b[0m\u001b[1;32m    706\u001b[0m         \u001b[0;32melse\u001b[0m\u001b[0;34m:\u001b[0m\u001b[0;34m\u001b[0m\u001b[0;34m\u001b[0m\u001b[0m\n\u001b[1;32m    707\u001b[0m             \u001b[0;32mreturn\u001b[0m \u001b[0mparsed_response\u001b[0m\u001b[0;34m\u001b[0m\u001b[0;34m\u001b[0m\u001b[0m\n",
      "\u001b[0;31mModelError\u001b[0m: An error occurred (ModelError) when calling the InvokeEndpoint operation: Received server error (500) from primary with message \"<html>\n  <head>\n    <title>Internal Server Error</title>\n  </head>\n  <body>\n    <h1><p>Internal Server Error</p></h1>\n    \n  </body>\n</html>\n\". See https://us-east-2.console.aws.amazon.com/cloudwatch/home?region=us-east-2#logEventViewer:group=/aws/sagemaker/Endpoints/sagemaker-pytorch-2021-08-18-15-40-05-172 in account 830472586638 for more information."
     ]
    }
   ],
   "source": [
    "ground, results = test_reviews()"
   ]
  },
  {
   "cell_type": "code",
   "execution_count": null,
   "metadata": {},
   "outputs": [],
   "source": [
    "from sklearn.metrics import accuracy_score\n",
    "accuracy_score(ground, results)"
   ]
  },
  {
   "cell_type": "markdown",
   "metadata": {},
   "source": [
    "As an additional test, we can try sending the `test_review` that we looked at earlier."
   ]
  },
  {
   "cell_type": "code",
   "execution_count": null,
   "metadata": {},
   "outputs": [],
   "source": [
    "predictor.predict(test_review)"
   ]
  },
  {
   "cell_type": "markdown",
   "metadata": {},
   "source": [
    "Now that we know our endpoint is working as expected, we can set up the web page that will interact with it. If you don't have time to finish the project now, make sure to skip down to the end of this notebook and shut down your endpoint. You can deploy it again when you come back."
   ]
  },
  {
   "cell_type": "markdown",
   "metadata": {},
   "source": [
    "## Step 7 (again): Use the model for the web app\n",
    "\n",
    "> **TODO:** This entire section and the next contain tasks for you to complete, mostly using the AWS console.\n",
    "\n",
    "So far we have been accessing our model endpoint by constructing a predictor object which uses the endpoint and then just using the predictor object to perform inference. What if we wanted to create a web app which accessed our model? The way things are set up currently makes that not possible since in order to access a SageMaker endpoint the app would first have to authenticate with AWS using an IAM role which included access to SageMaker endpoints. However, there is an easier way! We just need to use some additional AWS services.\n",
    "\n",
    "<img src=\"Web App Diagram.svg\">\n",
    "\n",
    "The diagram above gives an overview of how the various services will work together. On the far right is the model which we trained above and which is deployed using SageMaker. On the far left is our web app that collects a user's movie review, sends it off and expects a positive or negative sentiment in return.\n",
    "\n",
    "In the middle is where some of the magic happens. We will construct a Lambda function, which you can think of as a straightforward Python function that can be executed whenever a specified event occurs. We will give this function permission to send and recieve data from a SageMaker endpoint.\n",
    "\n",
    "Lastly, the method we will use to execute the Lambda function is a new endpoint that we will create using API Gateway. This endpoint will be a url that listens for data to be sent to it. Once it gets some data it will pass that data on to the Lambda function and then return whatever the Lambda function returns. Essentially it will act as an interface that lets our web app communicate with the Lambda function.\n",
    "\n",
    "### Setting up a Lambda function\n",
    "\n",
    "The first thing we are going to do is set up a Lambda function. This Lambda function will be executed whenever our public API has data sent to it. When it is executed it will receive the data, perform any sort of processing that is required, send the data (the review) to the SageMaker endpoint we've created and then return the result.\n",
    "\n",
    "#### Part A: Create an IAM Role for the Lambda function\n",
    "\n",
    "Since we want the Lambda function to call a SageMaker endpoint, we need to make sure that it has permission to do so. To do this, we will construct a role that we can later give the Lambda function.\n",
    "\n",
    "Using the AWS Console, navigate to the **IAM** page and click on **Roles**. Then, click on **Create role**. Make sure that the **AWS service** is the type of trusted entity selected and choose **Lambda** as the service that will use this role, then click **Next: Permissions**.\n",
    "\n",
    "In the search box type `sagemaker` and select the check box next to the **AmazonSageMakerFullAccess** policy. Then, click on **Next: Review**.\n",
    "\n",
    "Lastly, give this role a name. Make sure you use a name that you will remember later on, for example `LambdaSageMakerRole`. Then, click on **Create role**.\n",
    "\n",
    "#### Part B: Create a Lambda function\n",
    "\n",
    "Now it is time to actually create the Lambda function.\n",
    "\n",
    "Using the AWS Console, navigate to the AWS Lambda page and click on **Create a function**. When you get to the next page, make sure that **Author from scratch** is selected. Now, name your Lambda function, using a name that you will remember later on, for example `sentiment_analysis_func`. Make sure that the **Python 3.6** runtime is selected and then choose the role that you created in the previous part. Then, click on **Create Function**.\n",
    "\n",
    "On the next page you will see some information about the Lambda function you've just created. If you scroll down you should see an editor in which you can write the code that will be executed when your Lambda function is triggered. In our example, we will use the code below. \n",
    "\n",
    "```python\n",
    "# We need to use the low-level library to interact with SageMaker since the SageMaker API\n",
    "# is not available natively through Lambda.\n",
    "import boto3\n",
    "\n",
    "def lambda_handler(event, context):\n",
    "\n",
    "    # The SageMaker runtime is what allows us to invoke the endpoint that we've created.\n",
    "    runtime = boto3.Session().client('sagemaker-runtime')\n",
    "\n",
    "    # Now we use the SageMaker runtime to invoke our endpoint, sending the review we were given\n",
    "    response = runtime.invoke_endpoint(EndpointName = '**ENDPOINT NAME HERE**',    # The name of the endpoint we created\n",
    "                                       ContentType = 'text/plain',                 # The data format that is expected\n",
    "                                       Body = event['body'])                       # The actual review\n",
    "\n",
    "    # The response is an HTTP response whose body contains the result of our inference\n",
    "    result = response['Body'].read().decode('utf-8')\n",
    "\n",
    "    return {\n",
    "        'statusCode' : 200,\n",
    "        'headers' : { 'Content-Type' : 'text/plain', 'Access-Control-Allow-Origin' : '*' },\n",
    "        'body' : result\n",
    "    }\n",
    "```\n",
    "\n",
    "Once you have copy and pasted the code above into the Lambda code editor, replace the `**ENDPOINT NAME HERE**` portion with the name of the endpoint that we deployed earlier. You can determine the name of the endpoint using the code cell below."
   ]
  },
  {
   "cell_type": "code",
   "execution_count": null,
   "metadata": {},
   "outputs": [],
   "source": [
    "predictor.endpoint"
   ]
  },
  {
   "cell_type": "markdown",
   "metadata": {},
   "source": [
    "Once you have added the endpoint name to the Lambda function, click on **Save**. Your Lambda function is now up and running. Next we need to create a way for our web app to execute the Lambda function.\n",
    "\n",
    "### Setting up API Gateway\n",
    "\n",
    "Now that our Lambda function is set up, it is time to create a new API using API Gateway that will trigger the Lambda function we have just created.\n",
    "\n",
    "Using AWS Console, navigate to **Amazon API Gateway** and then click on **Get started**.\n",
    "\n",
    "On the next page, make sure that **New API** is selected and give the new api a name, for example, `sentiment_analysis_api`. Then, click on **Create API**.\n",
    "\n",
    "Now we have created an API, however it doesn't currently do anything. What we want it to do is to trigger the Lambda function that we created earlier.\n",
    "\n",
    "Select the **Actions** dropdown menu and click **Create Method**. A new blank method will be created, select its dropdown menu and select **POST**, then click on the check mark beside it.\n",
    "\n",
    "For the integration point, make sure that **Lambda Function** is selected and click on the **Use Lambda Proxy integration**. This option makes sure that the data that is sent to the API is then sent directly to the Lambda function with no processing. It also means that the return value must be a proper response object as it will also not be processed by API Gateway.\n",
    "\n",
    "Type the name of the Lambda function you created earlier into the **Lambda Function** text entry box and then click on **Save**. Click on **OK** in the pop-up box that then appears, giving permission to API Gateway to invoke the Lambda function you created.\n",
    "\n",
    "The last step in creating the API Gateway is to select the **Actions** dropdown and click on **Deploy API**. You will need to create a new Deployment stage and name it anything you like, for example `prod`.\n",
    "\n",
    "You have now successfully set up a public API to access your SageMaker model. Make sure to copy or write down the URL provided to invoke your newly created public API as this will be needed in the next step. This URL can be found at the top of the page, highlighted in blue next to the text **Invoke URL**."
   ]
  },
  {
   "cell_type": "markdown",
   "metadata": {},
   "source": [
    "## Step 4: Deploying our web app\n",
    "\n",
    "Now that we have a publicly available API, we can start using it in a web app. For our purposes, we have provided a simple static html file which can make use of the public api you created earlier.\n",
    "\n",
    "In the `website` folder there should be a file called `index.html`. Download the file to your computer and open that file up in a text editor of your choice. There should be a line which contains **\\*\\*REPLACE WITH PUBLIC API URL\\*\\***. Replace this string with the url that you wrote down in the last step and then save the file.\n",
    "\n",
    "Now, if you open `index.html` on your local computer, your browser will behave as a local web server and you can use the provided site to interact with your SageMaker model.\n",
    "\n",
    "If you'd like to go further, you can host this html file anywhere you'd like, for example using github or hosting a static site on Amazon's S3. Once you have done this you can share the link with anyone you'd like and have them play with it too!\n",
    "\n",
    "> **Important Note** In order for the web app to communicate with the SageMaker endpoint, the endpoint has to actually be deployed and running. This means that you are paying for it. Make sure that the endpoint is running when you want to use the web app but that you shut it down when you don't need it, otherwise you will end up with a surprisingly large AWS bill.\n",
    "\n",
    "**TODO:** Make sure that you include the edited `index.html` file in your project submission."
   ]
  },
  {
   "cell_type": "markdown",
   "metadata": {},
   "source": [
    "Now that your web app is working, trying playing around with it and see how well it works.\n",
    "\n",
    "**Question**: Give an example of a review that you entered into your web app. What was the predicted sentiment of your example review?"
   ]
  },
  {
   "cell_type": "markdown",
   "metadata": {},
   "source": [
    "**Answer:**"
   ]
  },
  {
   "cell_type": "markdown",
   "metadata": {},
   "source": [
    "### Delete the endpoint\n",
    "\n",
    "Remember to always shut down your endpoint if you are no longer using it. You are charged for the length of time that the endpoint is running so if you forget and leave it on you could end up with an unexpectedly large bill."
   ]
  },
  {
   "cell_type": "code",
   "execution_count": null,
   "metadata": {},
   "outputs": [],
   "source": [
    "predictor.delete_endpoint()"
   ]
  },
  {
   "cell_type": "code",
   "execution_count": null,
   "metadata": {},
   "outputs": [],
   "source": []
  }
 ],
 "metadata": {
  "kernelspec": {
   "display_name": "conda_pytorch_p36",
   "language": "python",
   "name": "conda_pytorch_p36"
  },
  "language_info": {
   "codemirror_mode": {
    "name": "ipython",
    "version": 3
   },
   "file_extension": ".py",
   "mimetype": "text/x-python",
   "name": "python",
   "nbconvert_exporter": "python",
   "pygments_lexer": "ipython3",
   "version": "3.6.13"
  }
 },
 "nbformat": 4,
 "nbformat_minor": 2
}
